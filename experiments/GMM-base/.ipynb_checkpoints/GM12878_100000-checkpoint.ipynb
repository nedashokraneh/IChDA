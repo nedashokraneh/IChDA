{
 "cells": [
  {
   "cell_type": "code",
   "execution_count": 2,
   "metadata": {},
   "outputs": [],
   "source": [
    "import sys\n",
    "sys.path.append(\"../../src/\")\n",
    "sys.path.append(\"../../utilities/\")\n",
    "import dataset_class\n",
    "from dataset_class import dataset\n",
    "import data_utils\n",
    "from importlib import reload\n",
    "dataset_class = reload(dataset_class)\n",
    "from dataset_class import dataset\n",
    "import numpy as np\n",
    "import pandas as pd\n",
    "import seaborn as sns\n",
    "from scipy.special import logsumexp\n",
    "from main_GPR import GMM_MP"
   ]
  },
  {
   "cell_type": "code",
   "execution_count": 3,
   "metadata": {},
   "outputs": [
    {
     "name": "stdout",
     "output_type": "stream",
     "text": [
      "mp graph file exists...\n",
      "mp transduction file exists...\n"
     ]
    }
   ],
   "source": [
    "signals_path = \"../../alternatives/SPIN-master/data/test_input_chr1.txt\"\n",
    "bins_path = \"../../alternatives/SPIN-master/data/test_bin_chr1.bed\"\n",
    "hic_path = \"../../alternatives/SPIN-master/data/test_Hi-C_chr1.txt\"\n",
    "gmm_mp_args = {\"i\": signals_path, \"e\": hic_path, \"g\": bins_path, \"r\": 1, \"n\": 5, \n",
    "              \"il\": 5, \"ml\": 5, \"w\": 1, \"o\": 'mp', \"mp\": '../../alternatives/segway-gbr-master/measureProp/MP_large_scale'}\n",
    "gmm_mp = GMM_MP(gmm_mp_args)\n",
    "gmm_mp.write_mp_graph()"
   ]
  },
  {
   "cell_type": "code",
   "execution_count": 4,
   "metadata": {},
   "outputs": [],
   "source": [
    "gmm_mp.GMM_train()\n",
    "gmm_mp.GMM_inference(0)\n",
    "gmm_mp.write_mp_post(1)\n",
    "gmm_mp.run_measure_prop(1)\n",
    "gmm_mp.read_mp_post(1)\n",
    "gmm_mp.GMM_inference(1)"
   ]
  },
  {
   "cell_type": "code",
   "execution_count": 8,
   "metadata": {},
   "outputs": [
    {
     "data": {
      "text/plain": [
       "array([3, 3, 3, ..., 2, 2, 2])"
      ]
     },
     "execution_count": 8,
     "metadata": {},
     "output_type": "execute_result"
    }
   ],
   "source": [
    "np.argmax(gmm_mp.posterior_probs, axis = 1)"
   ]
  }
 ],
 "metadata": {
  "kernelspec": {
   "display_name": "embedding",
   "language": "python",
   "name": "embedding"
  },
  "language_info": {
   "codemirror_mode": {
    "name": "ipython",
    "version": 3
   },
   "file_extension": ".py",
   "mimetype": "text/x-python",
   "name": "python",
   "nbconvert_exporter": "python",
   "pygments_lexer": "ipython3",
   "version": "3.6.15"
  }
 },
 "nbformat": 4,
 "nbformat_minor": 2
}
