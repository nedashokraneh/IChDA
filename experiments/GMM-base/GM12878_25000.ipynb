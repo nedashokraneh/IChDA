{
 "cells": [
  {
   "cell_type": "code",
   "execution_count": 1,
   "metadata": {},
   "outputs": [],
   "source": [
    "import sys\n",
    "sys.path.append(\"../../src/\")\n",
    "sys.path.append(\"../../utilities/\")\n",
    "import dataset_class\n",
    "from dataset_class import dataset\n",
    "import data_utils\n",
    "from importlib import reload\n",
    "dataset_class = reload(dataset_class)\n",
    "from dataset_class import dataset\n",
    "import numpy as np\n",
    "import pandas as pd\n",
    "import seaborn as sns\n",
    "from scipy.special import logsumexp\n",
    "from GMM_GBR import GMM_MP\n",
    "import mrf_util\n",
    "from mrf import MarkovRandomField\n",
    "from hmmlearn import hmm"
   ]
  },
  {
   "cell_type": "code",
   "execution_count": 2,
   "metadata": {},
   "outputs": [],
   "source": [
    "GM12878_signals_names = ['DNase', 'H3K4me2', 'H3K27ac', 'H2A.Z', 'H3K9me3', 'H3K4me1', 'H3K27me3', 'H3K9ac', 'H3K4me3', 'H3K36me3', 'H3K79me2', 'H4K20me1']\n",
    "GM12878_dataset = dataset('GM12878', 'hg19', 25000, '../../data/GM12878/hg19/Hi-C/GSE63525_GM12878_insitu_primary_30.hic',\n",
    "                 '../../utilities/juicer_tools_1.22.01.jar', '../../data/GM12878/hg19/Hi-C/res25000',\n",
    "                 GM12878_signals_names, '../../data/GM12878/hg19/genomic-assays/bin_25000/', \n",
    "                  '../../data/GM12878/hg19/res25000_datasets/',\n",
    "                  '../../data/', '../../utilities/config.json')\n",
    "GM12878_dataset.load_pos2ind_and_ind2pos_maps('../../data/valid_bins/hg19/GM12878_25000_bins.txt')\n",
    "#GM12878_dataset.generate_signals_and_bin_files()"
   ]
  },
  {
   "cell_type": "code",
   "execution_count": 3,
   "metadata": {},
   "outputs": [],
   "source": [
    "signal_path = '../../data/GM12878/hg19/res25000_datasets/signals.txt'\n",
    "bin_path = '../../data/GM12878/hg19/res25000_datasets/bin.txt'\n",
    "genomedata_path = '../../data/GM12878/hg19/res25000_datasets/signals.genomedata'\n",
    "data_utils.InputsAndBins_to_genomedata(signal_path, GM12878_signals_names, bin_path, 'hg19', 25000, genomedata_path)"
   ]
  }
 ],
 "metadata": {
  "kernelspec": {
   "display_name": "embedding",
   "language": "python",
   "name": "embedding"
  },
  "language_info": {
   "codemirror_mode": {
    "name": "ipython",
    "version": 3
   },
   "file_extension": ".py",
   "mimetype": "text/x-python",
   "name": "python",
   "nbconvert_exporter": "python",
   "pygments_lexer": "ipython3",
   "version": "3.6.15"
  }
 },
 "nbformat": 4,
 "nbformat_minor": 2
}
