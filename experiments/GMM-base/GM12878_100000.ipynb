{
 "cells": [
  {
   "cell_type": "code",
   "execution_count": 27,
   "metadata": {},
   "outputs": [],
   "source": [
    "import os\n",
    "import sys\n",
    "sys.path.append(\"../../src/\")\n",
    "sys.path.append(\"../../utilities/\")\n",
    "import dataset_class\n",
    "from dataset_class import dataset\n",
    "import data_utils\n",
    "from importlib import reload\n",
    "dataset_class = reload(dataset_class)\n",
    "from dataset_class import dataset\n",
    "import numpy as np\n",
    "import pandas as pd\n",
    "import seaborn as sns\n",
    "from scipy.special import logsumexp\n",
    "from sklearn.cluster import KMeans\n",
    "from sklearn.mixture import GaussianMixture\n",
    "from GMM_GBR import GMM_MP\n",
    "import mrf_util\n",
    "from mrf import MarkovRandomField\n",
    "from hmmlearn import hmm"
   ]
  },
  {
   "cell_type": "code",
   "execution_count": 6,
   "metadata": {},
   "outputs": [],
   "source": [
    "GM12878_signals_names = ['DNase', 'H3K4me2', 'H3K27ac', 'H2A.Z', 'H3K9me3', 'H3K4me1', 'H3K27me3', 'H3K9ac', 'H3K4me3', 'H3K36me3', 'H3K79me2', 'H4K20me1']\n",
    "GM12878_dataset = dataset('GM12878', 'hg19', 100000, '../../data/GM12878/hg19/Hi-C/GSE63525_GM12878_insitu_primary_30.hic',\n",
    "                 '../../utilities/juicer_tools_1.22.01.jar', '../../data/GM12878/hg19/Hi-C/res100000',\n",
    "                 GM12878_signals_names, '../../data/GM12878/hg19/genomic-assays/bin_100000/', \n",
    "                  '../../data/GM12878/hg19/res100000_datasets/',\n",
    "                  '../../data/', '../../utilities/config.json')\n",
    "GM12878_dataset.load_pos2ind_and_ind2pos_maps('../../data/valid_bins/hg19/GM12878_100000_bins.txt')"
   ]
  },
  {
   "cell_type": "code",
   "execution_count": 5,
   "metadata": {},
   "outputs": [],
   "source": [
    "'''\n",
    "signal_path = '../../data/GM12878/hg19/res100000_datasets/signals.txt'\n",
    "bin_path = '../../data/GM12878/hg19/res100000_datasets/bin.txt'\n",
    "genomedata_path = '../../data/GM12878/hg19/res100000_datasets/signals.genomedata'\n",
    "data_utils.InputsAndBins_to_genomedata(signal_path, GM12878_signals_names, bin_path, 'hg19', 100000, genomedata_path)\n",
    "signal_path = '../../data/GM12878/hg19/res100000_datasets/structural_signals.txt'\n",
    "bin_path = '../../data/GM12878/hg19/res100000_datasets/bin.txt'\n",
    "genomedata_path = '../../data/GM12878/hg19/res100000_datasets/structural_signals.genomedata'\n",
    "signals_names = ['emb{}'.format(e) for e in np.arange(1,9)]\n",
    "data_utils.InputsAndBins_to_genomedata(signal_path, signals_names, bin_path, 'hg19', 100000, genomedata_path)\n",
    "'''"
   ]
  },
  {
   "cell_type": "code",
   "execution_count": 19,
   "metadata": {},
   "outputs": [],
   "source": [
    "#signals_path = \"../../alternatives/SPIN-master/data/test_input_chr1.txt\"\n",
    "#bins_path = \"../../alternatives/SPIN-master/data/test_bin_chr1.bed\"\n",
    "#hic_path = \"../../alternatives/SPIN-master/data/test_Hi-C_chr1.txt\"\n",
    "functional_signals_path = \"../../data/GM12878/hg19/res100000_datasets/signals.txt\"\n",
    "structural_signals_path = \"../../data/GM12878/hg19/res100000_datasets/structural_signals.txt\"\n",
    "bins_path = \"../../data/GM12878/hg19/res100000_datasets/bin.txt\"\n",
    "short_hic_path = \"../../data/GM12878/hg19/res100000_datasets/short_range_interactions.txt\"\n",
    "long_hic_path = \"../../data/GM12878/hg19/res100000_datasets/long_range_interactions.txt\"\n",
    "k=8\n",
    "annotation_dir = \"../../data/GM12878/hg19/res100000_datasets/annotations/K=8/\""
   ]
  },
  {
   "cell_type": "code",
   "execution_count": 13,
   "metadata": {},
   "outputs": [],
   "source": [
    "functional_signals = np.loadtxt(functional_signals_path)\n",
    "structural_signals = np.loadtxt(structural_signals_path)\n",
    "lengths = GM12878_dataset.get_chunks_lengths()\n",
    "signals = np.concatenate((functional_signals, structural_signals), axis = 1)"
   ]
  },
  {
   "cell_type": "markdown",
   "metadata": {},
   "source": [
    "# KMeans"
   ]
  },
  {
   "cell_type": "code",
   "execution_count": 21,
   "metadata": {},
   "outputs": [],
   "source": [
    "kmeans = KMeans(n_clusters=k, random_state=0).fit(functional_signals)\n",
    "l = kmeans.labels_\n",
    "GM12878_dataset.write_annotation(l, 'kmeans_functional', annotation_dir)\n",
    "\n",
    "kmeans = KMeans(n_clusters=k, random_state=0).fit(structural_signals)\n",
    "l = kmeans.labels_\n",
    "GM12878_dataset.write_annotation(l, 'kmeans_structural', annotation_dir)\n",
    "\n",
    "kmeans = KMeans(n_clusters=k, random_state=0).fit(signals)\n",
    "l = kmeans.labels_\n",
    "GM12878_dataset.write_annotation(l, 'kmeans_combined', annotation_dir)"
   ]
  },
  {
   "cell_type": "markdown",
   "metadata": {},
   "source": [
    "# GMM"
   ]
  },
  {
   "cell_type": "code",
   "execution_count": 22,
   "metadata": {},
   "outputs": [],
   "source": [
    "gmm = GaussianMixture(n_components=k, random_state=0).fit(functional_signals)\n",
    "l = gmm.predict(functional_signals)\n",
    "GM12878_dataset.write_annotation(l, 'GMM_functional', annotation_dir)\n",
    "\n",
    "gmm = GaussianMixture(n_components=k, random_state=0).fit(structural_signals)\n",
    "l = gmm.predict(structural_signals)\n",
    "GM12878_dataset.write_annotation(l, 'GMM_structural', annotation_dir)\n",
    "\n",
    "gmm = GaussianMixture(n_components=k, random_state=0).fit(signals)\n",
    "l = gmm.predict(signals)\n",
    "GM12878_dataset.write_annotation(l, 'GMM_combined', annotation_dir)"
   ]
  },
  {
   "cell_type": "markdown",
   "metadata": {},
   "source": [
    "# HMM (Viterbi)"
   ]
  },
  {
   "cell_type": "code",
   "execution_count": 23,
   "metadata": {},
   "outputs": [],
   "source": [
    "gmm_hmm_viterbi = hmm.GaussianHMM(n_components=k, covariance_type = 'full', algorithm='viterbi')\n",
    "gmm_hmm_viterbi.fit(functional_signals, lengths)\n",
    "l = gmm_hmm_viterbi.predict(functional_signals, lengths)\n",
    "GM12878_dataset.write_annotation(l, 'HMM_viterbi_functional', annotation_dir)\n",
    "\n",
    "gmm_hmm_viterbi = hmm.GaussianHMM(n_components=k, covariance_type = 'full', algorithm='viterbi')\n",
    "gmm_hmm_viterbi.fit(structural_signals, lengths)\n",
    "l = gmm_hmm_viterbi.predict(structural_signals, lengths)\n",
    "GM12878_dataset.write_annotation(l, 'HMM_viterbi_structural', annotation_dir)\n",
    "\n",
    "gmm_hmm_viterbi = hmm.GaussianHMM(n_components=k, covariance_type = 'full', algorithm='viterbi')\n",
    "gmm_hmm_viterbi.fit(signals, lengths)\n",
    "l = gmm_hmm_viterbi.predict(signals, lengths)\n",
    "GM12878_dataset.write_annotation(l, 'HMM_viterbi_combined', annotation_dir)"
   ]
  },
  {
   "cell_type": "markdown",
   "metadata": {},
   "source": [
    "# HMM (MAP)"
   ]
  },
  {
   "cell_type": "code",
   "execution_count": 24,
   "metadata": {},
   "outputs": [],
   "source": [
    "gmm_hmm_map = hmm.GaussianHMM(n_components=k, covariance_type = 'full', algorithm='map')\n",
    "gmm_hmm_map.fit(functional_signals, lengths)\n",
    "l = gmm_hmm_map.predict(functional_signals, lengths)\n",
    "GM12878_dataset.write_annotation(l, 'HMM_map_functional', annotation_dir)\n",
    "\n",
    "gmm_hmm_map = hmm.GaussianHMM(n_components=k, covariance_type = 'full', algorithm='map')\n",
    "gmm_hmm_map.fit(structural_signals, lengths)\n",
    "l = gmm_hmm_map.predict(structural_signals, lengths)\n",
    "GM12878_dataset.write_annotation(l, 'HMM_map_structural', annotation_dir)\n",
    "\n",
    "gmm_hmm_map = hmm.GaussianHMM(n_components=k, covariance_type = 'full', algorithm='map')\n",
    "gmm_hmm_map.fit(signals, lengths)\n",
    "l = gmm_hmm_map.predict(signals, lengths)\n",
    "GM12878_dataset.write_annotation(l, 'HMM_map_combined', annotation_dir)"
   ]
  },
  {
   "cell_type": "markdown",
   "metadata": {},
   "source": [
    "# GMM-GBR (short)"
   ]
  },
  {
   "cell_type": "code",
   "execution_count": 25,
   "metadata": {},
   "outputs": [
    {
     "name": "stdout",
     "output_type": "stream",
     "text": [
      "writing mp graph file...\n",
      "writing mp transduction file...\n"
     ]
    }
   ],
   "source": [
    "short_gmm_mp_args = {\"i\": functional_signals_path, \"e\": short_hic_path, \"g\": bins_path, \"r\": 1, \"n\": k, \n",
    "              \"il\": 5, \"ml\": 5, \"w\": 1, \"o\": 'GM12878_res100000_mp', \"mp\": '../../alternatives/segway-gbr-master/measureProp/MP_large_scale'}\n",
    "short_gmm_mp = GMM_MP(short_gmm_mp_args)\n",
    "short_gmm_mp.write_mp_graph()\n",
    "short_gmm_mp.GMM_train()\n",
    "short_gmm_mp.GMM_inference(0)\n",
    "for l in range(10):\n",
    "    short_gmm_mp.write_mp_post(l+1)\n",
    "    short_gmm_mp.run_measure_prop(l+1)\n",
    "    short_gmm_mp.read_mp_post(l+1)\n",
    "    short_gmm_mp.GMM_inference(l+1)\n",
    "    \n",
    "for i in range(10):\n",
    "    GM12878_dataset.write_annotation(short_gmm_mp.iters_labels[i], 'short_gbr_{}'.format(i), \n",
    "                                    os.path.join(annotation_dir, 'short_gbr'))"
   ]
  },
  {
   "cell_type": "markdown",
   "metadata": {},
   "source": [
    "# GMM-GBR (long)"
   ]
  },
  {
   "cell_type": "code",
   "execution_count": 29,
   "metadata": {},
   "outputs": [
    {
     "name": "stdout",
     "output_type": "stream",
     "text": [
      "writing mp graph file...\n",
      "writing mp transduction file...\n"
     ]
    }
   ],
   "source": [
    "long_gmm_mp_args = {\"i\": functional_signals_path, \"e\": long_hic_path, \"g\": bins_path, \"r\": 1, \"n\": k, \n",
    "              \"il\": 5, \"ml\": 5, \"w\": 1, \"o\": 'GM12878_res100000_mp', \"mp\": '../../alternatives/segway-gbr-master/measureProp/MP_large_scale'}\n",
    "long_gmm_mp = GMM_MP(long_gmm_mp_args)\n",
    "long_gmm_mp.write_mp_graph()\n",
    "long_gmm_mp.GMM_train()\n",
    "long_gmm_mp.GMM_inference(0)\n",
    "for l in range(10):\n",
    "    long_gmm_mp.write_mp_post(l+1)\n",
    "    long_gmm_mp.run_measure_prop(l+1)\n",
    "    long_gmm_mp.read_mp_post(l+1)\n",
    "    long_gmm_mp.GMM_inference(l+1)\n",
    "    \n",
    "for i in range(10):\n",
    "    GM12878_dataset.write_annotation(long_gmm_mp.iters_labels[i], 'long_gbr_{}'.format(i), \n",
    "                                    os.path.join(annotation_dir, 'long_gbr'))"
   ]
  },
  {
   "cell_type": "markdown",
   "metadata": {},
   "source": [
    "# GMM-MRF (short)"
   ]
  },
  {
   "cell_type": "code",
   "execution_count": 31,
   "metadata": {},
   "outputs": [],
   "source": [
    "mrf_signals = mrf_util.readData(functional_signals_path)\n",
    "mrf_bins = mrf_util.readBedGraph(bins_path)\n",
    "n = mrf_signals.shape[0]"
   ]
  },
  {
   "cell_type": "code",
   "execution_count": 32,
   "metadata": {},
   "outputs": [],
   "source": [
    "mrf_short_hic = mrf_util.create_hic_matrix(short_hic_path, n, True)\n",
    "short_hmrf = MarkovRandomField(n, mrf_short_hic, mrf_signals, 'mrf', k, 10, 0.01)\n",
    "short_hmrf.init_gmm()\n",
    "short_hmrf.init_trans()\n",
    "short_hmrf.solve()"
   ]
  },
  {
   "cell_type": "code",
   "execution_count": 33,
   "metadata": {},
   "outputs": [],
   "source": [
    "for i in range(10):\n",
    "    GM12878_dataset.write_annotation(short_hmrf.iters_labels[i], 'short_hmrf_{}'.format(i), \n",
    "                                    os.path.join(annotation_dir, 'short_hmrf'))"
   ]
  },
  {
   "cell_type": "markdown",
   "metadata": {},
   "source": [
    "# GMM-MRF (long)"
   ]
  },
  {
   "cell_type": "code",
   "execution_count": 34,
   "metadata": {},
   "outputs": [],
   "source": [
    "mrf_long_hic = mrf_util.create_hic_matrix(long_hic_path, n, True)\n",
    "long_hmrf = MarkovRandomField(n, mrf_long_hic, mrf_signals, 'mrf', k, 10, 0.01)\n",
    "long_hmrf.init_gmm()\n",
    "long_hmrf.init_trans()\n",
    "long_hmrf.solve()"
   ]
  },
  {
   "cell_type": "code",
   "execution_count": 35,
   "metadata": {
    "scrolled": true
   },
   "outputs": [],
   "source": [
    "for i in range(10):\n",
    "    GM12878_dataset.write_annotation(long_hmrf.iters_labels[i], 'long_hmrf_{}'.format(i), \n",
    "                                    os.path.join(annotation_dir, 'long_hmrf'))"
   ]
  },
  {
   "cell_type": "markdown",
   "metadata": {},
   "source": [
    "# Segway"
   ]
  },
  {
   "cell_type": "code",
   "execution_count": null,
   "metadata": {},
   "outputs": [],
   "source": []
  },
  {
   "cell_type": "code",
   "execution_count": 8,
   "metadata": {},
   "outputs": [],
   "source": [
    "from scipy.stats import entropy\n",
    "hic = np.loadtxt(hic_path, dtype = int)\n",
    "def labels_stat(hic, labels):\n",
    "    first_label = [labels[p] for p in hic[:,0]]\n",
    "    second_label = [labels[p] for p in hic[:,1]]\n",
    "    same_ratio = sum([f==s for f,s in zip(first_label,second_label)])/len(first_label)\n",
    "    _, label_counts = np.unique(labels, return_counts = True)\n",
    "    labels_entropy = entropy(label_counts, base=None)\n",
    "    return {'same_ratio': same_ratio, 'labels_entropy': labels_entropy}\n",
    "for l in range(10):\n",
    "    print('label stats at iteration {}: {}'.format(l, labels_stat(hic, hmrf.iters_labels[l])))"
   ]
  },
  {
   "cell_type": "code",
   "execution_count": 10,
   "metadata": {
    "scrolled": true
   },
   "outputs": [
    {
     "name": "stdout",
     "output_type": "stream",
     "text": [
      "label stats at iteration 0: {'same_ratio': 0.4619559936142153, 'labels_entropy': 2.0545440390338894}\n",
      "label stats at iteration 1: {'same_ratio': 0.6298604844867078, 'labels_entropy': 1.6467841980619295}\n",
      "label stats at iteration 2: {'same_ratio': 0.6926910529603665, 'labels_entropy': 1.3694052968864807}\n",
      "label stats at iteration 3: {'same_ratio': 0.7316026931352815, 'labels_entropy': 1.1868553103027182}\n",
      "label stats at iteration 4: {'same_ratio': 0.7750537932949261, 'labels_entropy': 1.0448920160823907}\n",
      "label stats at iteration 5: {'same_ratio': 0.8198098146734226, 'labels_entropy': 0.956859175876129}\n",
      "label stats at iteration 6: {'same_ratio': 0.8715207885055876, 'labels_entropy': 0.8098756344707698}\n",
      "label stats at iteration 7: {'same_ratio': 0.9196501700562226, 'labels_entropy': 0.6422419811272213}\n",
      "label stats at iteration 8: {'same_ratio': 0.9524120219337822, 'labels_entropy': 0.5105077865711872}\n",
      "label stats at iteration 9: {'same_ratio': 0.9784410356076907, 'labels_entropy': 0.41469308481898254}\n"
     ]
    }
   ],
   "source": [
    "for l in range(10):\n",
    "    print('label stats at iteration {}: {}'.format(l, labels_stat(hic, hmrf.iters_labels[l])))"
   ]
  }
 ],
 "metadata": {
  "kernelspec": {
   "display_name": "embedding",
   "language": "python",
   "name": "embedding"
  },
  "language_info": {
   "codemirror_mode": {
    "name": "ipython",
    "version": 3
   },
   "file_extension": ".py",
   "mimetype": "text/x-python",
   "name": "python",
   "nbconvert_exporter": "python",
   "pygments_lexer": "ipython3",
   "version": "3.6.15"
  }
 },
 "nbformat": 4,
 "nbformat_minor": 2
}
