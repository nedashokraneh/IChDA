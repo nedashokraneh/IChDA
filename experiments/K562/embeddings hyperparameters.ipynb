{
 "cells": [
  {
   "cell_type": "code",
   "execution_count": 28,
   "id": "bfac12d0",
   "metadata": {},
   "outputs": [],
   "source": [
    "import os\n",
    "import sys \n",
    "sys.path.append('../../utilities/')\n",
    "import data_utils, evaluation_utils\n",
    "sys.path.append('../../src')\n",
    "from dataset_class import dataset\n",
    "import pandas as pd\n",
    "import numpy as np\n",
    "import umap\n",
    "import seaborn as sns\n",
    "import matplotlib.pyplot as plt\n",
    "from sklearn import metrics\n",
    "from hmmlearn import hmm\n",
    "\n",
    "signals_names = ['DNase', 'H3K4me2', 'H3K27ac', 'H2A.Z', 'H3K9me3', 'H3K4me1', 'H3K27me3', 'H3K9ac', 'H3K4me3', 'H3K36me3', 'H3K79me2', 'H4K20me1']\n",
    "K562_dataset = dataset('K562', 'hg19', 100000, '',\n",
    "                 '../../utilities/juicer_tools_1.22.01.jar', '../../data/K562/hg19/Hi-C/res100000',\n",
    "                 signals_names, '../../data/K562/hg19/genomic-assays/bin_100000/', \n",
    "                  '../../data/K562/hg19/res100000_datasets/',\n",
    "                  '../../data/', '../../utilities/config.json')\n",
    "K562_dataset.load_pos2ind_and_ind2pos_maps('../../data/valid_bins/hg19/K562_100000_bins.txt')\n",
    "#K562_dataset.generate_signals_and_bin_files()"
   ]
  },
  {
   "cell_type": "code",
   "execution_count": 29,
   "id": "7f9bbf3f",
   "metadata": {},
   "outputs": [],
   "source": [
    "K562_dataset.read_annotation('../../data/K562/hg19/annotations/K562_SNIPER.bed', 'SNIPER')\n",
    "K562_dataset.read_annotation('../../data/K562/hg19/annotations/K562_segway_GBR.bed', 'segway_GBR')"
   ]
  },
  {
   "cell_type": "code",
   "execution_count": 3,
   "id": "af99f025",
   "metadata": {},
   "outputs": [],
   "source": [
    "TSA_signals = K562_dataset.valid_bins_df.copy()\n",
    "Lamin_df = pd.read_csv('../../data/K562/hg19/genomic-assays/bin_100000/LaminA_TSA-seq.bedgraph', sep = \"\\t\", header = None)\n",
    "Lamin_df.columns = ['chr_name', 'start', 'end', 'LaminA']\n",
    "TSA_signals = TSA_signals.merge(Lamin_df, on = ['chr_name', 'start', 'end'], how = 'left')\n",
    "TSA_signals.drop_duplicates(subset=['index'], keep = 'first', inplace = True)\n",
    "SON_df = pd.read_csv('../../data/K562/hg19/genomic-assays/bin_100000/SON_TSA-seq.bedgraph', sep = \"\\t\", header = None)\n",
    "SON_df.columns = ['chr_name', 'start', 'end', 'SON']\n",
    "TSA_signals = pd.merge(TSA_signals, SON_df, on = ['chr_name', 'start', 'end'], how = 'left')\n",
    "TSA_signals.drop_duplicates(subset=['index'], keep = 'first', inplace = True)"
   ]
  },
  {
   "cell_type": "code",
   "execution_count": 66,
   "id": "de3e26eb",
   "metadata": {},
   "outputs": [],
   "source": [
    "functional_signals_path = \"../../data/K562/hg19/res100000_datasets/signals.txt\"\n",
    "functional_signals = np.arcsinh(np.loadtxt(functional_signals_path))"
   ]
  },
  {
   "cell_type": "code",
   "execution_count": 63,
   "id": "66517295",
   "metadata": {},
   "outputs": [
    {
     "data": {
      "text/plain": [
       "array([None, 'A1', 'A1', ..., 'A1', 'A1', 'A1'], dtype=object)"
      ]
     },
     "execution_count": 63,
     "metadata": {},
     "output_type": "execute_result"
    }
   ],
   "source": [
    "K562_dataset.labels['SNIPER']"
   ]
  },
  {
   "cell_type": "markdown",
   "id": "1e4e5de4",
   "metadata": {},
   "source": [
    "# SCI graph"
   ]
  },
  {
   "cell_type": "code",
   "execution_count": 78,
   "id": "35b461ac",
   "metadata": {},
   "outputs": [],
   "source": [
    "embeddings = {}\n",
    "for d in [4,8,16,32,64]:\n",
    "    for s in [1,5,10,50,100,200]:\n",
    "        for o in [1,2]:\n",
    "            file_path = '../../data/K562/hg19/res100000_datasets/embeddings/sci/sci_d{' + str(d) + '}_s{' + str(s) + '}_o{' + str(o) + '}.txt'\n",
    "            embeddings[d,s,o] = K562_dataset.read_line_embedding(file_path, d, 0)"
   ]
  },
  {
   "cell_type": "code",
   "execution_count": 83,
   "id": "695726b3",
   "metadata": {},
   "outputs": [],
   "source": [
    "lengths = K562_dataset.get_chunks_lengths()\n",
    "for d in [4,8,16,32,64]:\n",
    "    for s in [1,5,10,50,100,200]:\n",
    "        for o in [1,2]:\n",
    "            structural_signals = np.array(embeddings[d,s,o].loc[:,['emb{}'.format(e) for e in np.arange(1,d+1)]])\n",
    "            gmm_hmm_viterbi = hmm.GaussianHMM(n_components=5, covariance_type = 'full', algorithm='viterbi')\n",
    "            gmm_hmm_viterbi.fit(structural_signals, lengths)\n",
    "            l = gmm_hmm_viterbi.predict(structural_signals, lengths)\n",
    "            embeddings[d,s,o]['HMM_structural'] = l"
   ]
  },
  {
   "cell_type": "code",
   "execution_count": null,
   "id": "c85a2181",
   "metadata": {},
   "outputs": [],
   "source": [
    "for d in [4,8,16,32,64]:\n",
    "    for s in [1,5,10,50,100,200]:\n",
    "        for o in [1,2]:\n",
    "            embeddings[d,s,o].to_csv('../../data/K562/hg19/res100000_datasets/embeddings/sci_processed/sci_d{}_s{}_o{}.txt'.format(d,s,o), sep = '\\t', index = False)"
   ]
  },
  {
   "cell_type": "code",
   "execution_count": 111,
   "id": "30578e60",
   "metadata": {},
   "outputs": [],
   "source": [
    "Lamin_VE = []\n",
    "for d in [4,8,16,32,64]:\n",
    "    for s in [1,5,10,50,100,200]:\n",
    "        for o in [1,2]:\n",
    "            Lamin_ve = evaluation_utils.variance_explained(TSA_signals.iloc[:,4].values,\n",
    "                                                embeddings[d,s,o]['HMM_structural'])\n",
    "            Lamin_VE.append({'d': d, 's': s, 'o': o, 've': Lamin_ve})\n",
    "Lamin_VE = pd.DataFrame(Lamin_VE)"
   ]
  },
  {
   "cell_type": "code",
   "execution_count": 126,
   "id": "eb03e0e7",
   "metadata": {},
   "outputs": [
    {
     "data": {
      "image/png": "[encoded data removed]",
      "text/plain": [
       "<Figure size 396x288 with 1 Axes>"
      ]
     },
     "metadata": {
      "needs_background": "light"
     },
     "output_type": "display_data"
    }
   ],
   "source": [
    "fig = plt.figure(figsize=(5.5,4))\n",
    "ax = sns.lineplot(x=\"d\", y=\"ve\", hue=\"s\", data=Lamin_VE[(Lamin_VE['o'] == 2) & (Lamin_VE['s']!=200)][['d','s','ve']])\n",
    "ax.set_xlabel('Embedding size', size = 12)\n",
    "ax.set_ylabel('LaminA TSA-seq VE', size = 12)\n",
    "plt.legend(fontsize=11, title='Sample size (*Million)', title_fontsize = 12, \n",
    "           loc = 'center', bbox_to_anchor = [0.73, 0.65])\n",
    "plt.xticks(fontsize=11)\n",
    "plt.yticks(fontsize=11)\n",
    "fig.savefig(os.path.join('results/', \"hyper_d_s(VE).png\"), \n",
    "            format=\"png\", dpi=144, bbox_inches=\"tight\", pad_inches=0.2, facecolor='white', transparent=False)"
   ]
  },
  {
   "cell_type": "code",
   "execution_count": 117,
   "id": "323d8fb6",
   "metadata": {},
   "outputs": [],
   "source": [
    "SI_df = []\n",
    "for d in [4,8,16,32,64]:\n",
    "    for s in [1,5,10,50,100]:\n",
    "        SI = metrics.silhouette_score(embeddings[d,s,2][K562_dataset.labels['SNIPER'] != None][['emb{}'.format(e) for e in np.arange(1,d+1)]], \n",
    "                             K562_dataset.labels['SNIPER'][K562_dataset.labels['SNIPER'] != None], metric='euclidean')\n",
    "        SI_df.append({'d':d, 's':s, 'SI':SI})\n",
    "SI_df = pd.DataFrame(SI_df)"
   ]
  },
  {
   "cell_type": "code",
   "execution_count": 127,
   "id": "2fe3ea11",
   "metadata": {},
   "outputs": [
    {
     "data": {
      "image/png": "[encoded data removed]",
      "text/plain": [
       "<Figure size 396x288 with 1 Axes>"
      ]
     },
     "metadata": {
      "needs_background": "light"
     },
     "output_type": "display_data"
    }
   ],
   "source": [
    "fig = plt.figure(figsize=(5.5,4))\n",
    "ax = sns.lineplot(x=\"d\", y=\"SI\", hue=\"s\", data=SI_df)\n",
    "ax.set_xlabel('Embedding size', size = 12)\n",
    "ax.set_ylabel('Silhouette Index', size = 12)\n",
    "plt.legend(fontsize=11, title='Sample size (*Million)', title_fontsize = 12, \n",
    "           loc = 'center', bbox_to_anchor = [0.73, 0.75])\n",
    "plt.xticks(fontsize=11)\n",
    "plt.yticks(fontsize=11)\n",
    "fig.savefig(os.path.join('results/', \"hyper_d_s.png\"), \n",
    "            format=\"png\", dpi=144, bbox_inches=\"tight\", pad_inches=0.2, facecolor='white', transparent=False)"
   ]
  },
  {
   "cell_type": "code",
   "execution_count": 129,
   "id": "27cec05e",
   "metadata": {},
   "outputs": [],
   "source": [
    "first_embeddings = K562_dataset.read_line_embedding('../../data/K562/hg19/res100000_datasets/embeddings/sci/sci_d{8}_s{100}_o{1}.txt', 8, 0)"
   ]
  },
  {
   "cell_type": "code",
   "execution_count": 130,
   "id": "997fdff4",
   "metadata": {},
   "outputs": [],
   "source": [
    "first_SI = metrics.silhouette_score(first_embeddings[K562_dataset.labels['SNIPER'] != None][['emb{}'.format(e) for e in np.arange(1,9)]], \n",
    "                             K562_dataset.labels['SNIPER'][K562_dataset.labels['SNIPER'] != None], metric='euclidean')"
   ]
  },
  {
   "cell_type": "code",
   "execution_count": 132,
   "id": "46fce166",
   "metadata": {},
   "outputs": [
    {
     "name": "stdout",
     "output_type": "stream",
     "text": [
      "   d    s        SI\n",
      "9  8  100  0.125052 -0.3366060719409845\n"
     ]
    }
   ],
   "source": [
    "print(SI_df[(SI_df['s'] == 100) & (SI_df['d'] == 8)],first_SI)"
   ]
  },
  {
   "cell_type": "markdown",
   "id": "77a12772",
   "metadata": {},
   "source": [
    "# O/E graph"
   ]
  },
  {
   "cell_type": "code",
   "execution_count": 4,
   "id": "4e06201d",
   "metadata": {},
   "outputs": [],
   "source": [
    "lengths = K562_dataset.get_chunks_lengths()\n",
    "embeddings = {}\n",
    "for d in [2,4,8,16,32,64,128]:\n",
    "    for s in [1,5,10,50,100]:\n",
    "        file_path = '../../data/K562/hg19/res100000_datasets/embeddings/oe/oe_d{}_s{}_o{}.txt'.format(d,s,2)\n",
    "        embeddings[d,s] = K562_dataset.read_line_embedding(file_path, d, 0)\n",
    "        structural_signals = np.array(embeddings[d,s].loc[:,['emb{}'.format(e) for e in np.arange(1,d+1)]])\n",
    "        gmm_hmm_viterbi = hmm.GaussianHMM(n_components=5, covariance_type = 'full', algorithm='viterbi')\n",
    "        gmm_hmm_viterbi.fit(structural_signals, lengths)\n",
    "        l = gmm_hmm_viterbi.predict(structural_signals, lengths)\n",
    "        embeddings[d,s]['HMM_structural'] = l"
   ]
  },
  {
   "cell_type": "code",
   "execution_count": 6,
   "id": "65d00974",
   "metadata": {},
   "outputs": [],
   "source": [
    "for d in [2,4,8,16,32,64,128]:\n",
    "    for s in [1,5,10,50,100]:\n",
    "        embeddings[d,s].to_csv('../../data/K562/hg19/res100000_datasets/embeddings/oe_processed/oe_d{}_s{}_o{}.txt'.format(d,s,2), sep = '\\t', index = False)"
   ]
  },
  {
   "cell_type": "code",
   "execution_count": 18,
   "id": "259ab145",
   "metadata": {},
   "outputs": [],
   "source": [
    "TSA_VE = []\n",
    "for d in [2,4,8,16,32,64,128]:\n",
    "    for s in [1,5,10,50,100]:\n",
    "        LaminA_ve = evaluation_utils.variance_explained(TSA_signals.iloc[:,4].values,\n",
    "                                                embeddings[d,s]['HMM_structural'])\n",
    "        SON_ve = evaluation_utils.variance_explained(TSA_signals.iloc[:,5].values,\n",
    "                                                embeddings[d,s]['HMM_structural'])\n",
    "        TSA_VE.append({'d': d, 's': s, 'LaminA_ve': LaminA_ve, 'SON_ve': SON_ve})\n",
    "TSA_VE = pd.DataFrame(TSA_VE)"
   ]
  },
  {
   "cell_type": "code",
   "execution_count": 23,
   "id": "ddf5b8f2",
   "metadata": {},
   "outputs": [
    {
     "data": {
      "image/png": "[encoded data removed]",
      "text/plain": [
       "<Figure size 396x288 with 1 Axes>"
      ]
     },
     "metadata": {
      "needs_background": "light"
     },
     "output_type": "display_data"
    }
   ],
   "source": [
    "fig = plt.figure(figsize=(5.5,4))\n",
    "ax = sns.lineplot(x=\"d\", y=\"LaminA_ve\", hue=\"s\", data=TSA_VE)\n",
    "ax.set_xlabel('Embedding size', size = 12)\n",
    "ax.set_ylabel('LaminA TSA-seq VE', size = 12)\n",
    "plt.legend(fontsize=11, title='Sample size (*Million)', title_fontsize = 12, \n",
    "           loc = 'center', bbox_to_anchor = [0.73, 0.35])\n",
    "plt.xticks(fontsize=11)\n",
    "plt.yticks(fontsize=11)\n",
    "fig.savefig(os.path.join('results/', \"hyper_d_s(VE).png\"), \n",
    "            format=\"png\", dpi=144, bbox_inches=\"tight\", pad_inches=0.2, facecolor='white', transparent=False)"
   ]
  },
  {
   "cell_type": "code",
   "execution_count": 24,
   "id": "0e600dbd",
   "metadata": {},
   "outputs": [
    {
     "data": {
      "image/png": "[encoded data removed]",
      "text/plain": [
       "<Figure size 396x288 with 1 Axes>"
      ]
     },
     "metadata": {
      "needs_background": "light"
     },
     "output_type": "display_data"
    }
   ],
   "source": [
    "fig = plt.figure(figsize=(5.5,4))\n",
    "ax = sns.barplot(data=TSA_VE[TSA_VE['s']==50], x = 'd', y = 'LaminA_ve', color = 'Grey')\n",
    "ax.set_xlabel('Embedding size', size = 12)\n",
    "ax.set_ylabel('LaminA TSA-seq VE', size = 12)\n",
    "plt.xticks(fontsize=11)\n",
    "plt.yticks(fontsize=11)\n",
    "fig.savefig(os.path.join('results/', \"hyper_d(VE).png\"), \n",
    "            format=\"png\", dpi=144, bbox_inches=\"tight\", pad_inches=0.2, facecolor='white', transparent=False)"
   ]
  },
  {
   "cell_type": "code",
   "execution_count": 14,
   "id": "d9ca5292",
   "metadata": {},
   "outputs": [],
   "source": [
    "SI_df = []\n",
    "for d in [2,4,8,16,32,64,128]:\n",
    "    for s in [1,5,10,50,100]:\n",
    "        SI = metrics.silhouette_score(embeddings[d,s][K562_dataset.labels['SNIPER'] != None][['emb{}'.format(e) for e in np.arange(1,d+1)]], \n",
    "                             K562_dataset.labels['SNIPER'][K562_dataset.labels['SNIPER'] != None], metric='euclidean')\n",
    "        SI_df.append({'d':d, 's':s, 'SI':SI})\n",
    "SI_df = pd.DataFrame(SI_df)"
   ]
  },
  {
   "cell_type": "code",
   "execution_count": 27,
   "id": "f4d229a8",
   "metadata": {},
   "outputs": [
    {
     "data": {
      "image/png": "[encoded data removed]",
      "text/plain": [
       "<Figure size 396x288 with 1 Axes>"
      ]
     },
     "metadata": {
      "needs_background": "light"
     },
     "output_type": "display_data"
    }
   ],
   "source": [
    "fig = plt.figure(figsize=(5.5,4))\n",
    "ax = sns.lineplot(x=\"d\", y=\"SI\", hue=\"s\", data=SI_df)\n",
    "ax.set_xlabel('Embedding size', size = 12)\n",
    "ax.set_ylabel('Silhouette Index', size = 12)\n",
    "plt.legend(fontsize=11, title='Sample size (*Million)', title_fontsize = 12, \n",
    "           loc = 'center', bbox_to_anchor = [0.73, 0.52])\n",
    "plt.xticks(fontsize=11)\n",
    "plt.yticks(fontsize=11)\n",
    "fig.savefig(os.path.join('results/', \"hyper_d_s.png\"), \n",
    "            format=\"png\", dpi=144, bbox_inches=\"tight\", pad_inches=0.2, facecolor='white', transparent=False)"
   ]
  },
  {
   "cell_type": "code",
   "execution_count": 31,
   "id": "b5b17ebd",
   "metadata": {},
   "outputs": [],
   "source": [
    "final_emb = pd.read_csv('../../data/K562/hg19/res100000_datasets/embeddings/oe_processed/oe_d8_s50_o2.txt', sep = '\\t')"
   ]
  },
  {
   "cell_type": "code",
   "execution_count": 32,
   "id": "54effb3d",
   "metadata": {},
   "outputs": [
    {
     "data": {
      "text/html": [
       "<div>\n",
       "<style scoped>\n",
       "    .dataframe tbody tr th:only-of-type {\n",
       "        vertical-align: middle;\n",
       "    }\n",
       "\n",
       "    .dataframe tbody tr th {\n",
       "        vertical-align: top;\n",
       "    }\n",
       "\n",
       "    .dataframe thead th {\n",
       "        text-align: right;\n",
       "    }\n",
       "</style>\n",
       "<table border=\"1\" class=\"dataframe\">\n",
       "  <thead>\n",
       "    <tr style=\"text-align: right;\">\n",
       "      <th></th>\n",
       "      <th>index</th>\n",
       "      <th>chr_name</th>\n",
       "      <th>pos</th>\n",
       "      <th>emb1</th>\n",
       "      <th>emb2</th>\n",
       "      <th>emb3</th>\n",
       "      <th>emb4</th>\n",
       "      <th>emb5</th>\n",
       "      <th>emb6</th>\n",
       "      <th>emb7</th>\n",
       "      <th>emb8</th>\n",
       "      <th>HMM_structural</th>\n",
       "    </tr>\n",
       "  </thead>\n",
       "  <tbody>\n",
       "    <tr>\n",
       "      <th>0</th>\n",
       "      <td>0</td>\n",
       "      <td>chr1</td>\n",
       "      <td>5</td>\n",
       "      <td>0.975697</td>\n",
       "      <td>0.150678</td>\n",
       "      <td>1.103918</td>\n",
       "      <td>0.215091</td>\n",
       "      <td>-0.409760</td>\n",
       "      <td>0.337454</td>\n",
       "      <td>-0.097898</td>\n",
       "      <td>-0.435049</td>\n",
       "      <td>4</td>\n",
       "    </tr>\n",
       "    <tr>\n",
       "      <th>1</th>\n",
       "      <td>1</td>\n",
       "      <td>chr1</td>\n",
       "      <td>7</td>\n",
       "      <td>0.727818</td>\n",
       "      <td>0.350172</td>\n",
       "      <td>0.851716</td>\n",
       "      <td>-0.263199</td>\n",
       "      <td>-0.776725</td>\n",
       "      <td>0.520543</td>\n",
       "      <td>0.160580</td>\n",
       "      <td>-0.456772</td>\n",
       "      <td>2</td>\n",
       "    </tr>\n",
       "    <tr>\n",
       "      <th>2</th>\n",
       "      <td>2</td>\n",
       "      <td>chr1</td>\n",
       "      <td>8</td>\n",
       "      <td>1.817987</td>\n",
       "      <td>0.263212</td>\n",
       "      <td>1.709721</td>\n",
       "      <td>0.457461</td>\n",
       "      <td>-0.716400</td>\n",
       "      <td>0.543875</td>\n",
       "      <td>-0.385147</td>\n",
       "      <td>-0.749001</td>\n",
       "      <td>4</td>\n",
       "    </tr>\n",
       "    <tr>\n",
       "      <th>3</th>\n",
       "      <td>3</td>\n",
       "      <td>chr1</td>\n",
       "      <td>9</td>\n",
       "      <td>1.732828</td>\n",
       "      <td>0.227901</td>\n",
       "      <td>1.620914</td>\n",
       "      <td>0.523177</td>\n",
       "      <td>-0.685176</td>\n",
       "      <td>0.556946</td>\n",
       "      <td>-0.401460</td>\n",
       "      <td>-0.698903</td>\n",
       "      <td>4</td>\n",
       "    </tr>\n",
       "    <tr>\n",
       "      <th>4</th>\n",
       "      <td>4</td>\n",
       "      <td>chr1</td>\n",
       "      <td>10</td>\n",
       "      <td>1.826129</td>\n",
       "      <td>0.405289</td>\n",
       "      <td>1.693102</td>\n",
       "      <td>0.508932</td>\n",
       "      <td>-0.774971</td>\n",
       "      <td>0.591531</td>\n",
       "      <td>-0.486529</td>\n",
       "      <td>-0.729199</td>\n",
       "      <td>4</td>\n",
       "    </tr>\n",
       "    <tr>\n",
       "      <th>...</th>\n",
       "      <td>...</td>\n",
       "      <td>...</td>\n",
       "      <td>...</td>\n",
       "      <td>...</td>\n",
       "      <td>...</td>\n",
       "      <td>...</td>\n",
       "      <td>...</td>\n",
       "      <td>...</td>\n",
       "      <td>...</td>\n",
       "      <td>...</td>\n",
       "      <td>...</td>\n",
       "      <td>...</td>\n",
       "    </tr>\n",
       "    <tr>\n",
       "      <th>25598</th>\n",
       "      <td>25598</td>\n",
       "      <td>chr22</td>\n",
       "      <td>508</td>\n",
       "      <td>1.556921</td>\n",
       "      <td>0.303619</td>\n",
       "      <td>1.518419</td>\n",
       "      <td>0.499486</td>\n",
       "      <td>-0.571278</td>\n",
       "      <td>0.438110</td>\n",
       "      <td>-0.368162</td>\n",
       "      <td>-0.664690</td>\n",
       "      <td>4</td>\n",
       "    </tr>\n",
       "    <tr>\n",
       "      <th>25599</th>\n",
       "      <td>25599</td>\n",
       "      <td>chr22</td>\n",
       "      <td>509</td>\n",
       "      <td>1.704541</td>\n",
       "      <td>0.210547</td>\n",
       "      <td>1.524580</td>\n",
       "      <td>0.560643</td>\n",
       "      <td>-0.625352</td>\n",
       "      <td>0.527565</td>\n",
       "      <td>-0.470710</td>\n",
       "      <td>-0.764569</td>\n",
       "      <td>4</td>\n",
       "    </tr>\n",
       "    <tr>\n",
       "      <th>25600</th>\n",
       "      <td>25600</td>\n",
       "      <td>chr22</td>\n",
       "      <td>510</td>\n",
       "      <td>1.779116</td>\n",
       "      <td>0.216830</td>\n",
       "      <td>1.752489</td>\n",
       "      <td>0.479899</td>\n",
       "      <td>-0.574768</td>\n",
       "      <td>0.560206</td>\n",
       "      <td>-0.392777</td>\n",
       "      <td>-0.737621</td>\n",
       "      <td>4</td>\n",
       "    </tr>\n",
       "    <tr>\n",
       "      <th>25601</th>\n",
       "      <td>25601</td>\n",
       "      <td>chr22</td>\n",
       "      <td>511</td>\n",
       "      <td>1.597099</td>\n",
       "      <td>0.139186</td>\n",
       "      <td>1.615240</td>\n",
       "      <td>0.472655</td>\n",
       "      <td>-0.556561</td>\n",
       "      <td>0.480034</td>\n",
       "      <td>-0.327883</td>\n",
       "      <td>-0.653598</td>\n",
       "      <td>4</td>\n",
       "    </tr>\n",
       "    <tr>\n",
       "      <th>25602</th>\n",
       "      <td>25602</td>\n",
       "      <td>chr22</td>\n",
       "      <td>512</td>\n",
       "      <td>1.123287</td>\n",
       "      <td>0.131183</td>\n",
       "      <td>1.163899</td>\n",
       "      <td>0.308434</td>\n",
       "      <td>-0.451028</td>\n",
       "      <td>0.352600</td>\n",
       "      <td>-0.109335</td>\n",
       "      <td>-0.506564</td>\n",
       "      <td>4</td>\n",
       "    </tr>\n",
       "  </tbody>\n",
       "</table>\n",
       "<p>25603 rows × 12 columns</p>\n",
       "</div>"
      ],
      "text/plain": [
       "       index chr_name  pos      emb1      emb2      emb3      emb4      emb5  \\\n",
       "0          0     chr1    5  0.975697  0.150678  1.103918  0.215091 -0.409760   \n",
       "1          1     chr1    7  0.727818  0.350172  0.851716 -0.263199 -0.776725   \n",
       "2          2     chr1    8  1.817987  0.263212  1.709721  0.457461 -0.716400   \n",
       "3          3     chr1    9  1.732828  0.227901  1.620914  0.523177 -0.685176   \n",
       "4          4     chr1   10  1.826129  0.405289  1.693102  0.508932 -0.774971   \n",
       "...      ...      ...  ...       ...       ...       ...       ...       ...   \n",
       "25598  25598    chr22  508  1.556921  0.303619  1.518419  0.499486 -0.571278   \n",
       "25599  25599    chr22  509  1.704541  0.210547  1.524580  0.560643 -0.625352   \n",
       "25600  25600    chr22  510  1.779116  0.216830  1.752489  0.479899 -0.574768   \n",
       "25601  25601    chr22  511  1.597099  0.139186  1.615240  0.472655 -0.556561   \n",
       "25602  25602    chr22  512  1.123287  0.131183  1.163899  0.308434 -0.451028   \n",
       "\n",
       "           emb6      emb7      emb8  HMM_structural  \n",
       "0      0.337454 -0.097898 -0.435049               4  \n",
       "1      0.520543  0.160580 -0.456772               2  \n",
       "2      0.543875 -0.385147 -0.749001               4  \n",
       "3      0.556946 -0.401460 -0.698903               4  \n",
       "4      0.591531 -0.486529 -0.729199               4  \n",
       "...         ...       ...       ...             ...  \n",
       "25598  0.438110 -0.368162 -0.664690               4  \n",
       "25599  0.527565 -0.470710 -0.764569               4  \n",
       "25600  0.560206 -0.392777 -0.737621               4  \n",
       "25601  0.480034 -0.327883 -0.653598               4  \n",
       "25602  0.352600 -0.109335 -0.506564               4  \n",
       "\n",
       "[25603 rows x 12 columns]"
      ]
     },
     "execution_count": 32,
     "metadata": {},
     "output_type": "execute_result"
    }
   ],
   "source": [
    "final_emb"
   ]
  }
 ],
 "metadata": {
  "kernelspec": {
   "display_name": "IChDA",
   "language": "python",
   "name": "ichda"
  },
  "language_info": {
   "codemirror_mode": {
    "name": "ipython",
    "version": 3
   },
   "file_extension": ".py",
   "mimetype": "text/x-python",
   "name": "python",
   "nbconvert_exporter": "python",
   "pygments_lexer": "ipython3",
   "version": "3.10.4"
  }
 },
 "nbformat": 4,
 "nbformat_minor": 5
}
