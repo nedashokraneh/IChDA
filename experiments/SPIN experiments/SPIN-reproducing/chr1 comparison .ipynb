{
 "cells": [
  {
   "cell_type": "code",
   "execution_count": 83,
   "metadata": {},
   "outputs": [],
   "source": [
    "import pandas as pd\n",
    "import scipy.sparse as sp\n",
    "import seaborn as sns\n",
    "import numpy as np\n",
    "import matplotlib.pyplot as plt"
   ]
  },
  {
   "cell_type": "code",
   "execution_count": 120,
   "metadata": {},
   "outputs": [],
   "source": [
    "SPIN_sample = pd.read_csv(\"../../../alternatives/SPIN-master/data/test_Hi-C_chr1.txt\", sep = \"\\t\", header = None)\n",
    "SPIN_sample.columns = [\"s\", \"t\", \"weight\"]"
   ]
  },
  {
   "cell_type": "code",
   "execution_count": 121,
   "metadata": {},
   "outputs": [],
   "source": [
    "SPIN_bins = pd.read_csv(\"../../../alternatives/SPIN-master/data/test_bin_chr1.bed\", sep = \"\\t\", header = None)\n",
    "map = (SPIN_bins.iloc[:,1]/25000).astype(int)"
   ]
  },
  {
   "cell_type": "code",
   "execution_count": 122,
   "metadata": {},
   "outputs": [],
   "source": [
    "SPIN_sample['s'] = map[SPIN_sample['s']].values\n",
    "SPIN_sample['t'] = map[SPIN_sample['t']].values\n",
    "SPIN_sample['dist'] = abs(SPIN_sample['s']-SPIN_sample['t'])"
   ]
  },
  {
   "cell_type": "code",
   "execution_count": 124,
   "metadata": {},
   "outputs": [],
   "source": [
    "distal_SPIN_sample = SPIN_sample[SPIN_sample['dist']>1]"
   ]
  },
  {
   "cell_type": "code",
   "execution_count": 136,
   "metadata": {},
   "outputs": [
    {
     "data": {
      "text/plain": [
       "(854, 4)"
      ]
     },
     "execution_count": 136,
     "metadata": {},
     "output_type": "execute_result"
    }
   ],
   "source": [
    "distal_SPIN_sample.shape"
   ]
  },
  {
   "cell_type": "code",
   "execution_count": 125,
   "metadata": {},
   "outputs": [
    {
     "name": "stderr",
     "output_type": "stream",
     "text": [
      "/home/nedooshki/.local/lib/python3.6/site-packages/pandas/core/indexing.py:635: SettingWithCopyWarning: \n",
      "A value is trying to be set on a copy of a slice from a DataFrame.\n",
      "Try using .loc[row_indexer,col_indexer] = value instead\n",
      "\n",
      "See the caveats in the documentation: http://pandas.pydata.org/pandas-docs/stable/indexing.html#indexing-view-versus-copy\n",
      "  self.obj[item_labels[indexer[info_axis]]] = value\n",
      "/home/nedooshki/.local/lib/python3.6/site-packages/ipykernel_launcher.py:5: SettingWithCopyWarning: \n",
      "A value is trying to be set on a copy of a slice from a DataFrame\n",
      "\n",
      "See the caveats in the documentation: http://pandas.pydata.org/pandas-docs/stable/indexing.html#indexing-view-versus-copy\n",
      "  \"\"\"\n"
     ]
    }
   ],
   "source": [
    "min_ind = distal_SPIN_sample.loc[:,['s','t']].min(axis=1)\n",
    "max_ind = distal_SPIN_sample.loc[:,['s','t']].max(axis=1)\n",
    "distal_SPIN_sample.loc[:,'s'] = min_ind\n",
    "distal_SPIN_sample.loc[:,'t'] = max_ind\n",
    "distal_SPIN_sample.drop_duplicates(inplace=True)"
   ]
  },
  {
   "cell_type": "code",
   "execution_count": 127,
   "metadata": {},
   "outputs": [],
   "source": [
    "chr1_hic = pd.read_csv('../../../data/K562/hg38/Hi-C/oe_25000_VC_weibull/chr1_chr1.txt', sep = \"\\t\", header = None)\n",
    "chr1_hic.columns = ['source', 'target', 'weight', 'pvalue']\n",
    "chr1_hic.loc[:,'s'] = (chr1_hic.loc[:,'source']/25000).astype(int)\n",
    "chr1_hic.loc[:,'t'] = (chr1_hic.loc[:,'target']/25000).astype(int)\n",
    "chr1_hic['dist'] = abs(chr1_hic['s']-chr1_hic['t'])\n",
    "distal_chr1_hic = chr1_hic[chr1_hic['dist']>1]"
   ]
  },
  {
   "cell_type": "code",
   "execution_count": 128,
   "metadata": {},
   "outputs": [],
   "source": [
    "ob_chr1_hic = pd.read_csv('../../../data/K562/hg38/Hi-C/chr1_chr1.txt', sep = \"\\t\", header = None)\n",
    "ob_chr1_hic.columns = ['source', 'target', 'weight']\n",
    "ob_chr1_hic.loc[:,'s'] = (ob_chr1_hic.loc[:,'source']/25000).astype(int)\n",
    "ob_chr1_hic.loc[:,'t'] = (ob_chr1_hic.loc[:,'target']/25000).astype(int)\n",
    "ob_chr1_hic['dist'] = abs(ob_chr1_hic['s']-ob_chr1_hic['t'])\n",
    "distal_ob_chr1_hic = ob_chr1_hic[ob_chr1_hic['dist']>1]"
   ]
  },
  {
   "cell_type": "code",
   "execution_count": 135,
   "metadata": {},
   "outputs": [
    {
     "name": "stdout",
     "output_type": "stream",
     "text": [
      "number of significant distal interactions after thresholding is 4546\n"
     ]
    }
   ],
   "source": [
    "th_chr1_hic = distal_chr1_hic[distal_chr1_hic.loc[:,'pvalue']<0.00001]\n",
    "print('number of significant distal interactions after thresholding is {}'.format(th_chr1_hic[th_chr1_hic['dist']>1].shape[0]))"
   ]
  },
  {
   "cell_type": "code",
   "execution_count": 130,
   "metadata": {},
   "outputs": [],
   "source": [
    "nlargest_chr1_hic = distal_chr1_hic.nlargest(distal_SPIN_sample.shape[0], 'weight')\n",
    "nlargest_ob_chr1_hic = distal_ob_chr1_hic.nlargest(distal_SPIN_sample.shape[0], 'weight')"
   ]
  },
  {
   "cell_type": "code",
   "execution_count": 131,
   "metadata": {},
   "outputs": [],
   "source": [
    "oe_nlargest_overlap = pd.merge(distal_SPIN_sample,nlargest_chr1_hic, on = ['s','t']).shape[0]\n",
    "ob_nlargest_overlap = pd.merge(distal_SPIN_sample,nlargest_ob_chr1_hic, on = ['s','t']).shape[0]\n",
    "th_overlap = pd.merge(distal_SPIN_sample,th_chr1_hic, on = ['s','t']).shape[0]"
   ]
  },
  {
   "cell_type": "code",
   "execution_count": 132,
   "metadata": {},
   "outputs": [
    {
     "name": "stdout",
     "output_type": "stream",
     "text": [
      "44 29 141\n"
     ]
    }
   ],
   "source": [
    "print(oe_nlargest_overlap, ob_nlargest_overlap, th_overlap)"
   ]
  },
  {
   "cell_type": "code",
   "execution_count": 133,
   "metadata": {},
   "outputs": [
    {
     "name": "stderr",
     "output_type": "stream",
     "text": [
      "/home/nedooshki/miniconda3/envs/embedding/lib/python3.6/site-packages/seaborn/distributions.py:2619: FutureWarning: `distplot` is a deprecated function and will be removed in a future version. Please adapt your code to use either `displot` (a figure-level function with similar flexibility) or `histplot` (an axes-level function for histograms).\n",
      "  warnings.warn(msg, FutureWarning)\n",
      "/home/nedooshki/miniconda3/envs/embedding/lib/python3.6/site-packages/seaborn/distributions.py:2619: FutureWarning: `distplot` is a deprecated function and will be removed in a future version. Please adapt your code to use either `displot` (a figure-level function with similar flexibility) or `histplot` (an axes-level function for histograms).\n",
      "  warnings.warn(msg, FutureWarning)\n",
      "/home/nedooshki/miniconda3/envs/embedding/lib/python3.6/site-packages/seaborn/distributions.py:2619: FutureWarning: `distplot` is a deprecated function and will be removed in a future version. Please adapt your code to use either `displot` (a figure-level function with similar flexibility) or `histplot` (an axes-level function for histograms).\n",
      "  warnings.warn(msg, FutureWarning)\n"
     ]
    },
    {
     "data": {
      "image/png": "[encoded data removed]",
      "text/plain": [
       "<Figure size 432x288 with 1 Axes>"
      ]
     },
     "metadata": {
      "needs_background": "light"
     },
     "output_type": "display_data"
    }
   ],
   "source": [
    "fig = plt.figure(figsize=(6,4))\n",
    "sns.distplot(np.log2(nlargest_chr1_hic['dist']), label = 'oe_nlargest')\n",
    "sns.distplot(np.log2(nlargest_ob_chr1_hic['dist']), label = 'ob_nlargest')\n",
    "sns.distplot(np.log2(SPIN_sample['dist']), label = 'SPIN_sample')\n",
    "plt.xlabel('distance (log2)', fontsize = 14)\n",
    "plt.ylabel('Density', fontsize = 14)\n",
    "plt.legend(fontsize = 16)\n",
    "fig.savefig('results/distance_distributions_comp.jpeg', bbox_inches='tight', facecolor='white', transparent=False)"
   ]
  },
  {
   "cell_type": "code",
   "execution_count": 67,
   "metadata": {},
   "outputs": [],
   "source": [
    "kr_chr1_hic = pd.read_csv('../../../data/K562/hg38/Hi-C/oe_25000_KR/chr1_chr1.txt', sep = \"\\t\", header = None)\n",
    "kr_chr1_hic.columns = ['source', 'target', 'weight']\n",
    "kr_chr1_hic.loc[:,'s'] = (kr_chr1_hic.loc[:,'source']/25000).astype(int)\n",
    "kr_chr1_hic.loc[:,'t'] = (kr_chr1_hic.loc[:,'target']/25000).astype(int)\n",
    "kr_chr1_hic['dist'] = abs(kr_chr1_hic['s']-kr_chr1_hic['t'])\n",
    "distal_kr_chr1_hic = kr_chr1_hic[kr_chr1_hic['dist']>1]"
   ]
  },
  {
   "cell_type": "code",
   "execution_count": 68,
   "metadata": {},
   "outputs": [],
   "source": [
    "nlargest_kr_chr1_hic = distal_kr_chr1_hic.nlargest(distal_SPIN_sample.shape[0], 'weight')\n",
    "kr_nlargest_overlap = pd.merge(distal_SPIN_sample,nlargest_kr_chr1_hic, on = ['s','t']).shape[0]"
   ]
  },
  {
   "cell_type": "code",
   "execution_count": 76,
   "metadata": {},
   "outputs": [
    {
     "data": {
      "text/plain": [
       "0"
      ]
     },
     "execution_count": 76,
     "metadata": {},
     "output_type": "execute_result"
    }
   ],
   "source": [
    "kr_nlargest_overlap"
   ]
  }
 ],
 "metadata": {
  "kernelspec": {
   "display_name": "embedding",
   "language": "python",
   "name": "embedding"
  },
  "language_info": {
   "codemirror_mode": {
    "name": "ipython",
    "version": 3
   },
   "file_extension": ".py",
   "mimetype": "text/x-python",
   "name": "python",
   "nbconvert_exporter": "python",
   "pygments_lexer": "ipython3",
   "version": "3.6.15"
  }
 },
 "nbformat": 4,
 "nbformat_minor": 2
}
