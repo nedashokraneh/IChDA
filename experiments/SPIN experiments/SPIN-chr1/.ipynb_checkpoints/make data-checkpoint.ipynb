{
 "cells": [
  {
   "cell_type": "code",
   "execution_count": 110,
   "metadata": {},
   "outputs": [],
   "source": [
    "import pandas as pd\n",
    "import math\n",
    "import numpy as np\n",
    "import seaborn as sns"
   ]
  },
  {
   "cell_type": "code",
   "execution_count": 2,
   "metadata": {},
   "outputs": [],
   "source": [
    "bins = pd.read_csv(\"../../data/K562/res25000/bins.txt\", sep = \"\\t\", header = None)\n",
    "tsa = pd.read_csv(\"../../data/K562/res25000/tsa.txt\", sep = \"\\t\", header = None)\n",
    "chip = pd.read_csv(\"../../data/K562/562/res25000/chip.txt\", sep = \"\\t\", header = None)"
   ]
  },
  {
   "cell_type": "code",
   "execution_count": 28,
   "metadata": {},
   "outputs": [],
   "source": [
    "chr1_bins = bins[bins.iloc[:,0]=='chr1']\n",
    "chr1_bins.to_csv(\"data/chr1_bins.txt\", header = None, index = False, sep = \"\\t\")"
   ]
  },
  {
   "cell_type": "code",
   "execution_count": 31,
   "metadata": {},
   "outputs": [
    {
     "name": "stderr",
     "output_type": "stream",
     "text": [
      "/home/nshokran/miniconda3/lib/python3.7/site-packages/ipykernel_launcher.py:1: SettingWithCopyWarning: \n",
      "A value is trying to be set on a copy of a slice from a DataFrame.\n",
      "Try using .loc[row_indexer,col_indexer] = value instead\n",
      "\n",
      "See the caveats in the documentation: https://pandas.pydata.org/pandas-docs/stable/user_guide/indexing.html#returning-a-view-versus-a-copy\n",
      "  \"\"\"Entry point for launching an IPython kernel.\n"
     ]
    }
   ],
   "source": [
    "chr1_num_bins = chr1_bins.shape[0]\n",
    "chr1_size = math.ceil(249250621/25000)\n",
    "chr1_bins['pos'] = [int(p/25000) for p in chr1_bins.iloc[:,1]]\n",
    "bins_dict = np.empty(chr1_size)\n",
    "bins_dict[:] = np.nan\n",
    "bins_dict[chr1_bins['pos'].values] = chr1_bins.iloc[:,3].values"
   ]
  },
  {
   "cell_type": "code",
   "execution_count": 15,
   "metadata": {},
   "outputs": [],
   "source": [
    "tsa.iloc[0:chr1_num_bins,:].to_csv(\"data/chr1_tsa.txt\", header = None, index = False, sep = \"\\t\")\n",
    "chip.iloc[0:chr1_num_bins,:].to_csv(\"data/chr1_chip.txt\", header = None, index = False, sep = \"\\t\")"
   ]
  },
  {
   "cell_type": "code",
   "execution_count": 24,
   "metadata": {},
   "outputs": [],
   "source": [
    "chr1_fithic = pd.read_csv(\"/project/compbio-lab/epigenomics/K562/Hi-C/fithic_output/res25000/chr1_chr1/FitHiC.spline_pass1.res25000.significances.txt.gz\", sep = \"\\t\")\n",
    "chr1_fithic['pos1'] = [bins_dict[int(p/25000)] for p in chr1_fithic['fragmentMid1']]\n",
    "chr1_fithic['pos2'] = [bins_dict[int(p/25000)] for p in chr1_fithic['fragmentMid2']]\n",
    "chr1_fithic = chr1_fithic[['pos1','pos2','q-value']]\n",
    "chr1_fithic = chr1_fithic[chr1_fithic['pos1'] != chr1_fithic['pos2']]\n",
    "chr1_fithic.dropna(inplace=True)"
   ]
  },
  {
   "cell_type": "code",
   "execution_count": 59,
   "metadata": {},
   "outputs": [],
   "source": [
    "chr1_oe = pd.read_csv(\"/project/compbio-lab/epigenomics/K562/Hi-C/oe_25000/chr1_chr1.txt\", sep = \"\\t\", header = None)\n",
    "chr1_oe.dropna(inplace=True)\n",
    "chr1_oe.columns = ['pos1', 'pos2', 'weight']\n",
    "chr1_oe['pos1'] = [bins_dict[int(p/25000)] for p in chr1_oe['pos1']]\n",
    "chr1_oe['pos2'] = [bins_dict[int(p/25000)] for p in chr1_oe['pos2']]\n",
    "chr1_oe = chr1_oe[chr1_oe['pos1'] != chr1_oe['pos2']]\n",
    "chr1_oe.dropna(inplace=True)"
   ]
  },
  {
   "cell_type": "code",
   "execution_count": 69,
   "metadata": {},
   "outputs": [],
   "source": [
    "chunks = []\n",
    "chunk = []\n",
    "for bin_id in bins_dict:\n",
    "    if np.isnan(bin_id):\n",
    "        if len(chunk) > 0:\n",
    "            chunks.append(chunk)\n",
    "        chunk = []\n",
    "    else:\n",
    "        chunk.append(bin_id)\n",
    "if len(chunk) > 0:\n",
    "    chunks.append(chunk)\n",
    "def chunk_chain_edges(chunk):\n",
    "    chain_edges = pd.DataFrame(columns = ['pos1','pos2'])\n",
    "    if len(chunk) >= 2:\n",
    "        chain_edges = pd.DataFrame({'pos1': chunk[:-1], 'pos2': chunk[1:]})\n",
    "        chain_edges = pd.concat([chain_edges, pd.DataFrame({'pos1': chunk[1:], 'pos2': chunk[:-1]})])\n",
    "    return chain_edges\n",
    "chain_edges = pd.DataFrame(columns = ['pos1','pos2'])\n",
    "for chunk in chunks:\n",
    "    chain_edges = pd.concat([chain_edges, chunk_chain_edges(chunk)])\n",
    "chain_edges.sort_values(['pos1','pos2'], inplace =True)\n",
    "chain_edges = chain_edges.astype(int)"
   ]
  },
  {
   "cell_type": "code",
   "execution_count": 80,
   "metadata": {},
   "outputs": [],
   "source": [
    "num_chain_edges = int(chain_edges.shape[0]/2)"
   ]
  },
  {
   "cell_type": "code",
   "execution_count": 102,
   "metadata": {},
   "outputs": [],
   "source": [
    "significant_edges = {}\n",
    "\n",
    "for i in [1,2,4,8]:\n",
    "    a = chr1_fithic.nsmallest(i*num_chain_edges, 'q-value')[['pos1','pos2']]\n",
    "    a = pd.concat([a,pd.DataFrame({'pos1': a['pos2'], 'pos2': a['pos1']})])\n",
    "    a.sort_values(['pos1','pos2'], inplace=True)\n",
    "    a = a.astype(int)\n",
    "    significant_edges['fithic',i] = a\n",
    "    \n",
    "    \n",
    "    a = chr1_oe.nlargest(i*num_chain_edges, 'weight')[['pos1','pos2']]\n",
    "    a = pd.concat([a,pd.DataFrame({'pos1': a['pos2'], 'pos2': a['pos1']})])\n",
    "    a.sort_values(['pos1','pos2'], inplace=True)\n",
    "    a = a.astype(int)\n",
    "    significant_edges['oe',i] = a\n"
   ]
  },
  {
   "cell_type": "code",
   "execution_count": 122,
   "metadata": {},
   "outputs": [],
   "source": [
    "chain_edges.to_csv(\"data/chr1_edges_chain.txt\", sep = \"\\t\", header = None, index = False)\n",
    "for i in [1,2,4,8]:\n",
    "    significant_edges['fithic',i].to_csv(\"data/chr1_edges_fithic\"+str(i)+\".txt\", sep = \"\\t\", header = None, index = False)\n",
    "    significant_edges['oe',i].to_csv(\"data/chr1_edges_oe\"+str(i)+\".txt\", sep = \"\\t\", header = None, index = False)"
   ]
  },
  {
   "cell_type": "code",
   "execution_count": 123,
   "metadata": {},
   "outputs": [],
   "source": []
  }
 ],
 "metadata": {
  "kernelspec": {
   "display_name": "Python 3",
   "language": "python",
   "name": "python3"
  },
  "language_info": {
   "codemirror_mode": {
    "name": "ipython",
    "version": 3
   },
   "file_extension": ".py",
   "mimetype": "text/x-python",
   "name": "python",
   "nbconvert_exporter": "python",
   "pygments_lexer": "ipython3",
   "version": "3.6.9"
  }
 },
 "nbformat": 4,
 "nbformat_minor": 4
}
