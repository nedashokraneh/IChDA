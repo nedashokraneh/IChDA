{
 "cells": [
  {
   "cell_type": "code",
   "execution_count": 1,
   "id": "a4a33006",
   "metadata": {},
   "outputs": [
    {
     "name": "stderr",
     "output_type": "stream",
     "text": [
      "/home/nedooshki/miniconda3/envs/IChDA/lib/python3.10/site-packages/tqdm/auto.py:22: TqdmWarning: IProgress not found. Please update jupyter and ipywidgets. See https://ipywidgets.readthedocs.io/en/stable/user_install.html\n",
      "  from .autonotebook import tqdm as notebook_tqdm\n"
     ]
    }
   ],
   "source": [
    "import sys\n",
    "import os\n",
    "sys.path.append(\"../../src/\")\n",
    "sys.path.append(\"../../utilities/\")\n",
    "import dataset_class\n",
    "from dataset_class import dataset\n",
    "import data_utils\n",
    "import evaluation_utils\n",
    "import numpy as np\n",
    "import pandas as pd\n",
    "import seaborn as sns\n",
    "import matplotlib.pyplot as plt\n",
    "from sklearn import metrics\n",
    "from hmmlearn import hmm\n",
    "import mrf_util\n",
    "from mrf import MarkovRandomField\n",
    "from GMM_GBR import GMM_MP"
   ]
  },
  {
   "cell_type": "code",
   "execution_count": null,
   "id": "f264fd47",
   "metadata": {},
   "outputs": [],
   "source": [
    "gene_expression_path = '../../data/GM12878/hg19/gene_expression/GM12878_genes_RPKM.txt'\n",
    "RT_path = '../../data/GM12878/hg19/RT/six_phase/six_phases.txt'\n",
    "CTCF_bedpe_path = '../../data/GM12878/hg19/ChIA-PET/CTCF/lifted_data'\n",
    "RNAPII_bedpe_path = '../../data/GM12878/hg19/ChIA-PET/RNAPII/lifted_data'"
   ]
  },
  {
   "cell_type": "code",
   "execution_count": 2,
   "id": "f008f913",
   "metadata": {},
   "outputs": [],
   "source": [
    "signals_dir = '../../data/GM12878/hg19/genomic-assays/bin_100000/'\n",
    "CTCF_bedpe_path = '../../data/GM12878/hg19/ChIA-PET/CTCF/lifted_data'\n",
    "RNAPII_bedpe_path = '../../data/GM12878/hg19/ChIA-PET/RNAPII/lifted_data'\n",
    "gene_expression_path = '../../data/GM12878/hg19/gene_expression/GM12878_genes_RPKM.txt'\n",
    "RT_path = '../../data/GM12878/hg19/RT/six_phase/six_phases.txt'\n",
    "annotation_dir = \"../../data/GM12878/hg19/res100000_datasets/annotations\"\n",
    "functional_signals = np.loadtxt('../../data/GM12878/hg19/res100000_datasets/signals.txt')\n",
    "structural_signals = np.loadtxt('../../data/GM12878/hg19/res100000_datasets/structural_signals.txt')\n",
    "annot_dir = os.path.join(annotation_dir, 'k8')"
   ]
  },
  {
   "cell_type": "code",
   "execution_count": 3,
   "id": "c3c9254d",
   "metadata": {},
   "outputs": [],
   "source": [
    "GM12878_signals_names = ['DNase', 'H3K4me2', 'H3K27ac', 'H2A.Z', 'H3K9me3', 'H3K4me1', 'H3K27me3', 'H3K9ac', 'H3K4me3', 'H3K36me3', 'H3K79me2', 'H4K20me1']\n",
    "datasets = {}\n",
    "res = 100000\n",
    "GM12878_dataset = dataset('GM12878', 'hg19', res, '../../data/GM12878/hg19/Hi-C/GSE63525_GM12878_insitu_primary_30.hic',\n",
    "                 '../../utilities/juicer_tools_1.22.01.jar', '../../data/GM12878/hg19/Hi-C/res{}'.format(res),\n",
    "                 GM12878_signals_names, '../../data/GM12878/hg19/genomic-assays/bin_{}/'.format(res), \n",
    "                  '../../data/GM12878/hg19/res{}_datasets/'.format(res),\n",
    "                  '../../data/', '../../utilities/config.json')\n",
    "GM12878_dataset.load_pos2ind_and_ind2pos_maps('../../data/valid_bins/hg19/GM12878_{}_bins.txt'.format(res))"
   ]
  },
  {
   "cell_type": "code",
   "execution_count": null,
   "id": "a33aed5d",
   "metadata": {},
   "outputs": [],
   "source": [
    "k = 8\n",
    "signals_path = \"../../data/GM12878/hg19/res100000_datasets/signals.txt\"\n",
    "bins_path = \"../../data/GM12878/hg19/res100000_datasets/bin.txt\"\n",
    "chain_path = '../../data/GM12878/hg19/res100000_datasets/interactions/chain_interactions.txt'\n",
    "oe_intra_hic_path = '../../data/GM12878/hg19/res100000_datasets/interactions/oe_significant_intra_interactions_b2000.txt'\n",
    "annotation_dir = \"../../data/GM12878/hg19/res100000_datasets/annotations/\"\n",
    "annot_dir = os.path.join(annotation_dir, 'k{}'.format(k))"
   ]
  },
  {
   "cell_type": "markdown",
   "id": "5aab9082",
   "metadata": {},
   "source": [
    "# alternatives"
   ]
  },
  {
   "cell_type": "code",
   "execution_count": null,
   "id": "ab2548a3",
   "metadata": {},
   "outputs": [],
   "source": [
    "'''\n",
    "gmm_mp_args = {\"i\": signals_path, \"e\": chain_path, \"g\": bins_path, \"r\": 1, \"n\": k, \n",
    "              \"il\": 5, \"ml\": 10, \"w\": 10, \"o\": 'GM12878_res100000_mp', \"mp\": '../../alternatives/segway-gbr-master/measureProp/MP_large_scale'}\n",
    "gmm_mp = GMM_MP(gmm_mp_args)\n",
    "gmm_mp.write_mp_graph()\n",
    "gmm_mp.GMM_train()\n",
    "gmm_mp.GMM_inference(0)\n",
    "for l in range(10):\n",
    "    gmm_mp.write_mp_post(l+1)\n",
    "    gmm_mp.run_measure_prop(l+1)\n",
    "    gmm_mp.read_mp_post(l+1)\n",
    "    gmm_mp.GMM_inference(l+1)\n",
    "GM12878_dataset.write_annotation(gmm_mp.iters_labels[-1], 'GMM_GBR_chain', annot_dir)\n",
    "\n",
    "\n",
    "gmm_mp_args = {\"i\": signals_path, \"e\": oe_intra_hic_path, \"g\": bins_path, \"r\": 1, \"n\": k, \n",
    "              \"il\": 5, \"ml\": 10, \"w\": 10, \"o\": 'GM12878_res100000_mp', \"mp\": '../../alternatives/segway-gbr-master/measureProp/MP_large_scale'}\n",
    "gmm_mp = GMM_MP(gmm_mp_args)\n",
    "gmm_mp.write_mp_graph()\n",
    "gmm_mp.GMM_train()\n",
    "gmm_mp.GMM_inference(0)\n",
    "for l in range(10):\n",
    "    gmm_mp.write_mp_post(l+1)\n",
    "    gmm_mp.run_measure_prop(l+1)\n",
    "    gmm_mp.read_mp_post(l+1)\n",
    "    gmm_mp.GMM_inference(l+1)\n",
    "GM12878_dataset.write_annotation(gmm_mp.iters_labels[-1], 'GMM_GBR_intra', annot_dir)\n",
    "\n",
    "'''\n",
    "mrf_signals = mrf_util.readData(signals_path)\n",
    "mrf_bins = mrf_util.readBedGraph(bins_path)\n",
    "n = mrf_signals.shape[0]\n",
    "\n",
    "# SPIN with chain structure\n",
    "mrf_hic = mrf_util.create_hic_matrix([chain_path], n, True)\n",
    "hmrf = MarkovRandomField(n, mrf_hic, mrf_signals, 'mrf', k, 5, 0.01)\n",
    "hmrf.init_gmm()\n",
    "hmrf.init_trans()\n",
    "hmrf.solve()\n",
    "GM12878_dataset.write_annotation(hmrf.iters_labels[-1], 'SPIN_chain', annot_dir)\n",
    "\n",
    "\n",
    "# SPIN with chain + intra-chromosomal O/E structure\n",
    "mrf_hic = mrf_util.create_hic_matrix([chain_path,oe_intra_hic_path], n, True)\n",
    "hmrf = MarkovRandomField(n, mrf_hic, mrf_signals, 'mrf', k, 5, 0.01)\n",
    "hmrf.init_gmm()\n",
    "hmrf.init_trans()\n",
    "hmrf.solve()\n",
    "GM12878_dataset.write_annotation(hmrf.iters_labels[-1], 'SPIN_chain_intra', annot_dir)"
   ]
  },
  {
   "cell_type": "code",
   "execution_count": null,
   "id": "27f8319d",
   "metadata": {},
   "outputs": [],
   "source": [
    "stats_df = []\n",
    "for method in ['HMM_functional', 'HMM_structural', 'HMM_combined', 'GMM_GBR_chain', 'GMM_GBR_intra', 'SPIN_chain', 'SPIN_intra']:\n",
    "   \n",
    "    annot_path = os.path.join(annot_dir, '{}_annotation.txt'.format(method))\n",
    "    stats = evaluation_utils.stats(annot_path, 100000, gene_expression_path, RT_path, \n",
    "                                   CTCF_bedpe_path, RNAPII_bedpe_path)\n",
    "    stats['method'] = method\n",
    "    stats_df.append(stats)\n",
    "\n",
    "stats_df = pd.DataFrame(stats_df)"
   ]
  }
 ],
 "metadata": {
  "kernelspec": {
   "display_name": "IChDA",
   "language": "python",
   "name": "ichda"
  },
  "language_info": {
   "codemirror_mode": {
    "name": "ipython",
    "version": 3
   },
   "file_extension": ".py",
   "mimetype": "text/x-python",
   "name": "python",
   "nbconvert_exporter": "python",
   "pygments_lexer": "ipython3",
   "version": "3.10.4"
  }
 },
 "nbformat": 4,
 "nbformat_minor": 5
}
