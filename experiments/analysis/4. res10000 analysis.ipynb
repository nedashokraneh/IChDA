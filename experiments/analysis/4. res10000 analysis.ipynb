{
 "cells": [
  {
   "cell_type": "code",
   "execution_count": 1,
   "metadata": {},
   "outputs": [],
   "source": [
    "import sys\n",
    "import os\n",
    "sys.path.append(\"../../src/\")\n",
    "sys.path.append(\"../../utilities/\")\n",
    "import dataset_class\n",
    "from dataset_class import dataset\n",
    "import data_utils\n",
    "import evaluation_utils\n",
    "import numpy as np\n",
    "import pandas as pd\n",
    "import seaborn as sns"
   ]
  },
  {
   "cell_type": "code",
   "execution_count": 125,
   "metadata": {},
   "outputs": [],
   "source": [
    "from importlib import reload\n",
    "evaluation_utils = reload(evaluation_utils)\n",
    "data_utils = reload(data_utils)"
   ]
  },
  {
   "cell_type": "code",
   "execution_count": 3,
   "metadata": {},
   "outputs": [],
   "source": [
    "signals_dir = '../../data/GM12878/hg19/genomic-assays/bin_10000/'\n",
    "TAD_path = '../../data/GM12878/hg19/annotations/GSE63525_GM12878_primary+replicate_Arrowhead_domainlist.txt'\n",
    "CTCF_bedpe_path = '../../data/GM12878/hg19/ChIA-PET/CTCF/lifted_data'\n",
    "RNAPII_bedpe_path = '../../data/GM12878/hg19/ChIA-PET/RNAPII/lifted_data'\n",
    "gene_expression_path = '../../data/GM12878/hg19/gene_expression/GM12878_genes_RPKM.txt'\n",
    "RT_path = '../../data/GM12878/hg19/RT/six_phase/six_phases.txt'\n",
    "TAD_agreements = {}\n",
    "CTCF_ChIA_PETs = {}\n",
    "RNAPII_ChIA_PETs = {}\n",
    "resolution = 10000"
   ]
  },
  {
   "cell_type": "code",
   "execution_count": 6,
   "metadata": {},
   "outputs": [],
   "source": [
    "annotation_path = '../../data/GM12878/hg19/res10000_datasets/annotations/gmm_mp_0_annotation.txt'"
   ]
  },
  {
   "cell_type": "code",
   "execution_count": 96,
   "metadata": {},
   "outputs": [
    {
     "data": {
      "text/plain": [
       "{'0': 0.5730382963276666,\n",
       " '3': 0.07854755278601246,\n",
       " '2': 0.12260647952084215,\n",
       " '4': 0.07565490955290702,\n",
       " '1': 0.15015276181257184}"
      ]
     },
     "execution_count": 96,
     "metadata": {},
     "output_type": "execute_result"
    }
   ],
   "source": [
    "evaluation_utils.get_coverage(annotation_path)"
   ]
  },
  {
   "cell_type": "code",
   "execution_count": null,
   "metadata": {},
   "outputs": [],
   "source": [
    "TADs = pd.read_csv(TAD_path, sep = \"\\t\")"
   ]
  },
  {
   "cell_type": "code",
   "execution_count": 114,
   "metadata": {},
   "outputs": [],
   "source": [
    "TAD_freqs = []\n",
    "for ind,row in TADs.iterrows():\n",
    "    chr_name = 'chr{}'.format(row['chr_name'])\n",
    "    if not evaluation_utils.is_valid_chr(chr_name):\n",
    "        continue\n",
    "    start = int(row['start'])\n",
    "    end = int(row['end'])\n",
    "    TAD_freqs.append(evaluation_utils.annot_freq_for_region_by_arm(chr_name, start, end, annotation_dict, resolution))"
   ]
  },
  {
   "cell_type": "code",
   "execution_count": 120,
   "metadata": {},
   "outputs": [],
   "source": [
    "labels = [str(i) for i in np.arange(5)]\n",
    "total_TAD_freqs = {}\n",
    "for label in labels:\n",
    "    total_TAD_freqs[label] = 0"
   ]
  },
  {
   "cell_type": "code",
   "execution_count": 121,
   "metadata": {},
   "outputs": [],
   "source": [
    "for freq in TAD_freqs:\n",
    "    for key in freq:\n",
    "        if key in labels:\n",
    "            total_TAD_freqs[key] = total_TAD_freqs[key] + freq[key]"
   ]
  },
  {
   "cell_type": "code",
   "execution_count": 126,
   "metadata": {},
   "outputs": [
    {
     "data": {
      "text/plain": [
       "{'0': 0.3868355562050573,\n",
       " '1': 0.20336375006984533,\n",
       " '2': 0.15933326742801637,\n",
       " '3': 0.12595795527321338,\n",
       " '4': 0.12450947102386777}"
      ]
     },
     "execution_count": 126,
     "metadata": {},
     "output_type": "execute_result"
    }
   ],
   "source": [
    "data_utils.normalize_dict(total_TAD_freqs)"
   ]
  },
  {
   "cell_type": "code",
   "execution_count": 100,
   "metadata": {},
   "outputs": [],
   "source": [
    "TADs = TADs.iloc[:,0:3]\n",
    "TADs.columns = ['chr_name', 'start', 'end']"
   ]
  },
  {
   "cell_type": "code",
   "execution_count": 103,
   "metadata": {},
   "outputs": [],
   "source": [
    "TADs.sort_values(['chr_name', 'start'], inplace=True)"
   ]
  },
  {
   "cell_type": "code",
   "execution_count": 108,
   "metadata": {},
   "outputs": [
    {
     "data": {
      "text/plain": [
       "array([ True,  True,  True,  True, False,  True,  True,  True,  True,\n",
       "        True, False,  True,  True,  True, False,  True, False, False,\n",
       "        True,  True,  True,  True, False,  True,  True,  True, False,\n",
       "       False,  True, False, False, False,  True,  True,  True, False,\n",
       "       False, False,  True,  True, False,  True,  True, False, False,\n",
       "        True,  True, False, False, False, False,  True,  True,  True,\n",
       "        True,  True, False, False,  True,  True, False,  True,  True,\n",
       "        True, False, False,  True,  True,  True,  True,  True,  True,\n",
       "        True,  True, False,  True,  True,  True,  True, False,  True,\n",
       "        True, False,  True,  True,  True, False, False,  True, False,\n",
       "        True,  True,  True, False,  True, False, False,  True, False,\n",
       "       False, False,  True,  True,  True, False,  True,  True,  True,\n",
       "       False,  True,  True,  True, False,  True,  True, False, False,\n",
       "       False, False, False,  True, False,  True,  True, False, False,\n",
       "        True, False,  True, False,  True,  True,  True,  True, False,\n",
       "       False, False, False, False,  True,  True, False,  True,  True,\n",
       "       False,  True,  True,  True,  True, False,  True,  True,  True,\n",
       "       False, False,  True,  True,  True,  True,  True, False,  True,\n",
       "        True, False, False,  True, False,  True,  True,  True, False,\n",
       "       False, False,  True,  True,  True,  True,  True, False,  True,\n",
       "        True, False,  True,  True, False,  True,  True, False,  True,\n",
       "       False, False, False,  True,  True, False, False,  True,  True,\n",
       "       False,  True, False, False, False,  True,  True, False,  True,\n",
       "       False, False,  True, False,  True,  True,  True, False, False,\n",
       "        True,  True,  True, False,  True,  True, False, False,  True,\n",
       "        True, False, False,  True, False,  True,  True, False,  True,\n",
       "        True,  True,  True,  True, False,  True,  True,  True, False,\n",
       "       False, False,  True,  True, False,  True,  True, False, False,\n",
       "       False,  True,  True,  True, False,  True,  True,  True,  True,\n",
       "        True,  True,  True, False,  True,  True,  True, False,  True,\n",
       "        True, False,  True,  True,  True,  True, False,  True,  True,\n",
       "       False, False,  True, False, False,  True, False, False, False,\n",
       "        True,  True,  True, False,  True, False,  True,  True,  True,\n",
       "        True,  True, False,  True,  True,  True,  True, False,  True,\n",
       "        True,  True,  True,  True,  True,  True,  True, False,  True,\n",
       "        True,  True, False,  True,  True,  True, False,  True,  True,\n",
       "        True,  True, False,  True, False,  True, False,  True,  True,\n",
       "        True,  True,  True,  True, False, False,  True,  True,  True,\n",
       "        True,  True,  True, False,  True,  True, False,  True,  True,\n",
       "       False,  True,  True, False,  True,  True, False,  True, False,\n",
       "       False,  True,  True, False, False,  True,  True,  True, False,\n",
       "        True,  True,  True,  True,  True, False,  True,  True, False,\n",
       "        True,  True,  True,  True, False, False,  True, False, False,\n",
       "        True,  True,  True,  True,  True,  True,  True, False,  True,\n",
       "        True,  True, False,  True, False, False,  True,  True,  True,\n",
       "        True,  True,  True,  True,  True,  True,  True, False, False,\n",
       "        True,  True,  True,  True,  True, False,  True,  True,  True,\n",
       "       False,  True,  True,  True,  True, False,  True, False, False,\n",
       "        True,  True,  True, False,  True,  True, False,  True,  True,\n",
       "       False, False,  True,  True, False,  True, False,  True, False,\n",
       "        True, False,  True,  True,  True,  True,  True, False,  True,\n",
       "        True,  True,  True,  True, False, False, False, False,  True,\n",
       "       False,  True,  True,  True,  True,  True,  True,  True,  True,\n",
       "        True,  True,  True, False, False,  True,  True, False, False,\n",
       "       False, False,  True, False,  True,  True, False, False, False,\n",
       "        True,  True, False, False,  True,  True,  True, False,  True,\n",
       "       False,  True,  True,  True,  True, False, False, False, False,\n",
       "        True,  True,  True, False,  True,  True,  True, False,  True,\n",
       "       False, False,  True, False, False, False,  True, False, False,\n",
       "        True, False, False,  True,  True, False,  True,  True,  True,\n",
       "        True, False, False,  True,  True,  True, False,  True,  True,\n",
       "       False, False, False, False,  True,  True, False,  True, False,\n",
       "       False,  True,  True, False,  True,  True, False, False,  True,\n",
       "        True,  True,  True,  True, False,  True,  True, False, False,\n",
       "        True, False,  True,  True,  True, False, False,  True,  True,\n",
       "       False,  True,  True, False, False, False, False,  True,  True,\n",
       "        True,  True,  True,  True,  True,  True, False, False,  True,\n",
       "       False,  True,  True, False,  True,  True,  True,  True,  True,\n",
       "        True,  True, False,  True,  True, False,  True, False,  True,\n",
       "       False, False,  True,  True,  True, False,  True,  True, False,\n",
       "        True,  True,  True, False, False,  True,  True, False,  True,\n",
       "        True, False, False,  True, False,  True, False,  True,  True,\n",
       "        True,  True,  True, False,  True,  True,  True, False, False,\n",
       "        True,  True, False,  True, False,  True, False,  True,  True,\n",
       "       False, False,  True,  True, False, False,  True,  True,  True,\n",
       "        True,  True,  True,  True, False,  True,  True, False,  True,\n",
       "       False,  True,  True,  True, False,  True, False,  True, False,\n",
       "       False,  True, False,  True,  True,  True, False,  True,  True,\n",
       "       False,  True,  True, False, False,  True, False,  True, False,\n",
       "        True,  True, False,  True, False, False,  True, False, False,\n",
       "       False, False,  True, False,  True,  True,  True,  True, False,\n",
       "        True, False, False, False,  True, False, False,  True,  True,\n",
       "        True,  True, False,  True,  True,  True, False,  True,  True,\n",
       "       False,  True, False,  True,  True,  True,  True, False,  True,\n",
       "        True,  True, False,  True, False,  True, False,  True, False,\n",
       "        True,  True, False, False,  True,  True,  True,  True, False,\n",
       "        True,  True, False,  True, False,  True,  True,  True,  True,\n",
       "        True, False,  True, False,  True, False,  True,  True, False,\n",
       "        True,  True,  True, False,  True,  True,  True,  True,  True,\n",
       "       False,  True,  True, False,  True, False, False, False,  True,\n",
       "       False, False,  True,  True, False,  True, False,  True,  True,\n",
       "       False, False, False, False,  True, False,  True, False, False,\n",
       "       False,  True,  True, False,  True, False, False,  True, False,\n",
       "        True,  True, False, False,  True,  True, False, False,  True,\n",
       "        True,  True,  True, False, False, False,  True,  True, False,\n",
       "        True,  True, False, False,  True, False, False,  True,  True,\n",
       "       False, False,  True,  True, False,  True,  True,  True, False,\n",
       "       False, False,  True,  True,  True,  True, False,  True, False,\n",
       "       False, False, False,  True,  True,  True])"
      ]
     },
     "execution_count": 108,
     "metadata": {},
     "output_type": "execute_result"
    }
   ],
   "source": [
    "TADs[TADs['chr_name']=='1']['start'].values[1:] > TADs[TADs['chr_name']=='1']['end'].values[:-1]"
   ]
  },
  {
   "cell_type": "code",
   "execution_count": 7,
   "metadata": {},
   "outputs": [],
   "source": [
    "annotation_dict = evaluation_utils.make_annotation_dict_chr_arm(annotation_path,resolution)"
   ]
  },
  {
   "cell_type": "code",
   "execution_count": 77,
   "metadata": {},
   "outputs": [],
   "source": [
    "f_most,f_ds, valid_f_ds, num_TADs = evaluation_utils.TAD_agreement(annotation_dict, TAD_path, resolution, 0)"
   ]
  },
  {
   "cell_type": "code",
   "execution_count": 78,
   "metadata": {},
   "outputs": [
    {
     "name": "stdout",
     "output_type": "stream",
     "text": [
      "9048 0.5570625942417263 9048\n"
     ]
    }
   ],
   "source": [
    "print(len(f_ds), np.mean(f_ds), num_TADs)"
   ]
  },
  {
   "cell_type": "code",
   "execution_count": 79,
   "metadata": {},
   "outputs": [],
   "source": [
    "p_most,p_ds, valid_p_ds, num_TADs = evaluation_utils.TAD_agreement(annotation_dict, TAD_path, resolution, 0.3)"
   ]
  },
  {
   "cell_type": "code",
   "execution_count": 80,
   "metadata": {},
   "outputs": [
    {
     "name": "stdout",
     "output_type": "stream",
     "text": [
      "8230 0.6838934351155406\n"
     ]
    }
   ],
   "source": [
    "print(len(p_ds), np.mean(p_ds))"
   ]
  },
  {
   "cell_type": "code",
   "execution_count": 87,
   "metadata": {},
   "outputs": [
    {
     "data": {
      "text/plain": [
       "8230"
      ]
     },
     "execution_count": 87,
     "metadata": {},
     "output_type": "execute_result"
    }
   ],
   "source": [
    "len([f_ds[i] for i in valid_p_ds])"
   ]
  },
  {
   "cell_type": "code",
   "execution_count": 89,
   "metadata": {},
   "outputs": [],
   "source": [
    "#num_TADs = pd.read_csv(TAD_path, sep = \"\\t\").shape[0]\n",
    "p_ds_df = pd.DataFrame({'TAD_num': np.arange(num_TADs)})"
   ]
  },
  {
   "cell_type": "code",
   "execution_count": 90,
   "metadata": {},
   "outputs": [
    {
     "name": "stderr",
     "output_type": "stream",
     "text": [
      "/home/nedooshki/.local/lib/python3.6/site-packages/ipykernel_launcher.py:5: SettingWithCopyWarning: \n",
      "A value is trying to be set on a copy of a slice from a DataFrame\n",
      "\n",
      "See the caveats in the documentation: https://pandas.pydata.org/pandas-docs/stable/user_guide/indexing.html#returning-a-view-versus-a-copy\n",
      "  \"\"\"\n",
      "/home/nedooshki/.local/lib/python3.6/site-packages/ipykernel_launcher.py:6: SettingWithCopyWarning: \n",
      "A value is trying to be set on a copy of a slice from a DataFrame\n",
      "\n",
      "See the caveats in the documentation: https://pandas.pydata.org/pandas-docs/stable/user_guide/indexing.html#returning-a-view-versus-a-copy\n",
      "  \n"
     ]
    }
   ],
   "source": [
    "p_ds_df['p_f_d'] = None\n",
    "p_ds_df['p_most'] = None\n",
    "p_ds_df['f_d'] = f_ds\n",
    "p_ds_df['f_most'] = f_most\n",
    "p_ds_df['p_f_d'][valid_p_ds] = p_ds\n",
    "p_ds_df['p_most'][valid_p_ds] = p_most\n",
    "p_ds_df.dropna(axis=0, inplace=True)"
   ]
  }
 ],
 "metadata": {
  "kernelspec": {
   "display_name": "embedding",
   "language": "python",
   "name": "embedding"
  },
  "language_info": {
   "codemirror_mode": {
    "name": "ipython",
    "version": 3
   },
   "file_extension": ".py",
   "mimetype": "text/x-python",
   "name": "python",
   "nbconvert_exporter": "python",
   "pygments_lexer": "ipython3",
   "version": "3.6.15"
  }
 },
 "nbformat": 4,
 "nbformat_minor": 2
}
