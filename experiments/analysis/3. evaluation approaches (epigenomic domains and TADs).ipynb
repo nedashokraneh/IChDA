{
 "cells": [
  {
   "cell_type": "code",
   "execution_count": 1,
   "metadata": {},
   "outputs": [],
   "source": [
    "import sys\n",
    "import os\n",
    "sys.path.append(\"../../src/\")\n",
    "sys.path.append(\"../../utilities/\")\n",
    "import data_utils\n",
    "import evaluation_utils\n",
    "from dataset_class import dataset\n",
    "import topdom"
   ]
  },
  {
   "cell_type": "code",
   "execution_count": 2,
   "metadata": {},
   "outputs": [
    {
     "ename": "NameError",
     "evalue": "name 'GM12878_signals_names' is not defined",
     "output_type": "error",
     "traceback": [
      "\u001b[0;31m---------------------------------------------------------------------------\u001b[0m",
      "\u001b[0;31mNameError\u001b[0m                                 Traceback (most recent call last)",
      "\u001b[0;32m<ipython-input-2-0fc0b5b326d4>\u001b[0m in \u001b[0;36m<module>\u001b[0;34m\u001b[0m\n\u001b[1;32m      2\u001b[0m GM12878_dataset_10k = dataset('GM12878', 'hg19', resolution, '../../data/GM12878/hg19/Hi-C/GSE63525_GM12878_insitu_primary_30.hic',\n\u001b[1;32m      3\u001b[0m                  \u001b[0;34m'../../utilities/juicer_tools_1.22.01.jar'\u001b[0m\u001b[0;34m,\u001b[0m \u001b[0;34m'../../data/GM12878/hg19/Hi-C/res{}'\u001b[0m\u001b[0;34m.\u001b[0m\u001b[0mformat\u001b[0m\u001b[0;34m(\u001b[0m\u001b[0mresolution\u001b[0m\u001b[0;34m)\u001b[0m\u001b[0;34m,\u001b[0m\u001b[0;34m\u001b[0m\u001b[0;34m\u001b[0m\u001b[0m\n\u001b[0;32m----> 4\u001b[0;31m                  \u001b[0mGM12878_signals_names\u001b[0m\u001b[0;34m,\u001b[0m \u001b[0;34m'../../data/GM12878/hg19/genomic-assays/bin_{}/'\u001b[0m\u001b[0;34m.\u001b[0m\u001b[0mformat\u001b[0m\u001b[0;34m(\u001b[0m\u001b[0mresolution\u001b[0m\u001b[0;34m)\u001b[0m\u001b[0;34m,\u001b[0m\u001b[0;34m\u001b[0m\u001b[0;34m\u001b[0m\u001b[0m\n\u001b[0m\u001b[1;32m      5\u001b[0m                   \u001b[0;34m'../../data/GM12878/hg19/res{}_datasets/'\u001b[0m\u001b[0;34m.\u001b[0m\u001b[0mformat\u001b[0m\u001b[0;34m(\u001b[0m\u001b[0mresolution\u001b[0m\u001b[0;34m)\u001b[0m\u001b[0;34m,\u001b[0m\u001b[0;34m\u001b[0m\u001b[0;34m\u001b[0m\u001b[0m\n\u001b[1;32m      6\u001b[0m                   '../../data/', '../../utilities/config.json')\n",
      "\u001b[0;31mNameError\u001b[0m: name 'GM12878_signals_names' is not defined"
     ]
    }
   ],
   "source": [
    "resolution = 10000\n",
    "GM12878_dataset_10k = dataset('GM12878', 'hg19', resolution, '../../data/GM12878/hg19/Hi-C/GSE63525_GM12878_insitu_primary_30.hic',\n",
    "                 '../../utilities/juicer_tools_1.22.01.jar', '../../data/GM12878/hg19/Hi-C/res{}'.format(resolution),\n",
    "                 GM12878_signals_names, '../../data/GM12878/hg19/genomic-assays/bin_{}/'.format(resolution), \n",
    "                  '../../data/GM12878/hg19/res{}_datasets/'.format(resolution),\n",
    "                  '../../data/', '../../utilities/config.json')\n",
    "GM12878_dataset_10k.load_pos2ind_and_ind2pos_maps('../../data/valid_bins/hg19/GM12878_{}_bins.txt'.format(resolution))\n",
    "\n",
    "resolution = 25000\n",
    "GM12878_dataset_25k = dataset('GM12878', 'hg19', resolution, '../../data/GM12878/hg19/Hi-C/GSE63525_GM12878_insitu_primary_30.hic',\n",
    "                 '../../utilities/juicer_tools_1.22.01.jar', '../../data/GM12878/hg19/Hi-C/res{}'.format(resolution),\n",
    "                 GM12878_signals_names, '../../data/GM12878/hg19/genomic-assays/bin_{}/'.format(resolution), \n",
    "                  '../../data/GM12878/hg19/res{}_datasets/'.format(resolution),\n",
    "                  '../../data/', '../../utilities/config.json')\n",
    "GM12878_dataset_25k.load_pos2ind_and_ind2pos_maps('../../data/valid_bins/hg19/GM12878_{}_bins.txt'.format(resolution))\n",
    "\n",
    "resolution = 100000\n",
    "GM12878_dataset_100k = dataset('GM12878', 'hg19', resolution, '../../data/GM12878/hg19/Hi-C/GSE63525_GM12878_insitu_primary_30.hic',\n",
    "                 '../../utilities/juicer_tools_1.22.01.jar', '../../data/GM12878/hg19/Hi-C/res{}'.format(resolution),\n",
    "                 GM12878_signals_names, '../../data/GM12878/hg19/genomic-assays/bin_{}/'.format(resolution), \n",
    "                  '../../data/GM12878/hg19/res{}_datasets/'.format(resolution),\n",
    "                  '../../data/', '../../utilities/config.json')\n",
    "GM12878_dataset_100k.load_pos2ind_and_ind2pos_maps('../../data/valid_bins/hg19/GM12878_{}_bins.txt'.format(resolution))"
   ]
  }
 ],
 "metadata": {
  "kernelspec": {
   "display_name": "embedding",
   "language": "python",
   "name": "embedding"
  },
  "language_info": {
   "codemirror_mode": {
    "name": "ipython",
    "version": 3
   },
   "file_extension": ".py",
   "mimetype": "text/x-python",
   "name": "python",
   "nbconvert_exporter": "python",
   "pygments_lexer": "ipython3",
   "version": "3.6.15"
  }
 },
 "nbformat": 4,
 "nbformat_minor": 2
}
