{
 "cells": [
  {
   "cell_type": "code",
   "execution_count": 1,
   "metadata": {},
   "outputs": [],
   "source": [
    "import os \n",
    "import pandas as pd\n",
    "from scipy.stats import zscore\n",
    "import seaborn as sns\n",
    "import matplotlib.pyplot as plt\n",
    "import numpy as np\n",
    "import math\n",
    "import sys\n",
    "sys.path.append(\"../../utilities/\")\n",
    "import data_utils\n",
    "import evaluation_utils"
   ]
  },
  {
   "cell_type": "code",
   "execution_count": 13,
   "metadata": {},
   "outputs": [],
   "source": [
    "resolution = 100000"
   ]
  },
  {
   "cell_type": "code",
   "execution_count": null,
   "metadata": {},
   "outputs": [],
   "source": [
    "valid_bins = pd.read_csv(\"../../data/valid_bins/GM12878_100000_bins.txt\", sep = \"\\t\", header = None)\n",
    "valid_bins.columns = ['chr_name', 'start', 'end', 'index']\n",
    "valid_bins['pos'] = [int(p/100000) for p in valid_bins['start']]\n",
    "valid_bins = valid_bins[['chr_name', 'pos']]\n",
    "valid_pos = {}\n",
    "valid_pos['chr21'] = valid_bins[valid_bins['chr_name'] == 'chr21']['pos'].values\n",
    "valid_pos['chr22'] = valid_bins[valid_bins['chr_name'] == 'chr22']['pos'].values"
   ]
  },
  {
   "cell_type": "code",
   "execution_count": 65,
   "metadata": {},
   "outputs": [],
   "source": [
    "annots = {}\n",
    "for k in np.arange(4,11):\n",
    "    annot = data_utils.read_annot_file(\"../../data/GM12878/annotations/res100000/func_k\" + str(k) + \".bed\", 1, resolution,1)\n",
    "    annot = annot[annot['chr_name'].isin(['chr21'])]\n",
    "    annot = data_utils.melt_annotation(annot)\n",
    "    annot = annot[annot['pos'].isin(valid_pos['chr21'])]\n",
    "    annot.reset_index(drop=True, inplace=True)\n",
    "    annots[k] = annot"
   ]
  },
  {
   "cell_type": "code",
   "execution_count": 15,
   "metadata": {},
   "outputs": [],
   "source": [
    "HiCs = {}\n",
    "HiCs['chr21','chr21'] = data_utils.create_matrix(\"../../data\", 'GM12878', 'chr21', 'chr21', resolution)\n",
    "HiCs['chr21','chr21'] = HiCs['chr21','chr21'][np.ix_(valid_pos['chr21'],valid_pos['chr21'])]"
   ]
  },
  {
   "cell_type": "code",
   "execution_count": 67,
   "metadata": {},
   "outputs": [
    {
     "name": "stdout",
     "output_type": "stream",
     "text": [
      "4\n",
      "5\n",
      "6\n",
      "7\n",
      "8\n",
      "9\n",
      "10\n"
     ]
    }
   ],
   "source": [
    "for key in annots:\n",
    "    print(key)"
   ]
  },
  {
   "cell_type": "code",
   "execution_count": 70,
   "metadata": {},
   "outputs": [],
   "source": [
    "labels_overlaps = {}\n",
    "for key in annots:\n",
    "    annot = annots[key]\n",
    "    labels = np.unique(annot['label'])\n",
    "    labels_overlap = pd.DataFrame(index = labels, columns = labels)\n",
    "    for label1 in labels:\n",
    "        for label2 in labels:\n",
    "            if label1 == label2:\n",
    "                l = annot.index[annot['label']==label1].tolist()\n",
    "                A = HiCs['chr21','chr21'][np.ix_(l,l)]\n",
    "                labels_overlap.loc[label1,label2] = np.triu(A,1).mean() + np.diag(A).mean()\n",
    "            else:\n",
    "                l1 = annot.index[annot['label']==label1].tolist()\n",
    "                l2 = annot.index[annot['label']==label2].tolist()\n",
    "                A = HiCs['chr21','chr21'][np.ix_(l1,l2)]\n",
    "                labels_overlap.loc[label1,label2] = A.mean()\n",
    "    labels_overlaps[key] = labels_overlap"
   ]
  },
  {
   "cell_type": "code",
   "execution_count": 79,
   "metadata": {},
   "outputs": [
    {
     "data": {
      "text/plain": [
       "<AxesSubplot:>"
      ]
     },
     "execution_count": 79,
     "metadata": {},
     "output_type": "execute_result"
    },
    {
     "data": {
      "image/png": "[encoded data removed]",
      "text/plain": [
       "<Figure size 432x288 with 2 Axes>"
      ]
     },
     "metadata": {
      "needs_background": "light"
     },
     "output_type": "display_data"
    }
   ],
   "source": [
    "sns.heatmap(np.array(labels_overlaps[5].astype(float)), cmap = 'Blues')"
   ]
  },
  {
   "cell_type": "code",
   "execution_count": null,
   "metadata": {},
   "outputs": [],
   "source": []
  }
 ],
 "metadata": {
  "kernelspec": {
   "display_name": "embedding",
   "language": "python",
   "name": "embedding"
  },
  "language_info": {
   "codemirror_mode": {
    "name": "ipython",
    "version": 3
   },
   "file_extension": ".py",
   "mimetype": "text/x-python",
   "name": "python",
   "nbconvert_exporter": "python",
   "pygments_lexer": "ipython3",
   "version": "3.6.15"
  }
 },
 "nbformat": 4,
 "nbformat_minor": 2
}
