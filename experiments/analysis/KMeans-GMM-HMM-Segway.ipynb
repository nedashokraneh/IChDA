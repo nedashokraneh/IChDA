{
 "cells": [
  {
   "cell_type": "code",
   "execution_count": 1,
   "metadata": {},
   "outputs": [],
   "source": [
    "import os\n",
    "import numpy as np\n",
    "import pandas as pd\n",
    "from yellowbrick.cluster import KElbowVisualizer\n",
    "from sklearn.cluster import KMeans\n",
    "from sklearn.mixture import GaussianMixture\n",
    "import sys\n",
    "sys.path.append(\"../../utilities/\")\n",
    "import data_utils\n",
    "import evaluation_utils\n",
    "import seaborn as sns\n",
    "import umap\n",
    "import math\n",
    "from sklearn import metrics\n",
    "from matplotlib import pyplot as plt\n",
    "sys.path.append(\"../../src\")\n",
    "from dataset_class import dataset\n",
    "from importlib import reload\n",
    "evaluation_utils = reload(evaluation_utils)"
   ]
  },
  {
   "cell_type": "code",
   "execution_count": 3,
   "metadata": {},
   "outputs": [],
   "source": [
    "GM12878_signals_names = ['DNase', 'H3K4me2', 'H3K27ac', 'H2A.Z', 'H3K9me3', 'H3K4me1', 'H3K27me3', 'H3K9ac', 'H3K4me3', 'H3K36me3', 'H3K79me2', 'H4K20me1']\n",
    "GM12878_dataset = dataset('GM12878', 'hg19', 100000, '../../data/GM12878/hg19/Hi-C/GSE63525_GM12878_insitu_primary_30.hic',\n",
    "                 '../../utilities/juicer_tools_1.22.01.jar', '../../data/GM12878/hg19/Hi-C/res100000',\n",
    "                 GM12878_signals_names, '../../data/GM12878/hg19/genomic-assays/bin_100000/', \n",
    "                  '../../data/GM12878/hg19/res100000_datasets/',\n",
    "                  '../../data/', '../../utilities/config.json')\n",
    "GM12878_dataset.load_pos2ind_and_ind2pos_maps('../../data/valid_bins/hg19/GM12878_100000_bins.txt')"
   ]
  },
  {
   "cell_type": "code",
   "execution_count": 56,
   "metadata": {},
   "outputs": [],
   "source": [
    "resolution = 100000\n",
    "gene_expression_path = '../../data/GM12878/hg19/gene_expression/GM12878_genes_RPKM.txt'\n",
    "RT_path = '../../data/GM12878/hg19/RT/six_phase/six_phases.txt'\n",
    "GMM_annotations_dir = '../../data/GM12878/hg19/res100000_datasets/annotations/GMM/'\n",
    "HMM_annotations_dir = '../../data/GM12878/hg19/res100000_datasets/annotations/HMM/'\n",
    "KMeans_annotations_dir = '../../data/GM12878/hg19/res100000_datasets/annotations/KMeans/'\n",
    "segway_annotations_dir = '../../data/GM12878/hg19/res100000_datasets/annotations/Segway/'\n",
    "functional_signals_path = '../../data/GM12878/hg19/res100000_datasets/signals.txt'\n",
    "functional_signals = np.loadtxt(functional_signals_path)"
   ]
  },
  {
   "cell_type": "code",
   "execution_count": 47,
   "metadata": {},
   "outputs": [],
   "source": [
    "GM12878_dataset.read_segway_annotation('../../experiments/Segway/annotdir_res100000_k4/segway.bed.gz', 'segway_k4')\n",
    "GM12878_dataset.read_segway_annotation('../../experiments/Segway/annotdir_res100000_k5/segway.bed.gz', 'segway_k5')"
   ]
  },
  {
   "cell_type": "code",
   "execution_count": 48,
   "metadata": {},
   "outputs": [],
   "source": [
    "GM12878_dataset.write_annotation(GM12878_dataset.labels['segway_k4'], 'segway_k4', \n",
    "                                 '../../data/GM12878/hg19/res100000_datasets/annotations/Segway')\n",
    "GM12878_dataset.write_annotation(GM12878_dataset.labels['segway_k5'], 'segway_k5', \n",
    "                                 '../../data/GM12878/hg19/res100000_datasets/annotations/Segway')"
   ]
  },
  {
   "cell_type": "code",
   "execution_count": 50,
   "metadata": {},
   "outputs": [],
   "source": [
    "GM12878_dataset.write_annotation(functional_HMM_viterbi_labels['HMM_viterbi_4'].values, 'HMM_k4', \n",
    "                                 '../../data/GM12878/hg19/res100000_datasets/annotations/HMM')\n",
    "GM12878_dataset.write_annotation(functional_HMM_viterbi_labels['HMM_viterbi_5'].values, 'HMM_k5', \n",
    "                                 '../../data/GM12878/hg19/res100000_datasets/annotations/HMM')"
   ]
  },
  {
   "cell_type": "code",
   "execution_count": 28,
   "metadata": {},
   "outputs": [],
   "source": [
    "k4_annotations = pd.DataFrame()\n",
    "k4_annotations['kmeans'] = functional_kmeans_labels['kmeans_4'].values\n",
    "k4_annotations['GMM'] = functional_GMM_labels['GMM_4'].values\n",
    "k4_annotations['HMM'] = functional_HMM_viterbi_labels['HMM_viterbi_4'].values\n",
    "k4_annotations['segway'] = GM12878_dataset.labels['segway_k4']"
   ]
  },
  {
   "cell_type": "code",
   "execution_count": 29,
   "metadata": {},
   "outputs": [],
   "source": [
    "ARI_df = pd.DataFrame(index = k4_annotations.columns, columns = k4_annotations.columns)\n",
    "for i, method1 in enumerate(k4_annotations.columns):\n",
    "    for method2 in k4_annotations.columns[i:]:\n",
    "        ARI = metrics.adjusted_rand_score(k4_annotations.dropna()[method1], k4_annotations.dropna()[method2])\n",
    "        ARI_df.loc[method1,method2] = ARI"
   ]
  },
  {
   "cell_type": "code",
   "execution_count": 59,
   "metadata": {},
   "outputs": [
    {
     "data": {
      "text/html": [
       "<div>\n",
       "<style scoped>\n",
       "    .dataframe tbody tr th:only-of-type {\n",
       "        vertical-align: middle;\n",
       "    }\n",
       "\n",
       "    .dataframe tbody tr th {\n",
       "        vertical-align: top;\n",
       "    }\n",
       "\n",
       "    .dataframe thead th {\n",
       "        text-align: right;\n",
       "    }\n",
       "</style>\n",
       "<table border=\"1\" class=\"dataframe\">\n",
       "  <thead>\n",
       "    <tr style=\"text-align: right;\">\n",
       "      <th></th>\n",
       "      <th>kmeans</th>\n",
       "      <th>GMM</th>\n",
       "      <th>HMM</th>\n",
       "      <th>segway</th>\n",
       "    </tr>\n",
       "  </thead>\n",
       "  <tbody>\n",
       "    <tr>\n",
       "      <th>kmeans</th>\n",
       "      <td>1</td>\n",
       "      <td>0.349402</td>\n",
       "      <td>0.487665</td>\n",
       "      <td>0.36008</td>\n",
       "    </tr>\n",
       "    <tr>\n",
       "      <th>GMM</th>\n",
       "      <td>NaN</td>\n",
       "      <td>1</td>\n",
       "      <td>0.565963</td>\n",
       "      <td>0.371124</td>\n",
       "    </tr>\n",
       "    <tr>\n",
       "      <th>HMM</th>\n",
       "      <td>NaN</td>\n",
       "      <td>NaN</td>\n",
       "      <td>1</td>\n",
       "      <td>0.372951</td>\n",
       "    </tr>\n",
       "    <tr>\n",
       "      <th>segway</th>\n",
       "      <td>NaN</td>\n",
       "      <td>NaN</td>\n",
       "      <td>NaN</td>\n",
       "      <td>1</td>\n",
       "    </tr>\n",
       "  </tbody>\n",
       "</table>\n",
       "</div>"
      ],
      "text/plain": [
       "       kmeans       GMM       HMM    segway\n",
       "kmeans      1  0.349402  0.487665   0.36008\n",
       "GMM       NaN         1  0.565963  0.371124\n",
       "HMM       NaN       NaN         1  0.372951\n",
       "segway    NaN       NaN       NaN         1"
      ]
     },
     "execution_count": 59,
     "metadata": {},
     "output_type": "execute_result"
    }
   ],
   "source": [
    "ARI_df"
   ]
  },
  {
   "cell_type": "code",
   "execution_count": 93,
   "metadata": {},
   "outputs": [
    {
     "data": {
      "text/plain": [
       "(array([0, 1, 2, 3]), array([ 5838,  4103, 10252,  6502]))"
      ]
     },
     "execution_count": 93,
     "metadata": {},
     "output_type": "execute_result"
    }
   ],
   "source": [
    "np.unique(k4_annotations.dropna()['GMM'], return_counts = True)"
   ]
  },
  {
   "cell_type": "code",
   "execution_count": 35,
   "metadata": {},
   "outputs": [],
   "source": [
    "k4_annotations[GM12878_signals_names] = functional_signals"
   ]
  },
  {
   "cell_type": "code",
   "execution_count": 40,
   "metadata": {},
   "outputs": [],
   "source": [
    "WSS = {}\n",
    "for method in ['kmeans', 'GMM', 'HMM', 'segway']:\n",
    "    WSS[method] = evaluation_utils.within_cluster_SSE(k4_annotations.dropna()[GM12878_signals_names].values\n",
    "                                                      ,k4_annotations.dropna()[method].values)"
   ]
  },
  {
   "cell_type": "code",
   "execution_count": 76,
   "metadata": {},
   "outputs": [
    {
     "data": {
      "text/plain": [
       "Text(0, 0.5, 'Within Sum of Squared (WSS)')"
      ]
     },
     "execution_count": 76,
     "metadata": {},
     "output_type": "execute_result"
    },
    {
     "data": {
      "image/png": "[encoded data removed]",
      "text/plain": [
       "<Figure size 432x288 with 1 Axes>"
      ]
     },
     "metadata": {
      "needs_background": "light"
     },
     "output_type": "display_data"
    }
   ],
   "source": [
    "ax = sns.barplot(x=list(WSS.keys()), y=list(WSS.values()))\n",
    "ax.set_ylabel('Within Sum of Squared (WSS)')"
   ]
  },
  {
   "cell_type": "code",
   "execution_count": 61,
   "metadata": {},
   "outputs": [],
   "source": [
    "num_domains = {}\n",
    "for method in ['kmeans', 'GMM', 'HMM', 'segway']:\n",
    "    num_domains[method] = evaluation_utils.num_domains(k4_annotations.dropna()[method].values)"
   ]
  },
  {
   "cell_type": "code",
   "execution_count": 79,
   "metadata": {},
   "outputs": [],
   "source": [
    "domains_length = {}\n",
    "for method in ['kmeans', 'GMM', 'HMM', 'segway']:\n",
    "    domains_length[method] = evaluation_utils.average_length(k4_annotations.dropna()[method].values, 100000)"
   ]
  },
  {
   "cell_type": "code",
   "execution_count": 84,
   "metadata": {},
   "outputs": [
    {
     "data": {
      "image/png": "[encoded data removed]",
      "text/plain": [
       "<Figure size 720x288 with 2 Axes>"
      ]
     },
     "metadata": {
      "needs_background": "light"
     },
     "output_type": "display_data"
    }
   ],
   "source": [
    "fig, axs = plt.subplots(1,2, figsize = (10,4))\n",
    "sns.barplot(x=list(num_domains.keys()), y=list(num_domains.values()), ax = axs[0])\n",
    "axs[0].set_ylabel('Number of domains')\n",
    "sns.barplot(x=list(domains_length.keys()), y=list(domains_length.values()), ax = axs[1])\n",
    "axs[1].set_ylabel('Average domain length')\n",
    "fig.tight_layout(pad=2.0)"
   ]
  },
  {
   "cell_type": "code",
   "execution_count": 57,
   "metadata": {},
   "outputs": [],
   "source": [
    "gene_expression_ve = {}\n",
    "gene_expression_ve['kmeans'] = evaluation_utils.gene_expression_ve(gene_expression_path, \n",
    "                                                                   os.path.join(KMeans_annotations_dir,\n",
    "                                                                               'kmeans_4_annotation.txt'),\n",
    "                                                                  resolution)\n",
    "gene_expression_ve['GMM'] = evaluation_utils.gene_expression_ve(gene_expression_path, \n",
    "                                                                   os.path.join(GMM_annotations_dir,\n",
    "                                                                               'GMM_4_annotation.txt'),\n",
    "                                                                  resolution)\n",
    "gene_expression_ve['HMM'] = evaluation_utils.gene_expression_ve(gene_expression_path, \n",
    "                                                                   os.path.join(HMM_annotations_dir,\n",
    "                                                                               'HMM_k4_annotation.txt'),\n",
    "                                                                  resolution)\n",
    "gene_expression_ve['segway'] = evaluation_utils.gene_expression_ve(gene_expression_path, \n",
    "                                                                   os.path.join(segway_annotations_dir,\n",
    "                                                                               'segway_k4_annotation.txt'),\n",
    "                                                                  resolution)"
   ]
  },
  {
   "cell_type": "code",
   "execution_count": 85,
   "metadata": {},
   "outputs": [
    {
     "data": {
      "text/plain": [
       "Text(0, 0.5, 'Gene expression VE')"
      ]
     },
     "execution_count": 85,
     "metadata": {},
     "output_type": "execute_result"
    },
    {
     "data": {
      "image/png": "[encoded data removed]",
      "text/plain": [
       "<Figure size 432x288 with 1 Axes>"
      ]
     },
     "metadata": {
      "needs_background": "light"
     },
     "output_type": "display_data"
    }
   ],
   "source": [
    "ax = sns.barplot(x=list(gene_expression_ve.keys()), y=list(gene_expression_ve.values()))\n",
    "ax.set_ylabel('Gene expression VE')"
   ]
  },
  {
   "cell_type": "code",
   "execution_count": 65,
   "metadata": {},
   "outputs": [],
   "source": [
    "RT_scores = {}\n",
    "RT_scores['kmeans'] = evaluation_utils.RT_scores(RT_path, os.path.join(KMeans_annotations_dir,\n",
    "                                                                               'kmeans_4_annotation.txt'),\n",
    "                                                                  resolution)\n",
    "RT_scores['GMM'] = evaluation_utils.RT_scores(RT_path, os.path.join(GMM_annotations_dir,\n",
    "                                                                               'GMM_4_annotation.txt'),\n",
    "                                                                  resolution)\n",
    "RT_scores['HMM'] = evaluation_utils.RT_scores(RT_path, os.path.join(HMM_annotations_dir,\n",
    "                                                                               'HMM_k4_annotation.txt'),\n",
    "                                                                  resolution)\n",
    "RT_scores['segway'] = evaluation_utils.RT_scores(RT_path, os.path.join(segway_annotations_dir,\n",
    "                                                                               'segway_k4_annotation.txt'),\n",
    "                                                                  resolution)"
   ]
  },
  {
   "cell_type": "code",
   "execution_count": 91,
   "metadata": {},
   "outputs": [
    {
     "data": {
      "image/png": "[encoded data removed]",
      "text/plain": [
       "<Figure size 720x288 with 2 Axes>"
      ]
     },
     "metadata": {
      "needs_background": "light"
     },
     "output_type": "display_data"
    }
   ],
   "source": [
    "score1 = [s[0] for s in list(RT_scores.values())]\n",
    "score2 = [s[1] for s in list(RT_scores.values())]\n",
    "fig, axs = plt.subplots(1,2, figsize = (10,4))\n",
    "sns.barplot(x=list(RT_scores.keys()), y=score1, ax = axs[0])\n",
    "axs[0].set_ylabel('Average of VE for 6 phases')\n",
    "sns.barplot(x=list(RT_scores.keys()), y=score2, ax = axs[1])\n",
    "axs[1].set_ylabel('ARI between RT state and domain state')\n",
    "fig.tight_layout(pad=2.0)"
   ]
  },
  {
   "cell_type": "code",
   "execution_count": 12,
   "metadata": {},
   "outputs": [],
   "source": [
    "functional_umap = umap.UMAP().fit_transform(functional_signals)\n",
    "functional_df = pd.DataFrame(functional_signals)\n",
    "functional_df.columns = GM12878_signals_names\n",
    "functional_df = pd.concat([functional_df, pd.DataFrame({'umap1': functional_umap[:,0], 'umap2': functional_umap[:,1]})], axis = 1)"
   ]
  },
  {
   "cell_type": "code",
   "execution_count": 17,
   "metadata": {},
   "outputs": [],
   "source": []
  },
  {
   "cell_type": "code",
   "execution_count": 7,
   "metadata": {},
   "outputs": [],
   "source": [
    "functional_GMM_labels = pd.read_csv('results/GMM_res100000.txt', sep = '\\t')\n",
    "functional_kmeans_labels = pd.read_csv('results/kmeans_res100000.txt', sep = '\\t')\n",
    "functional_HMM_viterbi_labels = pd.read_csv('results/HMM_viterbi_res100000.txt', sep = \"\\t\")"
   ]
  },
  {
   "cell_type": "code",
   "execution_count": 31,
   "metadata": {},
   "outputs": [],
   "source": [
    "functional_kmeans_CH = []\n",
    "functional_GMM_CH = []\n",
    "for k in np.arange(2,16):\n",
    "    functional_GMM_CH.append(metrics.calinski_harabasz_score(functional_signals, functional_GMM_labels['GMM_{}'.format(k)]))\n",
    "    functional_kmeans_CH.append(metrics.calinski_harabasz_score(functional_signals, functional_kmeans_labels['kmeans_{}'.format(k)]))"
   ]
  },
  {
   "cell_type": "code",
   "execution_count": 46,
   "metadata": {},
   "outputs": [],
   "source": [
    "functional_kmeans_WSS = []\n",
    "functional_GMM_WSS = []\n",
    "functional_HMM_virtebi_WSS = []\n",
    "for k in np.arange(2,16):\n",
    "    functional_GMM_WSS.append(evaluation_utils.within_cluster_SSE(functional_signals, functional_GMM_labels['GMM_{}'.format(k)]))\n",
    "    functional_kmeans_WSS.append(evaluation_utils.within_cluster_SSE(functional_signals, functional_kmeans_labels['kmeans_{}'.format(k)]))\n",
    "    functional_HMM_virtebi_WSS.append(evaluation_utils.within_cluster_SSE(functional_signals, functional_HMM_viterbi_labels['HMM_viterbi_{}'.format(k)]))"
   ]
  },
  {
   "cell_type": "code",
   "execution_count": 33,
   "metadata": {},
   "outputs": [
    {
     "data": {
      "text/plain": [
       "<AxesSubplot:>"
      ]
     },
     "execution_count": 33,
     "metadata": {},
     "output_type": "execute_result"
    },
    {
     "data": {
      "image/png": "[encoded data removed]",
      "text/plain": [
       "<Figure size 432x288 with 1 Axes>"
      ]
     },
     "metadata": {
      "needs_background": "light"
     },
     "output_type": "display_data"
    }
   ],
   "source": [
    "sns.lineplot(x=np.arange(2,16), y=functional_GMM_CH)\n",
    "sns.lineplot(x=np.arange(2,16), y=functional_kmeans_CH)\n",
    "# since the pattern is not really separable, variance criterion ratio is not getting higher??"
   ]
  },
  {
   "cell_type": "code",
   "execution_count": 48,
   "metadata": {},
   "outputs": [
    {
     "data": {
      "text/plain": [
       "<AxesSubplot:>"
      ]
     },
     "execution_count": 48,
     "metadata": {},
     "output_type": "execute_result"
    },
    {
     "data": {
      "image/png": "[encoded data removed]",
      "text/plain": [
       "<Figure size 432x288 with 1 Axes>"
      ]
     },
     "metadata": {
      "needs_background": "light"
     },
     "output_type": "display_data"
    }
   ],
   "source": [
    "sns.lineplot(x=np.arange(2,16), y=functional_GMM_WSS, label = 'GMM')\n",
    "sns.lineplot(x=np.arange(2,16), y=functional_kmeans_WSS, label = 'KMeans')\n",
    "sns.lineplot(x=np.arange(2,16), y=functional_HMM_virtebi_WSS, label = 'HMM-Virtebi')"
   ]
  },
  {
   "cell_type": "code",
   "execution_count": 52,
   "metadata": {},
   "outputs": [],
   "source": [
    "HMM_viterbi_num_domains = []\n",
    "for k in np.arange(2,16):\n",
    "    HMM_viterbi_num_domains.append(num_domains(functional_HMM_viterbi_labels['HMM_viterbi_{}'.format(k)]))"
   ]
  },
  {
   "cell_type": "code",
   "execution_count": 53,
   "metadata": {},
   "outputs": [
    {
     "data": {
      "text/plain": [
       "[4813,\n",
       " 8435,\n",
       " 9831,\n",
       " 10431,\n",
       " 11083,\n",
       " 11796,\n",
       " 12260,\n",
       " 12243,\n",
       " 12151,\n",
       " 12449,\n",
       " 12536,\n",
       " 12516,\n",
       " 13054,\n",
       " 12997]"
      ]
     },
     "execution_count": 53,
     "metadata": {},
     "output_type": "execute_result"
    }
   ],
   "source": [
    "HMM_viterbi_num_domains"
   ]
  },
  {
   "cell_type": "code",
   "execution_count": 39,
   "metadata": {},
   "outputs": [],
   "source": [
    "GMM_num_domains = []\n",
    "for k in np.arange(2,16):\n",
    "    annotation_path = os.path.join(GMM_annotations_dir, 'GMM_{}_annotation.txt'.format(k))\n",
    "    GMM_num_domains.append(pd.read_csv(annotation_path, sep = \"\\t\", header = None).shape[0])"
   ]
  },
  {
   "cell_type": "code",
   "execution_count": 43,
   "metadata": {},
   "outputs": [],
   "source": [
    "kmeans_num_domains = []\n",
    "for k in np.arange(2,16):\n",
    "    annotation_path = os.path.join(KMeans_annotations_dir, 'kmeans_{}_annotation.txt'.format(k))\n",
    "    kmeans_num_domains.append(pd.read_csv(annotation_path, sep = \"\\t\", header = None).shape[0])"
   ]
  },
  {
   "cell_type": "code",
   "execution_count": 44,
   "metadata": {},
   "outputs": [
    {
     "data": {
      "text/plain": [
       "[4644,\n",
       " 6944,\n",
       " 8562,\n",
       " 8941,\n",
       " 10584,\n",
       " 11124,\n",
       " 12554,\n",
       " 12638,\n",
       " 13278,\n",
       " 13546,\n",
       " 13647,\n",
       " 14647,\n",
       " 14768,\n",
       " 14809]"
      ]
     },
     "execution_count": 44,
     "metadata": {},
     "output_type": "execute_result"
    }
   ],
   "source": [
    "kmeans_num_domains"
   ]
  },
  {
   "cell_type": "code",
   "execution_count": 41,
   "metadata": {},
   "outputs": [
    {
     "data": {
      "text/plain": [
       "[5122,\n",
       " 9222,\n",
       " 11199,\n",
       " 12403,\n",
       " 12963,\n",
       " 13755,\n",
       " 14713,\n",
       " 15193,\n",
       " 15623,\n",
       " 15981,\n",
       " 15839,\n",
       " 16238,\n",
       " 16477,\n",
       " 16168]"
      ]
     },
     "execution_count": 41,
     "metadata": {},
     "output_type": "execute_result"
    }
   ],
   "source": [
    "GMM_num_domains"
   ]
  },
  {
   "cell_type": "code",
   "execution_count": 19,
   "metadata": {},
   "outputs": [],
   "source": [
    "structural_df = pd.DataFrame(structural_signals)\n",
    "structural_df.columns = ['emb{}'.format(e) for e in np.arange(1,9)]\n",
    "structural_df = pd.concat([structural_df, pd.DataFrame({'umap1': structural_umap[:,0], 'umap2': structural_umap[:,1]})], axis = 1)"
   ]
  }
 ],
 "metadata": {
  "kernelspec": {
   "display_name": "embedding",
   "language": "python",
   "name": "embedding"
  },
  "language_info": {
   "codemirror_mode": {
    "name": "ipython",
    "version": 3
   },
   "file_extension": ".py",
   "mimetype": "text/x-python",
   "name": "python",
   "nbconvert_exporter": "python",
   "pygments_lexer": "ipython3",
   "version": "3.6.15"
  }
 },
 "nbformat": 4,
 "nbformat_minor": 2
}
