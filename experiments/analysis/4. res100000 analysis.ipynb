{
 "cells": [
  {
   "cell_type": "code",
   "execution_count": 2,
   "metadata": {},
   "outputs": [],
   "source": [
    "import sys\n",
    "import os\n",
    "sys.path.append(\"../../src/\")\n",
    "sys.path.append(\"../../utilities/\")\n",
    "import dataset_class\n",
    "from dataset_class import dataset\n",
    "import data_utils\n",
    "import evaluation_utils\n",
    "import numpy as np\n",
    "import pandas as pd\n",
    "from matplotlib import pyplot as plt\n",
    "import seaborn as sns\n",
    "from scipy.stats import entropy"
   ]
  },
  {
   "cell_type": "code",
   "execution_count": 71,
   "metadata": {},
   "outputs": [],
   "source": [
    "from importlib import reload\n",
    "evaluation_utils = reload(evaluation_utils)"
   ]
  },
  {
   "cell_type": "code",
   "execution_count": 6,
   "metadata": {},
   "outputs": [],
   "source": [
    "signals_dir = '../../data/GM12878/hg19/genomic-assays/bin_100000/'\n",
    "TAD_path = '../../data/GM12878/hg19/annotations/GSE63525_GM12878_primary+replicate_Arrowhead_domainlist.txt'\n",
    "SC_path = '../../data/GM12878/hg19/annotations/GSE63525_GM12878_subcompartments.bed'\n",
    "CTCF_bedpe_path = '../../data/GM12878/hg19/ChIA-PET/CTCF/lifted_data'\n",
    "RNAPII_bedpe_path = '../../data/GM12878/hg19/ChIA-PET/RNAPII/lifted_data'\n",
    "gene_expression_path = '../../data/GM12878/hg19/gene_expression/GM12878_genes_RPKM.txt'\n",
    "RT_path = '../../data/GM12878/hg19/RT/six_phase/six_phases.txt'\n",
    "TAD_agreements = {}\n",
    "CTCF_ChIA_PETs = {}\n",
    "RNAPII_ChIA_PETs = {}\n",
    "resolution = 100000\n",
    "annotation_dir = '../../data/GM12878/hg19/res100000_datasets/annotations/K=8/'\n",
    "GBR_annot_path = os.path.join(annotation_dir,'short_gbr', 'short_gbr_9_annotation.txt')\n",
    "HMRF_annot_path = os.path.join(annotation_dir, 'hmrf/hic_1e-06_annotation.txt')"
   ]
  },
  {
   "cell_type": "markdown",
   "metadata": {},
   "source": [
    "# Average length"
   ]
  },
  {
   "cell_type": "code",
   "execution_count": 54,
   "metadata": {},
   "outputs": [],
   "source": [
    "avg_lengths = []\n",
    "methods = ['GMM', 'HMM_map', 'HMM_viterbi', 'kmeans', 'segway']\n",
    "inputs = ['functional', 'structural', 'combined']\n",
    "for method in methods:\n",
    "    for input in inputs:\n",
    "        annotation_path = os.path.join(annotation_dir, '{}_{}_annotation.txt'.format(method, input))\n",
    "        df = pd.read_csv(annotation_path, header = None, sep = \"\\t\")\n",
    "        df['length'] = df.iloc[:,2] - df.iloc[:,1]\n",
    "        avg_length = np.mean(df['length'])\n",
    "        avg_lengths.append({'method': method, 'input': input, 'avg_length': avg_length})\n",
    "avg_lengths = pd.DataFrame(avg_lengths)"
   ]
  },
  {
   "cell_type": "code",
   "execution_count": 25,
   "metadata": {},
   "outputs": [],
   "source": [
    "df = pd.read_csv(GBR_annot_path, header = None, sep = \"\\t\")\n",
    "df['length'] = df.iloc[:,2] - df.iloc[:,1]\n",
    "avg_length = np.mean(df['length'])\n",
    "avg_length_df = pd.concat([avg_length_df, pd.DataFrame([{'method': 'GMM_GBR', 'input': 'functional', 'avg_length': avg_length}])], axis = 0)"
   ]
  },
  {
   "cell_type": "code",
   "execution_count": 28,
   "metadata": {},
   "outputs": [],
   "source": [
    "df = pd.read_csv(HMRF_annot_path, header = None, sep = \"\\t\")\n",
    "df['length'] = df.iloc[:,2] - df.iloc[:,1]\n",
    "avg_length = np.mean(df['length'])\n",
    "avg_length_df = pd.concat([avg_length_df, pd.DataFrame([{'method': 'GMM_MRF', 'input': 'functional', 'avg_length': avg_length}])], axis = 0)"
   ]
  },
  {
   "cell_type": "code",
   "execution_count": 58,
   "metadata": {},
   "outputs": [],
   "source": [
    "avg_lengths2 = []\n",
    "methods = ['short_gbr', 'long_gbr', 'short_hmrf', 'long_hmrf']\n",
    "for method in methods:\n",
    "    for i in range(10):\n",
    "        annotation_path = os.path.join(annotation_dir, method, '{}_{}_annotation.txt'.format(method,i))\n",
    "        df = pd.read_csv(annotation_path, header = None, sep = \"\\t\")\n",
    "        df['length'] = df.iloc[:,2] - df.iloc[:,1]\n",
    "        avg_length = np.mean(df['length'])\n",
    "        avg_lengths2.append({'method': method, 'iter': i, 'avg_length': avg_length})\n",
    "avg_lengths2 = pd.DataFrame(avg_lengths2)"
   ]
  },
  {
   "cell_type": "markdown",
   "metadata": {},
   "source": [
    "# Number of domains"
   ]
  },
  {
   "cell_type": "code",
   "execution_count": 15,
   "metadata": {},
   "outputs": [],
   "source": [
    "num_domains = []\n",
    "methods = ['GMM', 'HMM_map', 'HMM_viterbi', 'kmeans', 'segway']\n",
    "inputs = ['functional', 'structural', 'combined']\n",
    "for method in methods:\n",
    "    for input in inputs:\n",
    "        annotation_path = os.path.join(annotation_dir, '{}_{}_annotation.txt'.format(method, input))\n",
    "        num_domain = pd.read_csv(annotation_path, header = None).shape[0]\n",
    "        num_domains.append({'method': method, 'input': input, 'num_domain': num_domain})\n",
    "num_domains = pd.DataFrame(num_domains)"
   ]
  },
  {
   "cell_type": "code",
   "execution_count": 30,
   "metadata": {},
   "outputs": [],
   "source": [
    "num_domain = pd.read_csv(GBR_annot_path, header = None).shape[0]\n",
    "num_domains = pd.concat([num_domains, pd.DataFrame([{'method': 'GMM_GBR', 'input': 'functional', 'num_domain': num_domain}])], axis = 0)\n",
    "num_domain = pd.read_csv(HMRF_annot_path, header = None).shape[0]\n",
    "num_domains = pd.concat([num_domains, pd.DataFrame([{'method': 'GMM_MRF', 'input': 'functional', 'num_domain': num_domain}])], axis = 0)"
   ]
  },
  {
   "cell_type": "code",
   "execution_count": 17,
   "metadata": {},
   "outputs": [],
   "source": [
    "num_domains2 = []\n",
    "methods = ['short_gbr', 'long_gbr', 'short_hmrf', 'long_hmrf']\n",
    "for method in methods:\n",
    "    for i in range(10):\n",
    "        annotation_path = os.path.join(annotation_dir, method, '{}_{}_annotation.txt'.format(method,i))\n",
    "        num_domain = pd.read_csv(annotation_path, header = None).shape[0]\n",
    "        num_domains2.append({'method': method, 'iter': i, 'num_domain': num_domain})\n",
    "num_domains2 = pd.DataFrame(num_domains2)"
   ]
  },
  {
   "cell_type": "markdown",
   "metadata": {},
   "source": [
    "# Gene expression"
   ]
  },
  {
   "cell_type": "code",
   "execution_count": 4,
   "metadata": {},
   "outputs": [],
   "source": [
    "gene_expression_ve = []\n",
    "methods = ['GMM', 'HMM_map', 'HMM_viterbi', 'kmeans', 'segway']\n",
    "inputs = ['functional', 'structural', 'combined']\n",
    "for method in methods:\n",
    "    for input in inputs:\n",
    "        annotation_path = os.path.join(annotation_dir, '{}_{}_annotation.txt'.format(method, input))\n",
    "        ge_ve = evaluation_utils.gene_expression_ve(gene_expression_path, annotation_path, resolution)\n",
    "        gene_expression_ve.append({'method': method, 'input': input, 'ge_ve': ge_ve})\n",
    "gene_expression_ve = pd.DataFrame(gene_expression_ve)"
   ]
  },
  {
   "cell_type": "code",
   "execution_count": 32,
   "metadata": {},
   "outputs": [],
   "source": [
    "ge_ve = evaluation_utils.gene_expression_ve(gene_expression_path, GBR_annot_path, resolution)\n",
    "gene_expression_ve = pd.concat([gene_expression_ve, pd.DataFrame([{'method': 'GMM_GBR', 'input': 'functional', 'ge_ve': ge_ve}])], axis = 0)\n",
    "ge_ve = evaluation_utils.gene_expression_ve(gene_expression_path, HMRF_annot_path, resolution)\n",
    "gene_expression_ve = pd.concat([gene_expression_ve, pd.DataFrame([{'method': 'GMM_MRF', 'input': 'functional', 'ge_ve': ge_ve}])], axis = 0)"
   ]
  },
  {
   "cell_type": "code",
   "execution_count": 7,
   "metadata": {},
   "outputs": [],
   "source": [
    "gene_expression_ve2 = []\n",
    "methods = ['short_gbr', 'long_gbr', 'short_hmrf', 'long_hmrf']\n",
    "for method in methods:\n",
    "    for i in range(10):\n",
    "        annotation_path = os.path.join(annotation_dir, method, '{}_{}_annotation.txt'.format(method,i))\n",
    "        ge_ve = evaluation_utils.gene_expression_ve(gene_expression_path, annotation_path, resolution)\n",
    "        gene_expression_ve2.append({'method': method, 'iter': i, 'ge_ve': ge_ve})\n",
    "gene_expression_ve2 = pd.DataFrame(gene_expression_ve2)"
   ]
  },
  {
   "cell_type": "code",
   "execution_count": 13,
   "metadata": {},
   "outputs": [],
   "source": [
    "SC_ge_ve = evaluation_utils.gene_expression_ve(gene_expression_path, SC_path, resolution)"
   ]
  },
  {
   "cell_type": "markdown",
   "metadata": {},
   "source": [
    "# TAD agreement"
   ]
  },
  {
   "cell_type": "code",
   "execution_count": 45,
   "metadata": {},
   "outputs": [],
   "source": [
    "TAD_agreements = []\n",
    "methods = ['GMM', 'HMM_map', 'HMM_viterbi', 'kmeans', 'segway']\n",
    "inputs = ['functional', 'structural', 'combined']\n",
    "for method in methods:\n",
    "    for input in inputs:\n",
    "        annotation_path = os.path.join(annotation_dir, '{}_{}_annotation.txt'.format(method, input))\n",
    "        TAD_agreement = evaluation_utils.normalized_TAD_agreement(annotation_path, TAD_path, resolution, 20)\n",
    "        TAD_agreements.append({'method': method, 'input': input, 'TAD_agreement': TAD_agreement})\n",
    "TAD_agreements = pd.DataFrame(TAD_agreements)"
   ]
  },
  {
   "cell_type": "code",
   "execution_count": 34,
   "metadata": {},
   "outputs": [],
   "source": [
    "TAD_agreement = evaluation_utils.normalized_TAD_agreement(GBR_annot_path, TAD_path, resolution, 20)\n",
    "TAD_agreements = pd.concat([TAD_agreements, pd.DataFrame([{'method': 'GMM_GBR', 'input': 'functional', 'TAD_agreement': TAD_agreement}])], axis = 0)\n",
    "TAD_agreement = evaluation_utils.normalized_TAD_agreement(HMRF_annot_path, TAD_path, resolution, 20)\n",
    "TAD_agreements = pd.concat([TAD_agreements, pd.DataFrame([{'method': 'GMM_MRF', 'input': 'functional', 'TAD_agreement': TAD_agreement}])], axis = 0)"
   ]
  },
  {
   "cell_type": "code",
   "execution_count": 47,
   "metadata": {},
   "outputs": [],
   "source": [
    "TAD_agreements2 = []\n",
    "methods = ['short_gbr', 'long_gbr', 'short_hmrf', 'long_hmrf']\n",
    "for method in methods:\n",
    "    for i in range(10):\n",
    "        annotation_path = os.path.join(annotation_dir, method, '{}_{}_annotation.txt'.format(method,i))\n",
    "        TAD_agreement = evaluation_utils.normalized_TAD_agreement(annotation_path, TAD_path, resolution, 20)\n",
    "        TAD_agreements2.append({'method': method, 'iter': i, 'TAD_agreement': TAD_agreement})\n",
    "TAD_agreements2 = pd.DataFrame(TAD_agreements2)"
   ]
  },
  {
   "cell_type": "markdown",
   "metadata": {},
   "source": [
    "# Replication timing scores"
   ]
  },
  {
   "cell_type": "code",
   "execution_count": 49,
   "metadata": {},
   "outputs": [],
   "source": [
    "RT_scores = []\n",
    "methods = ['GMM', 'HMM_map', 'HMM_viterbi', 'kmeans', 'segway']\n",
    "inputs = ['functional', 'structural', 'combined']\n",
    "for method in methods:\n",
    "    for input in inputs:\n",
    "        annotation_path = os.path.join(annotation_dir, '{}_{}_annotation.txt'.format(method, input))\n",
    "        RT_score1, RT_score2 = evaluation_utils.RT_scores(RT_path, annotation_path, resolution)\n",
    "        RT_scores.append({'method': method, 'input': input, 'RT_score1': RT_score1, 'RT_score2': RT_score2})\n",
    "RT_scores = pd.DataFrame(RT_scores)"
   ]
  },
  {
   "cell_type": "code",
   "execution_count": 36,
   "metadata": {},
   "outputs": [],
   "source": [
    "RT_score1, RT_score2 = evaluation_utils.RT_scores(RT_path, GBR_annot_path, resolution)\n",
    "RT_scores = pd.concat([RT_scores, pd.DataFrame([{'method': 'GMM_GBR', 'input': 'functional', 'RT_score1': RT_score1, 'RT_score2': RT_score2}])], axis = 0)\n",
    "RT_score1, RT_score2 = evaluation_utils.RT_scores(RT_path, HMRF_annot_path, resolution)\n",
    "RT_scores = pd.concat([RT_scores, pd.DataFrame([{'method': 'GMM_MRF', 'input': 'functional', 'RT_score1': RT_score1, 'RT_score2': RT_score2}])], axis = 0)"
   ]
  },
  {
   "cell_type": "code",
   "execution_count": 60,
   "metadata": {},
   "outputs": [],
   "source": [
    "RT_scores2 = []\n",
    "methods = ['short_gbr', 'long_gbr', 'short_hmrf', 'long_hmrf']\n",
    "for method in methods:\n",
    "    for i in range(10):\n",
    "        annotation_path = os.path.join(annotation_dir, method, '{}_{}_annotation.txt'.format(method,i))\n",
    "        RT_score1, RT_score2 = evaluation_utils.RT_scores(RT_path, annotation_path, resolution)\n",
    "        RT_scores2.append({'method': method, 'iter': i, 'RT_score1': RT_score1, 'RT_score2': RT_score2})\n",
    "RT_scores2 = pd.DataFrame(RT_scores2)"
   ]
  },
  {
   "cell_type": "markdown",
   "metadata": {},
   "source": [
    "# long-range-interactions"
   ]
  },
  {
   "cell_type": "code",
   "execution_count": 15,
   "metadata": {},
   "outputs": [],
   "source": [
    "CTCF_OEs = []\n",
    "methods = ['GMM', 'HMM_map', 'HMM_viterbi', 'kmeans', 'segway']\n",
    "inputs = ['functional', 'structural', 'combined']\n",
    "for method in methods:\n",
    "    for input in inputs:\n",
    "        annotation_path = os.path.join(annotation_dir, '{}_{}_annotation.txt'.format(method, input))\n",
    "        CTCF_OE = evaluation_utils.OE_intra_of_bedpe(CTCF_bedpe_path, annotation_path, resolution)\n",
    "        CTCF_OEs.append({'method': method, 'input': input, 'CTCF_OE': CTCF_OE})\n",
    "CTCF_OEs = pd.DataFrame(CTCF_OEs)"
   ]
  },
  {
   "cell_type": "code",
   "execution_count": 38,
   "metadata": {},
   "outputs": [],
   "source": [
    "CTCF_OE = evaluation_utils.OE_intra_of_bedpe(CTCF_bedpe_path, GBR_annot_path, resolution)\n",
    "CTCF_OEs = pd.concat([CTCF_OEs, pd.DataFrame([{'method': 'GMM_GBR', 'input': 'functional', 'CTCF_OE': CTCF_OE}])], axis = 0)\n",
    "CTCF_OE = evaluation_utils.OE_intra_of_bedpe(CTCF_bedpe_path, HMRF_annot_path, resolution)\n",
    "CTCF_OEs = pd.concat([CTCF_OEs, pd.DataFrame([{'method': 'GMM_MRF', 'input': 'functional', 'CTCF_OE': CTCF_OE}])], axis = 0)"
   ]
  },
  {
   "cell_type": "code",
   "execution_count": 20,
   "metadata": {},
   "outputs": [],
   "source": [
    "RNAPII_OEs = []\n",
    "methods = ['GMM', 'HMM_map', 'HMM_viterbi', 'kmeans', 'segway']\n",
    "inputs = ['functional', 'structural', 'combined']\n",
    "for method in methods:\n",
    "    for input in inputs:\n",
    "        annotation_path = os.path.join(annotation_dir, '{}_{}_annotation.txt'.format(method, input))\n",
    "        RNAPII_OE = evaluation_utils.OE_intra_of_bedpe(RNAPII_bedpe_path, annotation_path, resolution)\n",
    "        RNAPII_OEs.append({'method': method, 'input': input, 'RNAPII_OE': RNAPII_OE})\n",
    "RNAPII_OEs = pd.DataFrame(RNAPII_OEs)"
   ]
  },
  {
   "cell_type": "code",
   "execution_count": 40,
   "metadata": {},
   "outputs": [],
   "source": [
    "RNAPII_OE = evaluation_utils.OE_intra_of_bedpe(RNAPII_bedpe_path, GBR_annot_path, resolution)\n",
    "RNAPII_OEs = pd.concat([RNAPII_OEs, pd.DataFrame([{'method': 'GMM_GBR', 'input': 'functional', 'RNAPII_OE': RNAPII_OE}])], axis = 0)\n",
    "RNAPII_OE = evaluation_utils.OE_intra_of_bedpe(RNAPII_bedpe_path, HMRF_annot_path, resolution)\n",
    "RNAPII_OEs = pd.concat([RNAPII_OEs, pd.DataFrame([{'method': 'GMM_MRF', 'input': 'functional', 'RNAPII_OE': RNAPII_OE}])], axis = 0)"
   ]
  },
  {
   "cell_type": "markdown",
   "metadata": {},
   "source": [
    "# labels entropy"
   ]
  },
  {
   "cell_type": "code",
   "execution_count": 99,
   "metadata": {},
   "outputs": [],
   "source": [
    "labels_entropies = []\n",
    "methods = ['GMM', 'HMM_map', 'HMM_viterbi', 'kmeans', 'segway']\n",
    "inputs = ['functional', 'structural', 'combined']\n",
    "for method in methods:\n",
    "    for input in inputs:\n",
    "        annotation_path = os.path.join(annotation_dir, '{}_{}_annotation.txt'.format(method, input))\n",
    "        coverage = evaluation_utils.get_coverage(annotation_path)\n",
    "        coverage = [coverage[label] for label in coverage.keys()]\n",
    "        ent = entropy(coverage, base=None)\n",
    "        labels_entropies.append({'method': method, 'input': input, 'labels entropy': ent})\n",
    "        \n",
    "coverage = evaluation_utils.get_coverage(GBR_annot_path)\n",
    "coverage = [coverage[label] for label in coverage.keys()]\n",
    "ent = entropy(coverage, base=None)\n",
    "labels_entropies.append({'method': 'GMM_GBR', 'input': 'functional', 'labels entropy': ent})\n",
    "        \n",
    "coverage = evaluation_utils.get_coverage(HMRF_annot_path)\n",
    "coverage = [coverage[label] for label in coverage.keys()]\n",
    "ent = entropy(coverage, base=None)\n",
    "labels_entropies.append({'method': 'GMM_MRF', 'input': 'functional', 'labels entropy': ent})\n",
    "\n",
    "coverage = evaluation_utils.get_coverage(SC_path)\n",
    "coverage = [coverage[label] for label in coverage.keys()]\n",
    "ent = entropy(coverage, base=None)\n",
    "labels_entropies.append({'method': 'SC', 'input': 'structural', 'labels entropy': ent})\n",
    "        \n",
    "labels_entropies = pd.DataFrame(labels_entropies)"
   ]
  },
  {
   "cell_type": "markdown",
   "metadata": {},
   "source": [
    "# save"
   ]
  },
  {
   "cell_type": "code",
   "execution_count": 42,
   "metadata": {},
   "outputs": [],
   "source": [
    "stats = pd.merge(avg_length_df, num_domains, on = ['method', 'input'])\n",
    "stats = pd.merge(stats, gene_expression_ve, on = ['method', 'input'])\n",
    "stats = pd.merge(stats, TAD_agreements, on = ['method', 'input'])\n",
    "stats = pd.merge(stats, RT_scores, on = ['method', 'input'])\n",
    "stats = pd.merge(stats, CTCF_OEs, on = ['method', 'input'])\n",
    "stats = pd.merge(stats, RNAPII_OEs, on = ['method', 'input'])"
   ]
  },
  {
   "cell_type": "code",
   "execution_count": null,
   "metadata": {},
   "outputs": [],
   "source": [
    "SC = pd.read_csv(SC_path, sep = \"\\t\", header = None)\n",
    "SC.dropna(inplace = True)\n",
    "SC['length'] = [abs(e-s) for s,e in zip(SC.iloc[:,1],SC.iloc[:,2])]\n",
    "SC_avg_length = np.mean(SC['length'])\n",
    "SC_num_domain = SC.shape[0]\n",
    "SC_ge_ve = evaluation_utils.gene_expression_ve(gene_expression_path, SC_path, resolution)\n",
    "SC_TAD_agreement = evaluation_utils.normalized_TAD_agreement(SC_path, TAD_path, resolution, 20)\n",
    "SC_RT_score1, SC_RT_score2 = evaluation_utils.RT_scores(RT_path, SC_path, resolution)\n",
    "SC_CTCF_OE = evaluation_utils.OE_intra_of_bedpe(CTCF_bedpe_path, SC_path, resolution)\n",
    "SC_RNAPII_OE = evaluation_utils.OE_intra_of_bedpe(RNAPII_bedpe_path, SC_path, resolution)\n",
    "stats = pd.concat([stats,pd.DataFrame([{'method': 'SC', 'input': 'structural', 'avg_length': SC_avg_length,\n",
    "              'num_domain': SC_num_domain, 'ge_ve': SC_ge_ve, 'TAD_agreement': SC_TAD_agreement,\n",
    "              'RT_score1': SC_RT_score1, 'RT_score2': SC_RT_score2, \n",
    "              'CTCF_OE': SC_CTCF_OE, 'RNAPII_OE': SC_RNAPII_OE}])])"
   ]
  },
  {
   "cell_type": "code",
   "execution_count": 101,
   "metadata": {},
   "outputs": [],
   "source": [
    "stats = pd.merge(stats, labels_entropies)"
   ]
  },
  {
   "cell_type": "code",
   "execution_count": 103,
   "metadata": {},
   "outputs": [],
   "source": [
    "stats.to_csv('results/res100000/stats.txt', sep = '\\t', index = False)"
   ]
  },
  {
   "cell_type": "code",
   "execution_count": 67,
   "metadata": {},
   "outputs": [],
   "source": [
    "stats2 = pd.merge(avg_lengths2, num_domains2, on = ['method', 'iter'])\n",
    "stats2 = pd.merge(stats2, gene_expression_ve2, on = ['method', 'iter'])\n",
    "stats2 = pd.merge(stats2, TAD_agreements2, on = ['method', 'iter'])\n",
    "stats2 = pd.merge(stats2, RT_scores2, on = ['method', 'iter'])"
   ]
  },
  {
   "cell_type": "code",
   "execution_count": 68,
   "metadata": {},
   "outputs": [],
   "source": [
    "stats2.to_csv('results/res100000/stats2.txt', sep = '\\t', index = False)"
   ]
  },
  {
   "cell_type": "markdown",
   "metadata": {},
   "source": [
    "# load"
   ]
  },
  {
   "cell_type": "code",
   "execution_count": 3,
   "metadata": {},
   "outputs": [],
   "source": [
    "stats = pd.read_csv('results/res100000/stats.txt', sep = '\\t')\n",
    "stats2 = pd.read_csv('results/res100000/stats2.txt', sep = '\\t')"
   ]
  },
  {
   "cell_type": "code",
   "execution_count": 6,
   "metadata": {
    "scrolled": true
   },
   "outputs": [
    {
     "data": {
      "text/html": [
       "<div>\n",
       "<style scoped>\n",
       "    .dataframe tbody tr th:only-of-type {\n",
       "        vertical-align: middle;\n",
       "    }\n",
       "\n",
       "    .dataframe tbody tr th {\n",
       "        vertical-align: top;\n",
       "    }\n",
       "\n",
       "    .dataframe thead th {\n",
       "        text-align: right;\n",
       "    }\n",
       "</style>\n",
       "<table border=\"1\" class=\"dataframe\">\n",
       "  <thead>\n",
       "    <tr style=\"text-align: right;\">\n",
       "      <th></th>\n",
       "      <th>method</th>\n",
       "      <th>input</th>\n",
       "      <th>avg_length</th>\n",
       "      <th>num_domain</th>\n",
       "      <th>ge_ve</th>\n",
       "      <th>TAD_agreement</th>\n",
       "      <th>RT_score1</th>\n",
       "      <th>RT_score2</th>\n",
       "      <th>CTCF_OE</th>\n",
       "      <th>RNAPII_OE</th>\n",
       "      <th>labels entropy</th>\n",
       "    </tr>\n",
       "  </thead>\n",
       "  <tbody>\n",
       "    <tr>\n",
       "      <th>0</th>\n",
       "      <td>GMM</td>\n",
       "      <td>functional</td>\n",
       "      <td>181655.678652</td>\n",
       "      <td>14713</td>\n",
       "      <td>0.313706</td>\n",
       "      <td>0.974842</td>\n",
       "      <td>0.361863</td>\n",
       "      <td>0.164022</td>\n",
       "      <td>2.677711</td>\n",
       "      <td>2.962436</td>\n",
       "      <td>1.950125</td>\n",
       "    </tr>\n",
       "    <tr>\n",
       "      <th>1</th>\n",
       "      <td>GMM</td>\n",
       "      <td>structural</td>\n",
       "      <td>382963.175240</td>\n",
       "      <td>6979</td>\n",
       "      <td>0.171530</td>\n",
       "      <td>1.052607</td>\n",
       "      <td>0.440314</td>\n",
       "      <td>0.188984</td>\n",
       "      <td>3.847749</td>\n",
       "      <td>4.200115</td>\n",
       "      <td>1.953636</td>\n",
       "    </tr>\n",
       "    <tr>\n",
       "      <th>2</th>\n",
       "      <td>GMM</td>\n",
       "      <td>combined</td>\n",
       "      <td>232218.263967</td>\n",
       "      <td>11509</td>\n",
       "      <td>0.284868</td>\n",
       "      <td>1.007321</td>\n",
       "      <td>0.389351</td>\n",
       "      <td>0.175810</td>\n",
       "      <td>3.472609</td>\n",
       "      <td>3.848629</td>\n",
       "      <td>2.009065</td>\n",
       "    </tr>\n",
       "    <tr>\n",
       "      <th>12</th>\n",
       "      <td>segway</td>\n",
       "      <td>functional</td>\n",
       "      <td>384671.848014</td>\n",
       "      <td>6948</td>\n",
       "      <td>0.242661</td>\n",
       "      <td>0.990664</td>\n",
       "      <td>0.421539</td>\n",
       "      <td>0.195917</td>\n",
       "      <td>3.192964</td>\n",
       "      <td>3.512735</td>\n",
       "      <td>1.950035</td>\n",
       "    </tr>\n",
       "    <tr>\n",
       "      <th>13</th>\n",
       "      <td>segway</td>\n",
       "      <td>structural</td>\n",
       "      <td>633942.125237</td>\n",
       "      <td>4216</td>\n",
       "      <td>0.159682</td>\n",
       "      <td>1.052382</td>\n",
       "      <td>0.478035</td>\n",
       "      <td>0.203425</td>\n",
       "      <td>3.856253</td>\n",
       "      <td>4.197237</td>\n",
       "      <td>1.952873</td>\n",
       "    </tr>\n",
       "    <tr>\n",
       "      <th>14</th>\n",
       "      <td>segway</td>\n",
       "      <td>combined</td>\n",
       "      <td>487452.124749</td>\n",
       "      <td>5483</td>\n",
       "      <td>0.225824</td>\n",
       "      <td>1.029655</td>\n",
       "      <td>0.447545</td>\n",
       "      <td>0.190807</td>\n",
       "      <td>3.307321</td>\n",
       "      <td>3.580537</td>\n",
       "      <td>1.881456</td>\n",
       "    </tr>\n",
       "    <tr>\n",
       "      <th>15</th>\n",
       "      <td>GMM_GBR</td>\n",
       "      <td>functional</td>\n",
       "      <td>186523.832787</td>\n",
       "      <td>14329</td>\n",
       "      <td>0.312106</td>\n",
       "      <td>0.994502</td>\n",
       "      <td>0.369444</td>\n",
       "      <td>0.169287</td>\n",
       "      <td>2.778607</td>\n",
       "      <td>3.085985</td>\n",
       "      <td>1.961704</td>\n",
       "    </tr>\n",
       "    <tr>\n",
       "      <th>16</th>\n",
       "      <td>GMM_MRF</td>\n",
       "      <td>functional</td>\n",
       "      <td>395819.125278</td>\n",
       "      <td>6745</td>\n",
       "      <td>0.171598</td>\n",
       "      <td>1.086341</td>\n",
       "      <td>0.375904</td>\n",
       "      <td>0.168609</td>\n",
       "      <td>1.947048</td>\n",
       "      <td>2.184760</td>\n",
       "      <td>1.354307</td>\n",
       "    </tr>\n",
       "    <tr>\n",
       "      <th>17</th>\n",
       "      <td>SC</td>\n",
       "      <td>structural</td>\n",
       "      <td>684229.670044</td>\n",
       "      <td>3849</td>\n",
       "      <td>0.152668</td>\n",
       "      <td>1.031377</td>\n",
       "      <td>0.381190</td>\n",
       "      <td>0.173718</td>\n",
       "      <td>3.232676</td>\n",
       "      <td>3.414615</td>\n",
       "      <td>1.573714</td>\n",
       "    </tr>\n",
       "  </tbody>\n",
       "</table>\n",
       "</div>"
      ],
      "text/plain": [
       "     method       input     avg_length  num_domain     ge_ve  TAD_agreement  \\\n",
       "0       GMM  functional  181655.678652       14713  0.313706       0.974842   \n",
       "1       GMM  structural  382963.175240        6979  0.171530       1.052607   \n",
       "2       GMM    combined  232218.263967       11509  0.284868       1.007321   \n",
       "12   segway  functional  384671.848014        6948  0.242661       0.990664   \n",
       "13   segway  structural  633942.125237        4216  0.159682       1.052382   \n",
       "14   segway    combined  487452.124749        5483  0.225824       1.029655   \n",
       "15  GMM_GBR  functional  186523.832787       14329  0.312106       0.994502   \n",
       "16  GMM_MRF  functional  395819.125278        6745  0.171598       1.086341   \n",
       "17       SC  structural  684229.670044        3849  0.152668       1.031377   \n",
       "\n",
       "    RT_score1  RT_score2   CTCF_OE  RNAPII_OE  labels entropy  \n",
       "0    0.361863   0.164022  2.677711   2.962436        1.950125  \n",
       "1    0.440314   0.188984  3.847749   4.200115        1.953636  \n",
       "2    0.389351   0.175810  3.472609   3.848629        2.009065  \n",
       "12   0.421539   0.195917  3.192964   3.512735        1.950035  \n",
       "13   0.478035   0.203425  3.856253   4.197237        1.952873  \n",
       "14   0.447545   0.190807  3.307321   3.580537        1.881456  \n",
       "15   0.369444   0.169287  2.778607   3.085985        1.961704  \n",
       "16   0.375904   0.168609  1.947048   2.184760        1.354307  \n",
       "17   0.381190   0.173718  3.232676   3.414615        1.573714  "
      ]
     },
     "execution_count": 6,
     "metadata": {},
     "output_type": "execute_result"
    }
   ],
   "source": [
    "stats.iloc[[0,1,2,12,13,14,15,16,17],:]"
   ]
  },
  {
   "cell_type": "code",
   "execution_count": 28,
   "metadata": {},
   "outputs": [
    {
     "data": {
      "text/plain": [
       "array([[ 1.        , -0.94203929, -0.91805223,  0.72548498,  0.69113566,\n",
       "         0.42709982,  0.6896096 ,  0.66553547, -0.04410739],\n",
       "       [-0.94203929,  1.        ,  0.93811071, -0.79356117, -0.75711637,\n",
       "        -0.51923787, -0.64254242, -0.61876142,  0.10404407],\n",
       "       [-0.91805223,  0.93811071,  1.        , -0.90512028, -0.68431059,\n",
       "        -0.34446618, -0.65467067, -0.6434355 ,  0.11942056],\n",
       "       [ 0.72548498, -0.79356117, -0.90512028,  1.        ,  0.63480225,\n",
       "         0.2706313 ,  0.50236524,  0.50798551, -0.18618707],\n",
       "       [ 0.69113566, -0.75711637, -0.68431059,  0.63480225,  1.        ,\n",
       "         0.82536035,  0.80559509,  0.79764545,  0.40907907],\n",
       "       [ 0.42709982, -0.51923787, -0.34446618,  0.2706313 ,  0.82536035,\n",
       "         1.        ,  0.5270354 ,  0.50732252,  0.3582807 ],\n",
       "       [ 0.6896096 , -0.64254242, -0.65467067,  0.50236524,  0.80559509,\n",
       "         0.5270354 ,  1.        ,  0.99749077,  0.63723395],\n",
       "       [ 0.66553547, -0.61876142, -0.6434355 ,  0.50798551,  0.79764545,\n",
       "         0.50732252,  0.99749077,  1.        ,  0.65616144],\n",
       "       [-0.04410739,  0.10404407,  0.11942056, -0.18618707,  0.40907907,\n",
       "         0.3582807 ,  0.63723395,  0.65616144,  1.        ]])"
      ]
     },
     "execution_count": 28,
     "metadata": {},
     "output_type": "execute_result"
    }
   ],
   "source": [
    "np.corrcoef(stats.iloc[:,2:].transpose())"
   ]
  },
  {
   "cell_type": "code",
   "execution_count": 29,
   "metadata": {},
   "outputs": [
    {
     "data": {
      "text/plain": [
       "[Text(0, 0.5, 'avg_length'),\n",
       " Text(0, 1.5, 'num_domain'),\n",
       " Text(0, 2.5, 'ge_ve'),\n",
       " Text(0, 3.5, 'TAD_agreement'),\n",
       " Text(0, 4.5, 'RT_score1'),\n",
       " Text(0, 5.5, 'RT_score2'),\n",
       " Text(0, 6.5, 'CTCF_OE'),\n",
       " Text(0, 7.5, 'RNAPII_OE'),\n",
       " Text(0, 8.5, 'labels entropy')]"
      ]
     },
     "execution_count": 29,
     "metadata": {},
     "output_type": "execute_result"
    },
    {
     "data": {
      "image/png": "[encoded data removed]",
      "text/plain": [
       "<Figure size 432x288 with 2 Axes>"
      ]
     },
     "metadata": {
      "needs_background": "light"
     },
     "output_type": "display_data"
    }
   ],
   "source": [
    "ax = sns.heatmap(np.corrcoef(stats.iloc[:,2:].transpose()))\n",
    "ax.set_xticklabels(list(stats.columns[2:]), rotation = 90)\n",
    "ax.set_yticklabels(list(stats.columns[2:]), rotation = 0)"
   ]
  },
  {
   "cell_type": "markdown",
   "metadata": {},
   "source": [
    "# further visualization"
   ]
  },
  {
   "cell_type": "code",
   "execution_count": 79,
   "metadata": {},
   "outputs": [],
   "source": [
    "GMM_combined_path = os.path.join(annotation_dir, 'GMM_combined_annotation.txt')"
   ]
  },
  {
   "cell_type": "code",
   "execution_count": 81,
   "metadata": {},
   "outputs": [],
   "source": [
    "combined_coverage = evaluation_utils.get_coverage(GMM_combined_path)\n",
    "GBR_coverage = evaluation_utils.get_coverage(GBR_annot_path)\n",
    "HMRF_coverage = evaluation_utils.get_coverage(HMRF_annot_path)"
   ]
  },
  {
   "cell_type": "code",
   "execution_count": 171,
   "metadata": {},
   "outputs": [
    {
     "data": {
      "image/png": "[encoded data removed]",
      "text/plain": [
       "<Figure size 864x216 with 3 Axes>"
      ]
     },
     "metadata": {
      "needs_background": "light"
     },
     "output_type": "display_data"
    }
   ],
   "source": [
    "fig, axs = plt.subplots(1,3, figsize = (12,3))\n",
    "titles = ['combined', 'GMM+GBR', 'GMM+MRF']\n",
    "for c, coverage in enumerate([combined_coverage, GBR_coverage, HMRF_coverage]):\n",
    "    labels = sorted(list(coverage.keys()))\n",
    "    coverages = [coverage[label] for label in labels]\n",
    "    ent = entropy(coverages, base=None)\n",
    "    sns.barplot(x=labels, y=coverages, ax = axs[c])\n",
    "    axs[c].set_title('{} \\n entropy: {}'.format(titles[c],round(ent,2)), fontsize = 12)\n",
    "fig.savefig('results/aggregative_models_coverages.png', dpi = 300,bbox_inches='tight',facecolor='white', transparent=False)"
   ]
  },
  {
   "cell_type": "code",
   "execution_count": 148,
   "metadata": {},
   "outputs": [],
   "source": [
    "aggregative_models = stats.iloc[[2,15,16],:].loc[:,['CTCF_OE', 'RNAPII_OE','ge_ve','RT_score2']]\n",
    "aggregative_models.rename(columns={'ge_ve': 'gene expression VE', 'RT_score2': 'RT score'}, inplace = True)\n",
    "aggregative_models['name'] = ['combined', 'GMM_GBR', 'GMM_MRF']\n",
    "aggregative_models = pd.melt(aggregative_models, id_vars=['name'])\n",
    "aggregative_models['ratio'] = (9*aggregative_models['variable'].isin(['gene expression VE','RT score']))+1\n",
    "aggregative_models['value'] = aggregative_models['value'] * aggregative_models['ratio']"
   ]
  },
  {
   "cell_type": "code",
   "execution_count": 170,
   "metadata": {},
   "outputs": [
    {
     "name": "stderr",
     "output_type": "stream",
     "text": [
      "/home/nedooshki/.local/lib/python3.6/site-packages/ipykernel_launcher.py:10: UserWarning: FixedFormatter should only be used together with FixedLocator\n",
      "  # Remove the CWD from sys.path while we load stuff.\n"
     ]
    },
    {
     "data": {
      "image/png": "[encoded data removed]",
      "text/plain": [
       "<Figure size 504x288 with 2 Axes>"
      ]
     },
     "metadata": {
      "needs_background": "light"
     },
     "output_type": "display_data"
    }
   ],
   "source": [
    "fig = plt.figure(figsize = (7,4))\n",
    "ax1 = sns.barplot(x=\"variable\", y=\"value\", hue=\"name\", data=aggregative_models, ci=None)\n",
    "ax1.legend_.set_title(None)\n",
    "plt.legend(loc=\"upper right\", fontsize=12)\n",
    "ax1.set_xlabel('')\n",
    "ax1.set_xticklabels(['CTCF OE', 'RNAPII OE', 'gene expression VE', 'RT score'], fontsize = 12, rotation = 45)\n",
    "ax1.set_ylabel('CTCF OE and RNAPII OE', fontsize = 12, labelpad=10)\n",
    "ax2 = ax1.twinx()\n",
    "ax2.set_ylim(ax1.get_ylim())\n",
    "ax2.set_yticklabels(np.round(ax1.get_yticks()/7,1))\n",
    "ax2.set_ylabel('gene expression VE and RT score', fontsize = 12, labelpad=10)\n",
    "fig.savefig('results/aggregative_models_comp.png', dpi = 300,bbox_inches='tight',facecolor='white', transparent=False)"
   ]
  }
 ],
 "metadata": {
  "kernelspec": {
   "display_name": "embedding",
   "language": "python",
   "name": "embedding"
  },
  "language_info": {
   "codemirror_mode": {
    "name": "ipython",
    "version": 3
   },
   "file_extension": ".py",
   "mimetype": "text/x-python",
   "name": "python",
   "nbconvert_exporter": "python",
   "pygments_lexer": "ipython3",
   "version": "3.6.15"
  }
 },
 "nbformat": 4,
 "nbformat_minor": 2
}
