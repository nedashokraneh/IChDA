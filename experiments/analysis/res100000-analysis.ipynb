{
 "cells": [
  {
   "cell_type": "code",
   "execution_count": 3,
   "metadata": {},
   "outputs": [],
   "source": [
    "import sys\n",
    "import os\n",
    "sys.path.append(\"../../src/\")\n",
    "sys.path.append(\"../../utilities/\")\n",
    "import dataset_class\n",
    "from dataset_class import dataset\n",
    "import data_utils\n",
    "import evaluation_utils\n",
    "import numpy as np\n",
    "import pandas as pd\n",
    "import seaborn as sns"
   ]
  },
  {
   "cell_type": "code",
   "execution_count": 41,
   "metadata": {},
   "outputs": [],
   "source": [
    "from importlib import reload\n",
    "evaluation_utils = reload(evaluation_utils)"
   ]
  },
  {
   "cell_type": "code",
   "execution_count": 12,
   "metadata": {},
   "outputs": [],
   "source": [
    "signals_dir = '../../data/GM12878/hg19/genomic-assays/bin_100000/'\n",
    "TAD_path = '../../data/GM12878/hg19/annotations/GSE63525_GM12878_primary+replicate_Arrowhead_domainlist.txt'\n",
    "SC_path = '../../data/GM12878/hg19/annotations/GSE63525_GM12878_subcompartments.bed'\n",
    "CTCF_bedpe_path = '../../data/GM12878/hg19/ChIA-PET/CTCF/lifted_data'\n",
    "RNAPII_bedpe_path = '../../data/GM12878/hg19/ChIA-PET/RNAPII/lifted_data'\n",
    "gene_expression_path = '../../data/GM12878/hg19/gene_expression/GM12878_genes_RPKM.txt'\n",
    "RT_path = '../../data/GM12878/hg19/RT/six_phase/six_phases.txt'\n",
    "TAD_agreements = {}\n",
    "CTCF_ChIA_PETs = {}\n",
    "RNAPII_ChIA_PETs = {}\n",
    "resolution = 100000\n",
    "annotation_dir = '../../data/GM12878/hg19/res100000_datasets/annotations/K=8/'"
   ]
  },
  {
   "cell_type": "markdown",
   "metadata": {},
   "source": [
    "# Average length"
   ]
  },
  {
   "cell_type": "code",
   "execution_count": 54,
   "metadata": {},
   "outputs": [],
   "source": [
    "avg_lengths = []\n",
    "methods = ['GMM', 'HMM_map', 'HMM_viterbi', 'kmeans']\n",
    "inputs = ['functional', 'structural', 'combined']\n",
    "for method in methods:\n",
    "    for input in inputs:\n",
    "        annotation_path = os.path.join(annotation_dir, '{}_{}_annotation.txt'.format(method, input))\n",
    "        df = pd.read_csv(annotation_path, header = None, sep = \"\\t\")\n",
    "        df['length'] = df.iloc[:,2] - df.iloc[:,1]\n",
    "        avg_length = np.mean(df['length'])\n",
    "        avg_lengths.append({'method': method, 'input': input, 'avg_length': avg_length})\n",
    "avg_lengths = pd.DataFrame(avg_lengths)"
   ]
  },
  {
   "cell_type": "code",
   "execution_count": 58,
   "metadata": {},
   "outputs": [],
   "source": [
    "avg_lengths2 = []\n",
    "methods = ['short_gbr', 'long_gbr', 'short_hmrf', 'long_hmrf']\n",
    "for method in methods:\n",
    "    for i in range(10):\n",
    "        annotation_path = os.path.join(annotation_dir, method, '{}_{}_annotation.txt'.format(method,i))\n",
    "        df = pd.read_csv(annotation_path, header = None, sep = \"\\t\")\n",
    "        df['length'] = df.iloc[:,2] - df.iloc[:,1]\n",
    "        avg_length = np.mean(df['length'])\n",
    "        avg_lengths2.append({'method': method, 'iter': i, 'avg_length': avg_length})\n",
    "avg_lengths2 = pd.DataFrame(avg_lengths2)"
   ]
  },
  {
   "cell_type": "markdown",
   "metadata": {},
   "source": [
    "# Number of domains"
   ]
  },
  {
   "cell_type": "code",
   "execution_count": 15,
   "metadata": {},
   "outputs": [],
   "source": [
    "num_domains = []\n",
    "methods = ['GMM', 'HMM_map', 'HMM_viterbi', 'kmeans']\n",
    "inputs = ['functional', 'structural', 'combined']\n",
    "for method in methods:\n",
    "    for input in inputs:\n",
    "        annotation_path = os.path.join(annotation_dir, '{}_{}_annotation.txt'.format(method, input))\n",
    "        num_domain = pd.read_csv(annotation_path, header = None).shape[0]\n",
    "        num_domains.append({'method': method, 'input': input, 'num_domain': num_domain})\n",
    "num_domains = pd.DataFrame(num_domains)"
   ]
  },
  {
   "cell_type": "code",
   "execution_count": 17,
   "metadata": {},
   "outputs": [],
   "source": [
    "num_domains2 = []\n",
    "methods = ['short_gbr', 'long_gbr', 'short_hmrf', 'long_hmrf']\n",
    "for method in methods:\n",
    "    for i in range(10):\n",
    "        annotation_path = os.path.join(annotation_dir, method, '{}_{}_annotation.txt'.format(method,i))\n",
    "        num_domain = pd.read_csv(annotation_path, header = None).shape[0]\n",
    "        num_domains2.append({'method': method, 'iter': i, 'num_domain': num_domain})\n",
    "num_domains2 = pd.DataFrame(num_domains2)"
   ]
  },
  {
   "cell_type": "markdown",
   "metadata": {},
   "source": [
    "# Gene expression"
   ]
  },
  {
   "cell_type": "code",
   "execution_count": 4,
   "metadata": {},
   "outputs": [],
   "source": [
    "gene_expression_ve = []\n",
    "methods = ['GMM', 'HMM_map', 'HMM_viterbi', 'kmeans']\n",
    "inputs = ['functional', 'structural', 'combined']\n",
    "for method in methods:\n",
    "    for input in inputs:\n",
    "        annotation_path = os.path.join(annotation_dir, '{}_{}_annotation.txt'.format(method, input))\n",
    "        ge_ve = evaluation_utils.gene_expression_ve(gene_expression_path, annotation_path, resolution)\n",
    "        gene_expression_ve.append({'method': method, 'input': input, 'ge_ve': ge_ve})\n",
    "gene_expression_ve = pd.DataFrame(gene_expression_ve)"
   ]
  },
  {
   "cell_type": "code",
   "execution_count": 7,
   "metadata": {},
   "outputs": [],
   "source": [
    "gene_expression_ve2 = []\n",
    "methods = ['short_gbr', 'long_gbr', 'short_hmrf', 'long_hmrf']\n",
    "for method in methods:\n",
    "    for i in range(10):\n",
    "        annotation_path = os.path.join(annotation_dir, method, '{}_{}_annotation.txt'.format(method,i))\n",
    "        ge_ve = evaluation_utils.gene_expression_ve(gene_expression_path, annotation_path, resolution)\n",
    "        gene_expression_ve2.append({'method': method, 'iter': i, 'ge_ve': ge_ve})\n",
    "gene_expression_ve2 = pd.DataFrame(gene_expression_ve2)"
   ]
  },
  {
   "cell_type": "code",
   "execution_count": 13,
   "metadata": {},
   "outputs": [],
   "source": [
    "SC_ge_ve = evaluation_utils.gene_expression_ve(gene_expression_path, SC_path, resolution)"
   ]
  },
  {
   "cell_type": "markdown",
   "metadata": {},
   "source": [
    "# TAD agreement"
   ]
  },
  {
   "cell_type": "code",
   "execution_count": 45,
   "metadata": {},
   "outputs": [],
   "source": [
    "TAD_agreements = []\n",
    "methods = ['GMM', 'HMM_map', 'HMM_viterbi', 'kmeans']\n",
    "inputs = ['functional', 'structural', 'combined']\n",
    "for method in methods:\n",
    "    for input in inputs:\n",
    "        annotation_path = os.path.join(annotation_dir, '{}_{}_annotation.txt'.format(method, input))\n",
    "        TAD_agreement = evaluation_utils.normalized_TAD_agreement(annotation_path, TAD_path, resolution, 20)\n",
    "        TAD_agreements.append({'method': method, 'input': input, 'TAD_agreement': TAD_agreement})\n",
    "TAD_agreements = pd.DataFrame(TAD_agreements)"
   ]
  },
  {
   "cell_type": "code",
   "execution_count": 47,
   "metadata": {},
   "outputs": [],
   "source": [
    "TAD_agreements2 = []\n",
    "methods = ['short_gbr', 'long_gbr', 'short_hmrf', 'long_hmrf']\n",
    "for method in methods:\n",
    "    for i in range(10):\n",
    "        annotation_path = os.path.join(annotation_dir, method, '{}_{}_annotation.txt'.format(method,i))\n",
    "        TAD_agreement = evaluation_utils.normalized_TAD_agreement(annotation_path, TAD_path, resolution, 20)\n",
    "        TAD_agreements2.append({'method': method, 'iter': i, 'TAD_agreement': TAD_agreement})\n",
    "TAD_agreements2 = pd.DataFrame(TAD_agreements2)"
   ]
  },
  {
   "cell_type": "markdown",
   "metadata": {},
   "source": [
    "# Replication timing scores"
   ]
  },
  {
   "cell_type": "code",
   "execution_count": 49,
   "metadata": {},
   "outputs": [],
   "source": [
    "RT_scores = []\n",
    "methods = ['GMM', 'HMM_map', 'HMM_viterbi', 'kmeans']\n",
    "inputs = ['functional', 'structural', 'combined']\n",
    "for method in methods:\n",
    "    for input in inputs:\n",
    "        annotation_path = os.path.join(annotation_dir, '{}_{}_annotation.txt'.format(method, input))\n",
    "        RT_score1, RT_score2 = evaluation_utils.RT_scores(RT_path, annotation_path, resolution)\n",
    "        RT_scores.append({'method': method, 'input': input, 'RT_score1': RT_score1, 'RT_score2': RT_score2})\n",
    "RT_scores = pd.DataFrame(RT_scores)"
   ]
  },
  {
   "cell_type": "code",
   "execution_count": 60,
   "metadata": {},
   "outputs": [],
   "source": [
    "RT_scores2 = []\n",
    "methods = ['short_gbr', 'long_gbr', 'short_hmrf', 'long_hmrf']\n",
    "for method in methods:\n",
    "    for i in range(10):\n",
    "        annotation_path = os.path.join(annotation_dir, method, '{}_{}_annotation.txt'.format(method,i))\n",
    "        RT_score1, RT_score2 = evaluation_utils.RT_scores(RT_path, annotation_path, resolution)\n",
    "        RT_scores2.append({'method': method, 'iter': i, 'RT_score1': RT_score1, 'RT_score2': RT_score2})\n",
    "RT_scores2 = pd.DataFrame(RT_scores2)"
   ]
  },
  {
   "cell_type": "markdown",
   "metadata": {},
   "source": [
    "# long-range-interactions"
   ]
  },
  {
   "cell_type": "code",
   "execution_count": 186,
   "metadata": {},
   "outputs": [],
   "source": [
    "CTCF_OE = evaluation_utils.OE_intra_of_bedpe(CTCF_bedpe_path, annotation_path, resolution)"
   ]
  },
  {
   "cell_type": "code",
   "execution_count": 188,
   "metadata": {},
   "outputs": [],
   "source": [
    "RNAPII_OE = evaluation_utils.OE_intra_of_bedpe(RNAPII_bedpe_path, annotation_path, resolution)"
   ]
  },
  {
   "cell_type": "markdown",
   "metadata": {},
   "source": [
    "# save"
   ]
  },
  {
   "cell_type": "code",
   "execution_count": 62,
   "metadata": {},
   "outputs": [],
   "source": [
    "stats = pd.merge(avg_lengths, num_domains, on = ['method', 'input'])\n",
    "stats = pd.merge(stats, gene_expression_ve, on = ['method', 'input'])\n",
    "stats = pd.merge(stats, TAD_agreements, on = ['method', 'input'])\n",
    "stats = pd.merge(stats, RT_scores, on = ['method', 'input'])"
   ]
  },
  {
   "cell_type": "code",
   "execution_count": 64,
   "metadata": {},
   "outputs": [],
   "source": [
    "stats.to_csv('results/res100000/stats.txt', sep = '\\t', index = False)"
   ]
  },
  {
   "cell_type": "code",
   "execution_count": 67,
   "metadata": {},
   "outputs": [],
   "source": [
    "stats2 = pd.merge(avg_lengths2, num_domains2, on = ['method', 'iter'])\n",
    "stats2 = pd.merge(stats2, gene_expression_ve2, on = ['method', 'iter'])\n",
    "stats2 = pd.merge(stats2, TAD_agreements2, on = ['method', 'iter'])\n",
    "stats2 = pd.merge(stats2, RT_scores2, on = ['method', 'iter'])"
   ]
  },
  {
   "cell_type": "code",
   "execution_count": 68,
   "metadata": {},
   "outputs": [],
   "source": [
    "stats2.to_csv('results/res100000/stats2.txt', sep = '\\t', index = False)"
   ]
  }
 ],
 "metadata": {
  "kernelspec": {
   "display_name": "embedding",
   "language": "python",
   "name": "embedding"
  },
  "language_info": {
   "codemirror_mode": {
    "name": "ipython",
    "version": 3
   },
   "file_extension": ".py",
   "mimetype": "text/x-python",
   "name": "python",
   "nbconvert_exporter": "python",
   "pygments_lexer": "ipython3",
   "version": "3.6.15"
  }
 },
 "nbformat": 4,
 "nbformat_minor": 2
}
