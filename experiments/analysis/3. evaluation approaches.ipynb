{
 "cells": [
  {
   "cell_type": "code",
   "execution_count": 26,
   "metadata": {},
   "outputs": [],
   "source": [
    "import pandas as pd\n",
    "import seaborn as sns\n",
    "import numpy as np\n",
    "from statistics import median\n",
    "from scipy import sparse\n",
    "import sys\n",
    "import os\n",
    "sys.path.append(\"../../src/\")\n",
    "sys.path.append(\"../../utilities/\")\n",
    "import data_utils\n",
    "import evaluation_utils\n",
    "from dataset_class import dataset\n",
    "import topdom"
   ]
  },
  {
   "cell_type": "code",
   "execution_count": 2,
   "metadata": {},
   "outputs": [],
   "source": [
    "gene_expression_path = '../../data/GM12878/hg19/gene_expression/GM12878_genes_RPKM.txt'\n",
    "RT_path = '../../data/GM12878/hg19/RT/six_phase/six_phases.txt'\n",
    "TAD_path = '../../data/GM12878/hg19/annotations/GSE63525_GM12878_primary+replicate_Arrowhead_domainlist.txt'\n",
    "CTCF_bedpe_path = '../../data/GM12878/hg19/ChIA-PET/CTCF/lifted_data'\n",
    "RNAPII_bedpe_path = '../../data/GM12878/hg19/ChIA-PET/RNAPII/lifted_data'\n",
    "annotation_dir = '../../data/GM12878/hg19/res100000_datasets/annotations/K=8/'\n",
    "GBR_annot_path = os.path.join(annotation_dir,'short_gbr', 'short_gbr_9_annotation.txt')\n",
    "HMRF_annot_path = os.path.join(annotation_dir, 'hmrf/hic_1e-06_annotation.txt')\n",
    "GM12878_signals_names = ['DNase', 'H3K4me2', 'H3K27ac', 'H2A.Z', 'H3K9me3', 'H3K4me1', 'H3K27me3', 'H3K9ac', 'H3K4me3', 'H3K36me3', 'H3K79me2', 'H4K20me1']"
   ]
  },
  {
   "cell_type": "code",
   "execution_count": 3,
   "metadata": {},
   "outputs": [],
   "source": [
    "resolution = 100000\n",
    "GM12878_dataset_100k = dataset('GM12878', 'hg19', resolution, '../../data/GM12878/hg19/Hi-C/GSE63525_GM12878_insitu_primary_30.hic',\n",
    "                 '../../utilities/juicer_tools_1.22.01.jar', '../../data/GM12878/hg19/Hi-C/res{}'.format(resolution),\n",
    "                 GM12878_signals_names, '../../data/GM12878/hg19/genomic-assays/bin_{}/'.format(resolution), \n",
    "                  '../../data/GM12878/hg19/res{}_datasets/'.format(resolution),\n",
    "                  '../../data/', '../../utilities/config.json')\n",
    "GM12878_dataset_100k.load_pos2ind_and_ind2pos_maps('../../data/valid_bins/hg19/GM12878_{}_bins.txt'.format(resolution))"
   ]
  },
  {
   "cell_type": "code",
   "execution_count": 4,
   "metadata": {},
   "outputs": [],
   "source": [
    "chr21_mat = GM12878_dataset_100k.get_hic_mat(21,21,'observed')\n",
    "chr21_mat = chr21_mat.toarray()\n",
    "chr21_mat = data_utils.sym_mat(chr21_mat)\n",
    "chr21_mat = sparse.csr_matrix(chr21_mat)"
   ]
  },
  {
   "cell_type": "code",
   "execution_count": 29,
   "metadata": {},
   "outputs": [
    {
     "data": {
      "text/plain": [
       "{0: {'start': 0, 'end': 94, 'score': 10, 'tag': 'gap'},\n",
       " 101: {'start': 101, 'end': 104, 'score': 10, 'tag': 'gap'},\n",
       " 112: {'start': 112, 'end': 143, 'score': 10, 'tag': 'gap'},\n",
       " 94: {'start': 94, 'end': 101, 'score': 0.8471943147184504, 'tag': 'domain'},\n",
       " 104: {'start': 104, 'end': 112, 'score': 0.5752043390360688, 'tag': 'domain'},\n",
       " 143: {'start': 143, 'end': 271, 'score': 0.8478145266702544, 'tag': 'domain'},\n",
       " 272: {'start': 272,\n",
       "  'end': 275,\n",
       "  'score': 4.644265356946763e-08,\n",
       "  'tag': 'boundary'},\n",
       " 276: {'start': 276,\n",
       "  'end': 280,\n",
       "  'score': 7.644863433717626e-26,\n",
       "  'tag': 'boundary'},\n",
       " 281: {'start': 281, 'end': 329, 'score': 0.8647118417805139, 'tag': 'domain'},\n",
       " 330: {'start': 330,\n",
       "  'end': 336,\n",
       "  'score': 4.629051333661656e-25,\n",
       "  'tag': 'boundary'},\n",
       " 337: {'start': 337,\n",
       "  'end': 349,\n",
       "  'score': 0.25082070371557574,\n",
       "  'tag': 'domain'},\n",
       " 350: {'start': 350,\n",
       "  'end': 356,\n",
       "  'score': 0.02130694461824537,\n",
       "  'tag': 'boundary'},\n",
       " 357: {'start': 357, 'end': 374, 'score': 0.826785297386416, 'tag': 'domain'},\n",
       " 375: {'start': 375,\n",
       "  'end': 377,\n",
       "  'score': 0.0009291717822013058,\n",
       "  'tag': 'boundary'},\n",
       " 378: {'start': 378,\n",
       "  'end': 383,\n",
       "  'score': 0.00105682311149302,\n",
       "  'tag': 'boundary'},\n",
       " 384: {'start': 384,\n",
       "  'end': 398,\n",
       "  'score': 0.36690981486900837,\n",
       "  'tag': 'domain'},\n",
       " 399: {'start': 399,\n",
       "  'end': 405,\n",
       "  'score': 0.035459083795140234,\n",
       "  'tag': 'domain'},\n",
       " 406: {'start': 406,\n",
       "  'end': 408,\n",
       "  'score': 2.4099679754644974e-06,\n",
       "  'tag': 'boundary'},\n",
       " 409: {'start': 409, 'end': 425, 'score': 0.6792390607448759, 'tag': 'domain'},\n",
       " 426: {'start': 426,\n",
       "  'end': 431,\n",
       "  'score': 1.5087044915876425e-60,\n",
       "  'tag': 'boundary'},\n",
       " 432: {'start': 432,\n",
       "  'end': 439,\n",
       "  'score': 2.8181336013604686e-08,\n",
       "  'tag': 'boundary'},\n",
       " 440: {'start': 440,\n",
       "  'end': 442,\n",
       "  'score': 0.0008099973532681774,\n",
       "  'tag': 'boundary'},\n",
       " 443: {'start': 443, 'end': 450, 'score': 0.2547755235851873, 'tag': 'domain'},\n",
       " 451: {'start': 451,\n",
       "  'end': 454,\n",
       "  'score': 5.895680256338413e-21,\n",
       "  'tag': 'boundary'},\n",
       " 455: {'start': 455,\n",
       "  'end': 457,\n",
       "  'score': 3.825812785495652e-29,\n",
       "  'tag': 'boundary'},\n",
       " 458: {'start': 458, 'end': 473, 'score': 0.4926264418588898, 'tag': 'domain'},\n",
       " 474: {'start': 474,\n",
       "  'end': 482,\n",
       "  'score': 0.12500054729215307,\n",
       "  'tag': 'domain'}}"
      ]
     },
     "execution_count": 29,
     "metadata": {},
     "output_type": "execute_result"
    }
   ],
   "source": [
    "topdom.TopDom(chr21_mat, 20)"
   ]
  },
  {
   "cell_type": "code",
   "execution_count": 7,
   "metadata": {},
   "outputs": [],
   "source": [
    "resolution = 10000\n",
    "GM12878_dataset_10k = dataset('GM12878', 'hg19', resolution, '../../data/GM12878/hg19/Hi-C/GSE63525_GM12878_insitu_primary_30.hic',\n",
    "                 '../../utilities/juicer_tools_1.22.01.jar', '../../data/GM12878/hg19/Hi-C/res{}'.format(resolution),\n",
    "                 GM12878_signals_names, '../../data/GM12878/hg19/genomic-assays/bin_{}/'.format(resolution), \n",
    "                  '../../data/GM12878/hg19/res{}_datasets/'.format(resolution),\n",
    "                  '../../data/', '../../utilities/config.json')\n",
    "GM12878_dataset_10k.load_pos2ind_and_ind2pos_maps('../../data/valid_bins/hg19/GM12878_{}_bins.txt'.format(resolution))\n",
    "\n",
    "resolution = 25000\n",
    "GM12878_dataset_25k = dataset('GM12878', 'hg19', resolution, '../../data/GM12878/hg19/Hi-C/GSE63525_GM12878_insitu_primary_30.hic',\n",
    "                 '../../utilities/juicer_tools_1.22.01.jar', '../../data/GM12878/hg19/Hi-C/res{}'.format(resolution),\n",
    "                 GM12878_signals_names, '../../data/GM12878/hg19/genomic-assays/bin_{}/'.format(resolution), \n",
    "                  '../../data/GM12878/hg19/res{}_datasets/'.format(resolution),\n",
    "                  '../../data/', '../../utilities/config.json')\n",
    "GM12878_dataset_25k.load_pos2ind_and_ind2pos_maps('../../data/valid_bins/hg19/GM12878_{}_bins.txt'.format(resolution))\n",
    "\n",
    "resolution = 100000\n",
    "GM12878_dataset_100k = dataset('GM12878', 'hg19', resolution, '../../data/GM12878/hg19/Hi-C/GSE63525_GM12878_insitu_primary_30.hic',\n",
    "                 '../../utilities/juicer_tools_1.22.01.jar', '../../data/GM12878/hg19/Hi-C/res{}'.format(resolution),\n",
    "                 GM12878_signals_names, '../../data/GM12878/hg19/genomic-assays/bin_{}/'.format(resolution), \n",
    "                  '../../data/GM12878/hg19/res{}_datasets/'.format(resolution),\n",
    "                  '../../data/', '../../utilities/config.json')\n",
    "GM12878_dataset_100k.load_pos2ind_and_ind2pos_maps('../../data/valid_bins/hg19/GM12878_{}_bins.txt'.format(resolution))"
   ]
  },
  {
   "cell_type": "code",
   "execution_count": 2,
   "metadata": {},
   "outputs": [],
   "source": [
    "signals_path = {10000: '../../data/GM12878/hg19/res10000_datasets/signals.txt',\n",
    "               25000: '../../data/GM12878/hg19/res25000_datasets/signals.txt',\n",
    "               100000: '../../data/GM12878/hg19/res100000_datasets/signals.txt'}\n",
    "signals = {}\n",
    "for res in [10000,25000,100000]:\n",
    "    signals[res] = np.loadtxt(signals_path[res])\n",
    "GMM_labels = {}\n",
    "for res in [10000, 25000, 100000]:\n",
    "    GMM_labels[res] = pd.read_csv('results/annotation/GMM_res{}.txt'.format(res), sep = \"\\t\")"
   ]
  },
  {
   "cell_type": "code",
   "execution_count": 12,
   "metadata": {},
   "outputs": [],
   "source": [
    "for k in [4,6,8]:\n",
    "    GM12878_dataset_10k.write_annotation(GMM_labels[10000]['GMM_{}'.format(k)], \n",
    "                                         'GMM_res10000_k{}'.format(k), 'results/annotations/')\n",
    "    GM12878_dataset_25k.write_annotation(GMM_labels[25000]['GMM_{}'.format(k)], \n",
    "                                         'GMM_res25000_k{}'.format(k), 'results/annotations/')\n",
    "    GM12878_dataset_100k.write_annotation(GMM_labels[100000]['GMM_{}'.format(k)], \n",
    "                                         'GMM_res100000_k{}'.format(k), 'results/annotations/')"
   ]
  },
  {
   "cell_type": "code",
   "execution_count": 14,
   "metadata": {},
   "outputs": [],
   "source": [
    "TAD_agreements = {}\n",
    "for res in [10000, 25000, 100000]:\n",
    "    for k in [4,6,8]:\n",
    "        TAD_agreements[res,k] = evaluation_utils.normalized_TAD_agreement(\n",
    "            'results/annotations/GMM_res{}_k{}_annotation.txt'.format(res,k),\n",
    "                                         TAD_path, res, 20)"
   ]
  },
  {
   "cell_type": "code",
   "execution_count": 20,
   "metadata": {},
   "outputs": [
    {
     "data": {
      "text/plain": [
       "0.5196725260486077"
      ]
     },
     "execution_count": 20,
     "metadata": {},
     "output_type": "execute_result"
    }
   ],
   "source": [
    "evaluation_utils.gene_expression_ve(gene_expression_path, 'results/annotations/GMM_res10000_k8_annotation.txt', 10000)"
   ]
  },
  {
   "cell_type": "code",
   "execution_count": 21,
   "metadata": {},
   "outputs": [
    {
     "data": {
      "text/plain": [
       "1.3631440450091001"
      ]
     },
     "execution_count": 21,
     "metadata": {},
     "output_type": "execute_result"
    }
   ],
   "source": [
    "evaluation_utils.OE_intra_of_bedpe(CTCF_bedpe_path, 'results/annotations/GMM_res10000_k8_annotation.txt', 10000)"
   ]
  },
  {
   "cell_type": "code",
   "execution_count": 15,
   "metadata": {},
   "outputs": [
    {
     "data": {
      "text/plain": [
       "{(10000, 4): 0.8240092107790221,\n",
       " (10000, 6): 0.8242819977668248,\n",
       " (10000, 8): 0.7861674988293852,\n",
       " (25000, 4): 0.8643722947192811,\n",
       " (25000, 6): 0.8755289473715621,\n",
       " (25000, 8): 0.8659877708536832,\n",
       " (100000, 4): 0.9927666608433205,\n",
       " (100000, 6): 0.9896971570933806,\n",
       " (100000, 8): 0.9768240125493751}"
      ]
     },
     "execution_count": 15,
     "metadata": {},
     "output_type": "execute_result"
    }
   ],
   "source": [
    "TAD_agreements"
   ]
  },
  {
   "cell_type": "code",
   "execution_count": null,
   "metadata": {},
   "outputs": [],
   "source": []
  },
  {
   "cell_type": "code",
   "execution_count": 5,
   "metadata": {},
   "outputs": [],
   "source": [
    "RT = pd.read_csv(RT_path, sep = \"\\t\", header = None)\n",
    "RT.columns = ['chr_name', 'pos', 'G1', 'S1', 'S2', 'S3', 'S4', 'G2']\n",
    "RT['RT_label'] = RT.iloc[:,2:8].to_numpy().argmax(axis=1)"
   ]
  },
  {
   "cell_type": "code",
   "execution_count": 25,
   "metadata": {},
   "outputs": [
    {
     "name": "stderr",
     "output_type": "stream",
     "text": [
      "/home/nedooshki/.local/lib/python3.6/site-packages/ipykernel_launcher.py:2: SettingWithCopyWarning: \n",
      "A value is trying to be set on a copy of a slice from a DataFrame.\n",
      "Try using .loc[row_indexer,col_indexer] = value instead\n",
      "\n",
      "See the caveats in the documentation: https://pandas.pydata.org/pandas-docs/stable/user_guide/indexing.html#returning-a-view-versus-a-copy\n",
      "  \n",
      "/home/nedooshki/.local/lib/python3.6/site-packages/ipykernel_launcher.py:4: SettingWithCopyWarning: \n",
      "A value is trying to be set on a copy of a slice from a DataFrame.\n",
      "Try using .loc[row_indexer,col_indexer] = value instead\n",
      "\n",
      "See the caveats in the documentation: https://pandas.pydata.org/pandas-docs/stable/user_guide/indexing.html#returning-a-view-versus-a-copy\n",
      "  after removing the cwd from sys.path.\n"
     ]
    },
    {
     "name": "stdout",
     "output_type": "stream",
     "text": [
      "0.3076465011660301\n",
      "0.004409583451744803\n"
     ]
    }
   ],
   "source": [
    "annotation_dict = evaluation_utils.make_annotation_dict(HMRF_annot_path, 100000)\n",
    "RT['label'] = [annotation_dict[chr_name][int(pos)] for chr_name, pos in zip(RT['chr_name'].values, RT['pos'].values/100000)]\n",
    "annotation_dict = evaluation_utils.permute_annotation_dict(annotation_dict)\n",
    "RT['permuted_label'] = [annotation_dict[chr_name][int(pos)] for chr_name, pos in zip(RT['chr_name'].values, RT['pos'].values/100000)]\n",
    "RT = RT[(RT['label'].values != None) & (RT['permuted_label'].values != None)]\n",
    "print(evaluation_utils.variance_explained(RT['G1'],RT['label']))\n",
    "print(evaluation_utils.variance_explained(RT['G1'],RT['permuted_label']))"
   ]
  },
  {
   "cell_type": "code",
   "execution_count": 3,
   "metadata": {},
   "outputs": [],
   "source": [
    "RNAPII = pd.read_csv(RNAPII_bedpe_path, sep = \"\\t\", header = None)\n",
    "RNAPII['pos1'] = (RNAPII.iloc[:,1] + RNAPII.iloc[:,2])/2\n",
    "RNAPII['pos2'] = (RNAPII.iloc[:,4] + RNAPII.iloc[:,5])/2\n",
    "RNAPII['dist'] = [abs(t-s) for s,t in zip(RNAPII['pos1'],RNAPII['pos2'])]"
   ]
  },
  {
   "cell_type": "code",
   "execution_count": 9,
   "metadata": {},
   "outputs": [],
   "source": [
    "CTCF = pd.read_csv(CTCF_bedpe_path, sep = \"\\t\", header = None)\n",
    "CTCF['pos1'] = (CTCF.iloc[:,1] + CTCF.iloc[:,2])/2\n",
    "CTCF['pos2'] = (CTCF.iloc[:,4] + CTCF.iloc[:,5])/2\n",
    "CTCF['dist'] = [abs(t-s) for s,t in zip(CTCF['pos1'],CTCF['pos2'])]"
   ]
  },
  {
   "cell_type": "code",
   "execution_count": 14,
   "metadata": {},
   "outputs": [
    {
     "name": "stdout",
     "output_type": "stream",
     "text": [
      "183644.5\n",
      "268852.5\n"
     ]
    }
   ],
   "source": [
    "print(median(RNAPII['dist']))\n",
    "print(median(CTCF['dist']))"
   ]
  },
  {
   "cell_type": "code",
   "execution_count": 10,
   "metadata": {},
   "outputs": [
    {
     "name": "stderr",
     "output_type": "stream",
     "text": [
      "/home/nedooshki/miniconda3/envs/embedding/lib/python3.6/site-packages/seaborn/distributions.py:2619: FutureWarning: `distplot` is a deprecated function and will be removed in a future version. Please adapt your code to use either `displot` (a figure-level function with similar flexibility) or `histplot` (an axes-level function for histograms).\n",
      "  warnings.warn(msg, FutureWarning)\n"
     ]
    },
    {
     "data": {
      "text/plain": [
       "<AxesSubplot:xlabel='dist', ylabel='Density'>"
      ]
     },
     "execution_count": 10,
     "metadata": {},
     "output_type": "execute_result"
    },
    {
     "data": {
      "image/png": "[encoded data removed]",
      "text/plain": [
       "<Figure size 432x288 with 1 Axes>"
      ]
     },
     "metadata": {
      "needs_background": "light"
     },
     "output_type": "display_data"
    }
   ],
   "source": [
    "sns.distplot(RNAPII['dist'])"
   ]
  },
  {
   "cell_type": "code",
   "execution_count": 16,
   "metadata": {},
   "outputs": [],
   "source": [
    "TADs = pd.read_csv(TAD_path, sep = \"\\t\")"
   ]
  },
  {
   "cell_type": "code",
   "execution_count": 19,
   "metadata": {},
   "outputs": [
    {
     "data": {
      "text/plain": [
       "258279.05973689887"
      ]
     },
     "execution_count": 19,
     "metadata": {},
     "output_type": "execute_result"
    }
   ],
   "source": [
    "(TADs['x2'] - TADs['x1']).mean()"
   ]
  },
  {
   "cell_type": "code",
   "execution_count": 39,
   "metadata": {},
   "outputs": [
    {
     "data": {
      "text/html": [
       "<div>\n",
       "<style scoped>\n",
       "    .dataframe tbody tr th:only-of-type {\n",
       "        vertical-align: middle;\n",
       "    }\n",
       "\n",
       "    .dataframe tbody tr th {\n",
       "        vertical-align: top;\n",
       "    }\n",
       "\n",
       "    .dataframe thead th {\n",
       "        text-align: right;\n",
       "    }\n",
       "</style>\n",
       "<table border=\"1\" class=\"dataframe\">\n",
       "  <thead>\n",
       "    <tr style=\"text-align: right;\">\n",
       "      <th></th>\n",
       "      <th>chr1</th>\n",
       "      <th>x1</th>\n",
       "      <th>x2</th>\n",
       "      <th>chr2</th>\n",
       "      <th>y1</th>\n",
       "      <th>y2</th>\n",
       "      <th>color</th>\n",
       "      <th>f1</th>\n",
       "      <th>f2</th>\n",
       "      <th>f3</th>\n",
       "      <th>f4</th>\n",
       "      <th>f5</th>\n",
       "    </tr>\n",
       "  </thead>\n",
       "  <tbody>\n",
       "    <tr>\n",
       "      <th>530</th>\n",
       "      <td>1</td>\n",
       "      <td>915000</td>\n",
       "      <td>1005000</td>\n",
       "      <td>1</td>\n",
       "      <td>915000</td>\n",
       "      <td>1005000</td>\n",
       "      <td>255,255,0</td>\n",
       "      <td>0.72251</td>\n",
       "      <td>0.017000</td>\n",
       "      <td>0.053366</td>\n",
       "      <td>0.51852</td>\n",
       "      <td>0.51852</td>\n",
       "    </tr>\n",
       "    <tr>\n",
       "      <th>252</th>\n",
       "      <td>1</td>\n",
       "      <td>1030000</td>\n",
       "      <td>1235000</td>\n",
       "      <td>1</td>\n",
       "      <td>1030000</td>\n",
       "      <td>1235000</td>\n",
       "      <td>255,255,0</td>\n",
       "      <td>1.19540</td>\n",
       "      <td>0.059293</td>\n",
       "      <td>0.051132</td>\n",
       "      <td>0.67619</td>\n",
       "      <td>0.83095</td>\n",
       "    </tr>\n",
       "    <tr>\n",
       "      <th>416</th>\n",
       "      <td>1</td>\n",
       "      <td>1255000</td>\n",
       "      <td>1450000</td>\n",
       "      <td>1</td>\n",
       "      <td>1255000</td>\n",
       "      <td>1450000</td>\n",
       "      <td>255,255,0</td>\n",
       "      <td>0.93120</td>\n",
       "      <td>0.037908</td>\n",
       "      <td>0.045558</td>\n",
       "      <td>0.69737</td>\n",
       "      <td>0.57632</td>\n",
       "    </tr>\n",
       "    <tr>\n",
       "      <th>226</th>\n",
       "      <td>1</td>\n",
       "      <td>1710000</td>\n",
       "      <td>1840000</td>\n",
       "      <td>1</td>\n",
       "      <td>1710000</td>\n",
       "      <td>1840000</td>\n",
       "      <td>255,255,0</td>\n",
       "      <td>1.59410</td>\n",
       "      <td>0.044893</td>\n",
       "      <td>0.070076</td>\n",
       "      <td>0.80473</td>\n",
       "      <td>0.87574</td>\n",
       "    </tr>\n",
       "    <tr>\n",
       "      <th>311</th>\n",
       "      <td>1</td>\n",
       "      <td>1860000</td>\n",
       "      <td>2055000</td>\n",
       "      <td>1</td>\n",
       "      <td>1860000</td>\n",
       "      <td>2055000</td>\n",
       "      <td>255,255,0</td>\n",
       "      <td>1.26260</td>\n",
       "      <td>0.051406</td>\n",
       "      <td>0.048336</td>\n",
       "      <td>0.92368</td>\n",
       "      <td>0.53421</td>\n",
       "    </tr>\n",
       "    <tr>\n",
       "      <th>...</th>\n",
       "      <td>...</td>\n",
       "      <td>...</td>\n",
       "      <td>...</td>\n",
       "      <td>...</td>\n",
       "      <td>...</td>\n",
       "      <td>...</td>\n",
       "      <td>...</td>\n",
       "      <td>...</td>\n",
       "      <td>...</td>\n",
       "      <td>...</td>\n",
       "      <td>...</td>\n",
       "      <td>...</td>\n",
       "    </tr>\n",
       "    <tr>\n",
       "      <th>9149</th>\n",
       "      <td>X</td>\n",
       "      <td>152990000</td>\n",
       "      <td>153235000</td>\n",
       "      <td>X</td>\n",
       "      <td>152990000</td>\n",
       "      <td>153235000</td>\n",
       "      <td>255,255,0</td>\n",
       "      <td>1.13680</td>\n",
       "      <td>0.038660</td>\n",
       "      <td>0.077699</td>\n",
       "      <td>0.75833</td>\n",
       "      <td>0.64167</td>\n",
       "    </tr>\n",
       "    <tr>\n",
       "      <th>9102</th>\n",
       "      <td>X</td>\n",
       "      <td>153235000</td>\n",
       "      <td>153360000</td>\n",
       "      <td>X</td>\n",
       "      <td>153235000</td>\n",
       "      <td>153360000</td>\n",
       "      <td>255,255,0</td>\n",
       "      <td>1.08400</td>\n",
       "      <td>0.018181</td>\n",
       "      <td>0.151250</td>\n",
       "      <td>0.72436</td>\n",
       "      <td>0.71154</td>\n",
       "    </tr>\n",
       "    <tr>\n",
       "      <th>9101</th>\n",
       "      <td>X</td>\n",
       "      <td>153625000</td>\n",
       "      <td>153720000</td>\n",
       "      <td>X</td>\n",
       "      <td>153625000</td>\n",
       "      <td>153720000</td>\n",
       "      <td>255,255,0</td>\n",
       "      <td>0.90976</td>\n",
       "      <td>0.080002</td>\n",
       "      <td>0.092661</td>\n",
       "      <td>0.67778</td>\n",
       "      <td>0.54444</td>\n",
       "    </tr>\n",
       "    <tr>\n",
       "      <th>9154</th>\n",
       "      <td>X</td>\n",
       "      <td>153980000</td>\n",
       "      <td>154110000</td>\n",
       "      <td>X</td>\n",
       "      <td>153980000</td>\n",
       "      <td>154110000</td>\n",
       "      <td>255,255,0</td>\n",
       "      <td>0.99461</td>\n",
       "      <td>0.049997</td>\n",
       "      <td>0.061742</td>\n",
       "      <td>0.59568</td>\n",
       "      <td>0.69044</td>\n",
       "    </tr>\n",
       "    <tr>\n",
       "      <th>9223</th>\n",
       "      <td>X</td>\n",
       "      <td>154205000</td>\n",
       "      <td>154300000</td>\n",
       "      <td>X</td>\n",
       "      <td>154205000</td>\n",
       "      <td>154300000</td>\n",
       "      <td>255,255,0</td>\n",
       "      <td>1.25770</td>\n",
       "      <td>0.035793</td>\n",
       "      <td>0.031409</td>\n",
       "      <td>0.76667</td>\n",
       "      <td>0.74444</td>\n",
       "    </tr>\n",
       "  </tbody>\n",
       "</table>\n",
       "<p>9274 rows × 12 columns</p>\n",
       "</div>"
      ],
      "text/plain": [
       "     chr1         x1         x2 chr2         y1         y2      color  \\\n",
       "530     1     915000    1005000    1     915000    1005000  255,255,0   \n",
       "252     1    1030000    1235000    1    1030000    1235000  255,255,0   \n",
       "416     1    1255000    1450000    1    1255000    1450000  255,255,0   \n",
       "226     1    1710000    1840000    1    1710000    1840000  255,255,0   \n",
       "311     1    1860000    2055000    1    1860000    2055000  255,255,0   \n",
       "...   ...        ...        ...  ...        ...        ...        ...   \n",
       "9149    X  152990000  153235000    X  152990000  153235000  255,255,0   \n",
       "9102    X  153235000  153360000    X  153235000  153360000  255,255,0   \n",
       "9101    X  153625000  153720000    X  153625000  153720000  255,255,0   \n",
       "9154    X  153980000  154110000    X  153980000  154110000  255,255,0   \n",
       "9223    X  154205000  154300000    X  154205000  154300000  255,255,0   \n",
       "\n",
       "           f1        f2        f3       f4       f5  \n",
       "530   0.72251  0.017000  0.053366  0.51852  0.51852  \n",
       "252   1.19540  0.059293  0.051132  0.67619  0.83095  \n",
       "416   0.93120  0.037908  0.045558  0.69737  0.57632  \n",
       "226   1.59410  0.044893  0.070076  0.80473  0.87574  \n",
       "311   1.26260  0.051406  0.048336  0.92368  0.53421  \n",
       "...       ...       ...       ...      ...      ...  \n",
       "9149  1.13680  0.038660  0.077699  0.75833  0.64167  \n",
       "9102  1.08400  0.018181  0.151250  0.72436  0.71154  \n",
       "9101  0.90976  0.080002  0.092661  0.67778  0.54444  \n",
       "9154  0.99461  0.049997  0.061742  0.59568  0.69044  \n",
       "9223  1.25770  0.035793  0.031409  0.76667  0.74444  \n",
       "\n",
       "[9274 rows x 12 columns]"
      ]
     },
     "execution_count": 39,
     "metadata": {},
     "output_type": "execute_result"
    }
   ],
   "source": [
    "TADs.sort_values(['chr1','x1'])"
   ]
  },
  {
   "cell_type": "code",
   "execution_count": null,
   "metadata": {},
   "outputs": [],
   "source": []
  },
  {
   "cell_type": "code",
   "execution_count": 6,
   "metadata": {},
   "outputs": [],
   "source": [
    "GE_data = pd.read_csv(gene_expression_path, sep = \"\\t\", header = None)\n",
    "GE_data.columns = ['gene_id', 'chr', 'start', 'end', 'strand', 'expression']\n",
    "GE_data.sort_values(['chr','start'], inplace = True)"
   ]
  },
  {
   "cell_type": "code",
   "execution_count": null,
   "metadata": {},
   "outputs": [],
   "source": []
  },
  {
   "cell_type": "code",
   "execution_count": 24,
   "metadata": {},
   "outputs": [
    {
     "name": "stderr",
     "output_type": "stream",
     "text": [
      "/home/nedooshki/miniconda3/envs/embedding/lib/python3.6/site-packages/seaborn/distributions.py:2619: FutureWarning: `distplot` is a deprecated function and will be removed in a future version. Please adapt your code to use either `displot` (a figure-level function with similar flexibility) or `histplot` (an axes-level function for histograms).\n",
      "  warnings.warn(msg, FutureWarning)\n"
     ]
    },
    {
     "data": {
      "text/plain": [
       "<AxesSubplot:xlabel='expression', ylabel='Density'>"
      ]
     },
     "execution_count": 24,
     "metadata": {},
     "output_type": "execute_result"
    },
    {
     "data": {
      "image/png": "[encoded data removed]",
      "text/plain": [
       "<Figure size 432x288 with 1 Axes>"
      ]
     },
     "metadata": {
      "needs_background": "light"
     },
     "output_type": "display_data"
    }
   ],
   "source": [
    "sns.distplot(np.arcsinh(GE_data['expression']))"
   ]
  },
  {
   "cell_type": "code",
   "execution_count": 25,
   "metadata": {},
   "outputs": [],
   "source": [
    "RT_data = pd.read_csv(RT_path, sep = \"\\t\", header = None)\n",
    "RT_data.columns = ['chr_name', 'pos', 'G1', 'S1', 'S2', 'S3', 'S4', 'G2']"
   ]
  },
  {
   "cell_type": "code",
   "execution_count": 28,
   "metadata": {},
   "outputs": [
    {
     "data": {
      "text/html": [
       "<div>\n",
       "<style scoped>\n",
       "    .dataframe tbody tr th:only-of-type {\n",
       "        vertical-align: middle;\n",
       "    }\n",
       "\n",
       "    .dataframe tbody tr th {\n",
       "        vertical-align: top;\n",
       "    }\n",
       "\n",
       "    .dataframe thead th {\n",
       "        text-align: right;\n",
       "    }\n",
       "</style>\n",
       "<table border=\"1\" class=\"dataframe\">\n",
       "  <thead>\n",
       "    <tr style=\"text-align: right;\">\n",
       "      <th></th>\n",
       "      <th>chr_name</th>\n",
       "      <th>pos</th>\n",
       "      <th>G1</th>\n",
       "      <th>S1</th>\n",
       "      <th>S2</th>\n",
       "      <th>S3</th>\n",
       "      <th>S4</th>\n",
       "      <th>G2</th>\n",
       "    </tr>\n",
       "  </thead>\n",
       "  <tbody>\n",
       "    <tr>\n",
       "      <th>0</th>\n",
       "      <td>chr1</td>\n",
       "      <td>24500</td>\n",
       "      <td>41.0</td>\n",
       "      <td>16.0</td>\n",
       "      <td>25.0</td>\n",
       "      <td>6.0</td>\n",
       "      <td>13.0</td>\n",
       "      <td>0.0</td>\n",
       "    </tr>\n",
       "    <tr>\n",
       "      <th>1</th>\n",
       "      <td>chr1</td>\n",
       "      <td>25500</td>\n",
       "      <td>41.0</td>\n",
       "      <td>16.0</td>\n",
       "      <td>25.0</td>\n",
       "      <td>6.0</td>\n",
       "      <td>13.0</td>\n",
       "      <td>0.0</td>\n",
       "    </tr>\n",
       "    <tr>\n",
       "      <th>2</th>\n",
       "      <td>chr1</td>\n",
       "      <td>26500</td>\n",
       "      <td>41.0</td>\n",
       "      <td>16.0</td>\n",
       "      <td>25.0</td>\n",
       "      <td>6.0</td>\n",
       "      <td>13.0</td>\n",
       "      <td>0.0</td>\n",
       "    </tr>\n",
       "    <tr>\n",
       "      <th>3</th>\n",
       "      <td>chr1</td>\n",
       "      <td>27500</td>\n",
       "      <td>41.0</td>\n",
       "      <td>16.0</td>\n",
       "      <td>25.0</td>\n",
       "      <td>6.0</td>\n",
       "      <td>13.0</td>\n",
       "      <td>0.0</td>\n",
       "    </tr>\n",
       "    <tr>\n",
       "      <th>4</th>\n",
       "      <td>chr1</td>\n",
       "      <td>28500</td>\n",
       "      <td>41.0</td>\n",
       "      <td>16.0</td>\n",
       "      <td>25.0</td>\n",
       "      <td>6.0</td>\n",
       "      <td>13.0</td>\n",
       "      <td>0.0</td>\n",
       "    </tr>\n",
       "    <tr>\n",
       "      <th>...</th>\n",
       "      <td>...</td>\n",
       "      <td>...</td>\n",
       "      <td>...</td>\n",
       "      <td>...</td>\n",
       "      <td>...</td>\n",
       "      <td>...</td>\n",
       "      <td>...</td>\n",
       "      <td>...</td>\n",
       "    </tr>\n",
       "    <tr>\n",
       "      <th>2689831</th>\n",
       "      <td>chr22</td>\n",
       "      <td>51253500</td>\n",
       "      <td>0.0</td>\n",
       "      <td>33.0</td>\n",
       "      <td>33.0</td>\n",
       "      <td>33.0</td>\n",
       "      <td>0.0</td>\n",
       "      <td>0.0</td>\n",
       "    </tr>\n",
       "    <tr>\n",
       "      <th>2689832</th>\n",
       "      <td>chr22</td>\n",
       "      <td>51254500</td>\n",
       "      <td>0.0</td>\n",
       "      <td>33.0</td>\n",
       "      <td>33.0</td>\n",
       "      <td>33.0</td>\n",
       "      <td>0.0</td>\n",
       "      <td>0.0</td>\n",
       "    </tr>\n",
       "    <tr>\n",
       "      <th>2689833</th>\n",
       "      <td>chr22</td>\n",
       "      <td>51255500</td>\n",
       "      <td>0.0</td>\n",
       "      <td>33.0</td>\n",
       "      <td>33.0</td>\n",
       "      <td>33.0</td>\n",
       "      <td>0.0</td>\n",
       "      <td>0.0</td>\n",
       "    </tr>\n",
       "    <tr>\n",
       "      <th>2689834</th>\n",
       "      <td>chr22</td>\n",
       "      <td>51256500</td>\n",
       "      <td>0.0</td>\n",
       "      <td>50.0</td>\n",
       "      <td>50.0</td>\n",
       "      <td>0.0</td>\n",
       "      <td>0.0</td>\n",
       "      <td>0.0</td>\n",
       "    </tr>\n",
       "    <tr>\n",
       "      <th>2689835</th>\n",
       "      <td>chr22</td>\n",
       "      <td>51257500</td>\n",
       "      <td>0.0</td>\n",
       "      <td>50.0</td>\n",
       "      <td>50.0</td>\n",
       "      <td>0.0</td>\n",
       "      <td>0.0</td>\n",
       "      <td>0.0</td>\n",
       "    </tr>\n",
       "  </tbody>\n",
       "</table>\n",
       "<p>2689836 rows × 8 columns</p>\n",
       "</div>"
      ],
      "text/plain": [
       "        chr_name       pos    G1    S1    S2    S3    S4   G2\n",
       "0           chr1     24500  41.0  16.0  25.0   6.0  13.0  0.0\n",
       "1           chr1     25500  41.0  16.0  25.0   6.0  13.0  0.0\n",
       "2           chr1     26500  41.0  16.0  25.0   6.0  13.0  0.0\n",
       "3           chr1     27500  41.0  16.0  25.0   6.0  13.0  0.0\n",
       "4           chr1     28500  41.0  16.0  25.0   6.0  13.0  0.0\n",
       "...          ...       ...   ...   ...   ...   ...   ...  ...\n",
       "2689831    chr22  51253500   0.0  33.0  33.0  33.0   0.0  0.0\n",
       "2689832    chr22  51254500   0.0  33.0  33.0  33.0   0.0  0.0\n",
       "2689833    chr22  51255500   0.0  33.0  33.0  33.0   0.0  0.0\n",
       "2689834    chr22  51256500   0.0  50.0  50.0   0.0   0.0  0.0\n",
       "2689835    chr22  51257500   0.0  50.0  50.0   0.0   0.0  0.0\n",
       "\n",
       "[2689836 rows x 8 columns]"
      ]
     },
     "execution_count": 28,
     "metadata": {},
     "output_type": "execute_result"
    }
   ],
   "source": [
    "RT_data"
   ]
  }
 ],
 "metadata": {
  "kernelspec": {
   "display_name": "embedding",
   "language": "python",
   "name": "embedding"
  },
  "language_info": {
   "codemirror_mode": {
    "name": "ipython",
    "version": 3
   },
   "file_extension": ".py",
   "mimetype": "text/x-python",
   "name": "python",
   "nbconvert_exporter": "python",
   "pygments_lexer": "ipython3",
   "version": "3.6.15"
  }
 },
 "nbformat": 4,
 "nbformat_minor": 2
}
