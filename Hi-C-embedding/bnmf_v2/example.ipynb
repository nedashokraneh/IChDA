{
 "cells": [
  {
   "cell_type": "markdown",
   "metadata": {},
   "source": [
    "##[Back to homepage](index.html)\n",
    "# A toy example for BNMF"
   ]
  },
  {
   "cell_type": "markdown",
   "metadata": {
    "collapsed": true
   },
   "source": [
    "The principle of our decomposition framework can be explained by an example. If a matrix is balanced, meaning equal row sums (and equal column sums), it can be decomposed into $A=HSH^{T}$ such as\n",
    "\\begin{aligned}\n",
    "A=\\left(\\begin{array}{ccc}\n",
    "0.5 & 0.5 & 0 \\newline\n",
    "0.5 & 0.5 & 0 \\newline\n",
    "0 & 0 & 1\n",
    "\\end{array}\\right),H & =\\left(\\begin{array}{cc}\n",
    "0.5 & 0 \\newline\n",
    "0.5 & 0 \\newline\n",
    "0 & 1\n",
    "\\end{array}\\right),S=\\left(\\begin{array}{cc}\n",
    "2 & 0 \\newline\n",
    "0 & 1\n",
    "\\end{array}\\right) \\newline\n",
    "W & =SH^{T}=\\left(\\begin{array}{cc}\n",
    "1 & 1 & 0 \\newline\n",
    "0 & 0 & 1 \\newline\n",
    "\\end{array}\\right)\n",
    "\\end{aligned}\n",
    "where all the column sums in $H$ are 1 and all the column sums in $W$ are 1.\n",
    "\n",
    "This property can help us to interpret the decomposition result: each column in $H$ saves the probabilities of each data point belonging to the cluster, while each column in $W$ saves the probability of a data point belonging to different clusters. For the two clusters, the corresponding sizes are 2 and 1 that are saved in the diagnal of $S$.\n",
    "\n",
    "However, such property requires the summation of each rows/columns in $A$ is equal to 1, which is very rare in real applications. Instead, we loose the constraint on the input by allowing a fixed bias at each position. Assume we have a new input $X$ which can be decomposed into $X=BAB$:\n",
    "\\begin{aligned}\n",
    "X=\\left(\\begin{array}{ccc}\n",
    "8 & 4 & 0 \\newline\n",
    "4 & 2 & 0 \\newline\n",
    "0 & 0 & 9\n",
    "\\end{array}\\right),B=\\left(\\begin{array}{ccc}\n",
    "4 & 0 & 0 \\newline\n",
    "0 & 2 & 0 \\newline\n",
    "0 & 0 & 3\n",
    "\\end{array}\\right)\n",
    "\\end{aligned}\n",
    "After combining the two formulas, we get the problem setting for BNMF.\n",
    "\\begin{aligned}\n",
    "X = BHSH^{T}B\n",
    "\\end{aligned}\n",
    "\n",
    "We can test this example in python."
   ]
  },
  {
   "cell_type": "markdown",
   "metadata": {},
   "source": [
    "###Import required modules"
   ]
  },
  {
   "cell_type": "code",
   "execution_count": 1,
   "metadata": {
    "collapsed": false
   },
   "outputs": [],
   "source": [
    "from contact_map import NMF_main, NNDSVD\n",
    "import numpy as np"
   ]
  },
  {
   "cell_type": "markdown",
   "metadata": {},
   "source": [
    "###Input matrix and matrix factors"
   ]
  },
  {
   "cell_type": "code",
   "execution_count": 2,
   "metadata": {
    "collapsed": false
   },
   "outputs": [],
   "source": [
    "H = np.matrix([[0.5,0],[0.5,0],[0,1]], dtype='float')\n",
    "S = np.matrix([[2,0],[0,1]], dtype='float')\n",
    "B = np.diagflat(np.array([4,2,3], dtype='float'))\n",
    "W = S*H.T\n",
    "A = H*W\n",
    "X = B*A*B"
   ]
  },
  {
   "cell_type": "code",
   "execution_count": 3,
   "metadata": {
    "collapsed": false
   },
   "outputs": [
    {
     "name": "stdout",
     "output_type": "stream",
     "text": [
      "[[ 8.  4.  0.]\n",
      " [ 4.  2.  0.]\n",
      " [ 0.  0.  9.]]\n"
     ]
    }
   ],
   "source": [
    "print X"
   ]
  },
  {
   "cell_type": "code",
   "execution_count": 4,
   "metadata": {
    "collapsed": false
   },
   "outputs": [
    {
     "name": "stdout",
     "output_type": "stream",
     "text": [
      "[[ 4.  0.  0.]\n",
      " [ 0.  2.  0.]\n",
      " [ 0.  0.  3.]]\n"
     ]
    }
   ],
   "source": [
    "print B"
   ]
  },
  {
   "cell_type": "code",
   "execution_count": 5,
   "metadata": {
    "collapsed": false
   },
   "outputs": [
    {
     "name": "stdout",
     "output_type": "stream",
     "text": [
      "[[ 0.5  0. ]\n",
      " [ 0.5  0. ]\n",
      " [ 0.   1. ]]\n"
     ]
    }
   ],
   "source": [
    "print H"
   ]
  },
  {
   "cell_type": "code",
   "execution_count": 6,
   "metadata": {
    "collapsed": false
   },
   "outputs": [
    {
     "name": "stdout",
     "output_type": "stream",
     "text": [
      "[[ 2.  0.]\n",
      " [ 0.  1.]]\n"
     ]
    }
   ],
   "source": [
    "print S"
   ]
  },
  {
   "cell_type": "code",
   "execution_count": 7,
   "metadata": {
    "collapsed": false
   },
   "outputs": [
    {
     "name": "stdout",
     "output_type": "stream",
     "text": [
      "[[ 1.  1.  0.]\n",
      " [ 0.  0.  1.]]\n"
     ]
    }
   ],
   "source": [
    "print W"
   ]
  },
  {
   "cell_type": "markdown",
   "metadata": {},
   "source": [
    "### Using BNMF to obtain matrix factors\n",
    "We initialize BNMF using NNDSVD [[Boutsidis&Gallopoulos2007](http://citeseerx.ist.psu.edu/viewdoc/download?rep=rep1&type=pdf&doi=10.1.1.137.8281)]. Because the matrix is so small, we set a large shift on matrix values by setting `add=1` in hope to avoid trivial solutions."
   ]
  },
  {
   "cell_type": "code",
   "execution_count": 8,
   "metadata": {
    "collapsed": false
   },
   "outputs": [
    {
     "name": "stdout",
     "output_type": "stream",
     "text": [
      "Singular values are: [ 12.55985189   9.2858118 ] ...\n",
      "[[ 1.76  1.  ]\n",
      " [ 1.45  1.  ]\n",
      " [ 1.47  2.  ]]\n",
      "[[ 13.56   1.  ]\n",
      " [  1.     8.21]]\n"
     ]
    }
   ],
   "source": [
    "initH, initS = NNDSVD(X, r=2, add=1)\n",
    "print np.round(initH, 2)\n",
    "print np.round(initS, 2)"
   ]
  },
  {
   "cell_type": "markdown",
   "metadata": {},
   "source": [
    "Run BNMF with following parameters.\n",
    "- `H=initH` sets the initial $H$\n",
    "- `S=initS` sets the initial $S$\n",
    "- `L=0` sets the manifold parameter $\\lambda$ to be zero because we don't need it now.\n",
    "- `r=2` sets the number of clusters to be 2."
   ]
  },
  {
   "cell_type": "code",
   "execution_count": 9,
   "metadata": {
    "collapsed": false,
    "scrolled": true
   },
   "outputs": [
    {
     "name": "stdout",
     "output_type": "stream",
     "text": [
      "> Solve NMF for size (3, 3) <class 'numpy.matrixlib.defmatrix.matrix'>\n",
      "Matrix density is 3.0 and mask 0\n",
      "Optimize available solution for H!\n",
      "Optimize available solution for S!\n",
      "Lambda for NMF-PoissonManifoldEqual is set to 0\n",
      "Initial objective is 379.620318695\n",
      "Current objective is 379.620318695;  \r",
      "\r",
      "\r",
      "\r",
      "\r",
      "\r",
      "\r",
      "\r",
      "\r",
      "\r",
      "\r",
      "\r",
      "\r",
      "\r",
      "\r",
      "\r",
      "\r",
      "\r",
      "\r",
      "\r",
      "\r",
      "\r",
      "\r",
      "\r",
      "\r",
      "\r",
      "\r",
      "\r",
      "\r",
      "\r",
      "\r",
      "\r",
      "\r",
      "\r",
      "\r",
      "\r",
      "Current objective is 14.8666786987;  \r",
      "\r",
      "\r",
      "\r",
      "\r",
      "\r",
      "\r",
      "\r",
      "\r",
      "\r",
      "\r",
      "\r",
      "\r",
      "\r",
      "\r",
      "\r",
      "\r",
      "\r",
      "\r",
      "\r",
      "\r",
      "\r",
      "\r",
      "\r",
      "\r",
      "\r",
      "\r",
      "\r",
      "\r",
      "\r",
      "\r",
      "\r",
      "\r",
      "\r",
      "\r",
      "\r",
      "Current objective is 10.4329130091;  \r",
      "\r",
      "\r",
      "\r",
      "\r",
      "\r",
      "\r",
      "\r",
      "\r",
      "\r",
      "\r",
      "\r",
      "\r",
      "\r",
      "\r",
      "\r",
      "\r",
      "\r",
      "\r",
      "\r",
      "\r",
      "\r",
      "\r",
      "\r",
      "\r",
      "\r",
      "\r",
      "\r",
      "\r",
      "\r",
      "\r",
      "\r",
      "\r",
      "\r",
      "\r",
      "\r",
      "Current objective is 3.7659690528;  \r",
      "\r",
      "\r",
      "\r",
      "\r",
      "\r",
      "\r",
      "\r",
      "\r",
      "\r",
      "\r",
      "\r",
      "\r",
      "\r",
      "\r",
      "\r",
      "\r",
      "\r",
      "\r",
      "\r",
      "\r",
      "\r",
      "\r",
      "\r",
      "\r",
      "\r",
      "\r",
      "\r",
      "\r",
      "\r",
      "\r",
      "\r",
      "\r",
      "\r",
      "\r",
      "Current objective is 0.390429838321;  \r",
      "\r",
      "\r",
      "\r",
      "\r",
      "\r",
      "\r",
      "\r",
      "\r",
      "\r",
      "\r",
      "\r",
      "\r",
      "\r",
      "\r",
      "\r",
      "\r",
      "\r",
      "\r",
      "\r",
      "\r",
      "\r",
      "\r",
      "\r",
      "\r",
      "\r",
      "\r",
      "\r",
      "\r",
      "\r",
      "\r",
      "\r",
      "\r",
      "\r",
      "\r",
      "\r",
      "\r",
      "Current objective is 0.00540347657656;  \r",
      "\r",
      "\r",
      "\r",
      "\r",
      "\r",
      "\r",
      "\r",
      "\r",
      "\r",
      "\r",
      "\r",
      "\r",
      "\r",
      "\r",
      "\r",
      "\r",
      "\r",
      "\r",
      "\r",
      "\r",
      "\r",
      "\r",
      "\r",
      "\r",
      "\r",
      "\r",
      "\r",
      "\r",
      "\r",
      "\r",
      "\r",
      "\r",
      "\r",
      "\r",
      "\r",
      "\r",
      "\r",
      "\r",
      "Current objective is 1.4996108284e-06;  \r",
      "\r",
      "\r",
      "\r",
      "\r",
      "\r",
      "\r",
      "\r",
      "\r",
      "\r",
      "\r",
      "\r",
      "\r",
      "\r",
      "\r",
      "\r",
      "\r",
      "\r",
      "\r",
      "\r",
      "\r",
      "\r",
      "\r",
      "\r",
      "\r",
      "\r",
      "\r",
      "\r",
      "\r",
      "\r",
      "\r",
      "\r",
      "\r",
      "\r",
      "\r",
      "\r",
      "\r",
      "\r",
      "\r",
      "Current objective is 1.27897692437e-13;  \r",
      "\r",
      "\r",
      "\r",
      "\r",
      "\r",
      "\r",
      "\r",
      "\r",
      "\r",
      "\r",
      "\r",
      "\r",
      "\r",
      "\r",
      "\r",
      "\r",
      "\r",
      "\r",
      "\r",
      "\r",
      "\r",
      "\r",
      "\r",
      "\r",
      "\r",
      "\r",
      "\r",
      "\r",
      "\r",
      "\r",
      "\r",
      "\r",
      "\r",
      "\r",
      "\r",
      "\r",
      "\r",
      "\r",
      "\r",
      "Current objective is 0.0;  \r",
      "\r",
      "\r",
      "\r",
      "\r",
      "\r",
      "\r",
      "\r",
      "\r",
      "\r",
      "\r",
      "\r",
      "\r",
      "\r",
      "\r",
      "\r",
      "\r",
      "\r",
      "\r",
      "\r",
      "\r",
      "\r",
      "\r",
      "\r",
      "\r",
      "\r",
      "Current objective is 3.5527136788e-15;  \r",
      "\r",
      "\r",
      "\r",
      "\r",
      "\r",
      "\r",
      "\r",
      "\r",
      "\r",
      "\r",
      "\r",
      "\r",
      "\r",
      "\r",
      "\r",
      "\r",
      "\r",
      "\r",
      "\r",
      "\r",
      "\r",
      "\r",
      "\r",
      "\r",
      "\r",
      "\r",
      "\r",
      "\r",
      "\r",
      "\r",
      "\r",
      "\r",
      "\r",
      "\r",
      "\r",
      "\r",
      "\r",
      "\r",
      "Current objective is 0.0;  \r",
      "\r",
      "\r",
      "\r",
      "\r",
      "\r",
      "\r",
      "\r",
      "\r",
      "\r",
      "\r",
      "\r",
      "\r",
      "\r",
      "\r",
      "\r",
      "\r",
      "\r",
      "\r",
      "\r",
      "\r",
      "\r",
      "\r",
      "\r",
      "\r",
      "\r",
      "Current objective is 0.0;  \n",
      "Density of H is 0.500; Density of S is 0.500;\n",
      "The best NMF-PoissonManifoldEqual objective for NMF is 0.0 with r=2 after 11 iterations.\n"
     ]
    }
   ],
   "source": [
    "outG, outS, nmf_obj = NMF_main(X, H=initH, S=initS, r=2, J='NMF-PoissonManifoldEqual', L=0)"
   ]
  },
  {
   "cell_type": "markdown",
   "metadata": {},
   "source": [
    "Extract $B$ and $H$ from $G=BH$ using\n",
    "$B = \\mathrm{Diag}(\\frac{n\\sum_{i=1}^{r}(SG{}^{T})_{i}}{\\sum_{i=1}^{r}\\sum_{j=1}^{n}(SG^{T})_{ij}}) $ and\n",
    "$H = B^{-1}G$ as shown in our paper."
   ]
  },
  {
   "cell_type": "code",
   "execution_count": 10,
   "metadata": {
    "collapsed": false
   },
   "outputs": [],
   "source": [
    "outB = np.asarray(np.dot(outG, outS)).mean(axis=1)\n",
    "outB /= outB.mean()\n",
    "outH = outG / outB[:,np.newaxis]"
   ]
  },
  {
   "cell_type": "markdown",
   "metadata": {},
   "source": [
    "###Check the solutions from BNMF"
   ]
  },
  {
   "cell_type": "code",
   "execution_count": 11,
   "metadata": {
    "collapsed": false,
    "scrolled": true
   },
   "outputs": [
    {
     "name": "stdout",
     "output_type": "stream",
     "text": [
      "[[ 1.33  0.    0.  ]\n",
      " [ 0.    0.67  0.  ]\n",
      " [ 0.    0.    1.  ]]\n"
     ]
    }
   ],
   "source": [
    "print np.diagflat(np.round(outB, 2))"
   ]
  },
  {
   "cell_type": "code",
   "execution_count": 12,
   "metadata": {
    "collapsed": false,
    "scrolled": true
   },
   "outputs": [
    {
     "name": "stdout",
     "output_type": "stream",
     "text": [
      "[[ 1.5   0.  ]\n",
      " [ 1.5   0.  ]\n",
      " [ 0.    3.01]]\n"
     ]
    }
   ],
   "source": [
    "print np.round(outH, 2)"
   ]
  },
  {
   "cell_type": "code",
   "execution_count": 13,
   "metadata": {
    "collapsed": false
   },
   "outputs": [
    {
     "name": "stdout",
     "output_type": "stream",
     "text": [
      "[[ 2.  0.]\n",
      " [ 0.  1.]]\n"
     ]
    }
   ],
   "source": [
    "print np.round(outS, 2)"
   ]
  },
  {
   "cell_type": "markdown",
   "metadata": {},
   "source": [
    "They are equal to our orignal matrix factors after proper scaling and ordering."
   ]
  },
  {
   "cell_type": "code",
   "execution_count": 14,
   "metadata": {
    "collapsed": false,
    "scrolled": true
   },
   "outputs": [
    {
     "name": "stdout",
     "output_type": "stream",
     "text": [
      "[[ 0.  0.  0.]\n",
      " [ 0.  0.  0.]\n",
      " [ 0.  0.  0.]]\n",
      "[[ 0.  0.]\n",
      " [ 0.  0.]\n",
      " [ 0.  0.]]\n",
      "[[ 0.  0.]\n",
      " [ 0.  0.]]\n"
     ]
    }
   ],
   "source": [
    "## scale S\n",
    "baseS = np.diag(outS).min()\n",
    "newS = outS / baseS\n",
    "\n",
    "## scale B and H\n",
    "baseH = outH.sum(0).mean()\n",
    "newH = outH / baseH\n",
    "newB = outB * baseH * np.sqrt(baseS)\n",
    "\n",
    "## change the cluster order\n",
    "ords = np.argsort(np.diag(newS))[::-1]\n",
    "newH = newH[:,ords]\n",
    "newS = newS[ords,:][:,ords]\n",
    "\n",
    "print np.round(np.diagflat(newB)-B, 1)\n",
    "print np.round(newH-H, 1)\n",
    "print np.round(newS-S, 1)"
   ]
  },
  {
   "cell_type": "markdown",
   "metadata": {},
   "source": [
    "Therefore, our BNMF works for this simple example.\n",
    "##[Back to homepage](index.html)"
   ]
  }
 ],
 "metadata": {
  "celltoolbar": "Raw Cell Format",
  "kernelspec": {
   "display_name": "Python 2",
   "language": "python",
   "name": "python2"
  },
  "language_info": {
   "codemirror_mode": {
    "name": "ipython",
    "version": 2
   },
   "file_extension": ".py",
   "mimetype": "text/x-python",
   "name": "python",
   "nbconvert_exporter": "python",
   "pygments_lexer": "ipython2",
   "version": "2.7.10"
  }
 },
 "nbformat": 4,
 "nbformat_minor": 0
}
