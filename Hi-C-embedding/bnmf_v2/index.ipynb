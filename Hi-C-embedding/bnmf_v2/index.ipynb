{
 "cells": [
  {
   "cell_type": "markdown",
   "metadata": {},
   "source": [
    "# Balanced Non-negative Matrix Factorization on Hi-C Contact Maps\n",
    "#### Xihao Hu, Christina Huan Shi, and Kevin Yip*\n",
    "#### The Chinese University of Hong Kong\n",
    "\n",
    "## Introduction\n",
    "\n",
    "\n",
    "Hi-C is a powerful experimental method to probe DNA-DNA long-range interactions on the whole genome [Lieberman-Aiden2009].\n",
    "\n",
    "We developed a novel computational method using a balanced non-negative matrix factorization (BNMF) that can flexibly identify small clusters of spatially proximal genomic regions based on Hi-C contact maps.\n",
    "\n",
    "Here, we give examples on how to use our tool.\n",
    "\n",
    "## Materials and Methods\n",
    "The environmental requirement is:\n",
    "- python 2.7 (https://www.python.org)\n",
    "- numpy (http://www.numpy.org/)\n",
    "- matplotlib (http://matplotlib.org/)\n",
    "- scipy [optional] (http://www.scipy.org/)\n",
    "- numexpr [optional] (https://github.com/pydata/numexpr)\n",
    "\n",
    "Or, you can use the free installer provided by [Anaconda](https://store.continuum.io/cshop/anaconda/) to avoid any configuration issue.\n",
    "\n",
    "Download the [bnmf package](bnmf_v2.tar.gz) that contains source codes and data.\n",
    "\n",
    "Uncompress it and you will see\n",
    "  - `contact_map.py` -- source code for BNMF\n",
    "  - `yeast_chr_len.txt` -- chromosome lengths for the yeast genome\n",
    "  - `hg18_chr_len.txt` -- chromosome lengths for the human genome using hg18 reference\n",
    "  - `HindIII_intersect_EcoRI_fdr0.01_inter.txt` -- yeast inter-chromosome interactions [Duan2010]\n",
    "  - `HindIII_intersect_EcoRI_fdr0.01_intra.txt` -- yeast intra-chromosome interactions [Duan2010]\n",
    "  - `origins_nonCDR_early.txt` -- yeast early origin sites [Duan2010]\n",
    "  - `IMR90.uij.chr22` -- human intra-chromosome interaction matrix at 40k resolution [Dixon2012]\n",
    "  - `IMR90.domain.txt` -- topological domains defined for IMR90 cell line [Dixon2012]\n",
    "  - `*.ipynb` -- the raw files used to generate this tutorial\n",
    "  - `*.html` -- ipython notebook files transformed into html format\n",
    "  \n",
    "Then, let's go through following examples:\n",
    "  \n",
    "1. [A toy example to show the idea of BNMF](example.html)\n",
    "2. [Studying on a yeast Hi-C contact map](yeast-hic.html)\n",
    "3. [Studying on a human Hi-C contact map](human-hic.html)\n",
    "\n",
    "If you have any problem on this tutorial or our paper, please contact the authors.\n",
    "## References\n",
    "\n",
    "1. Lieberman-Aiden et. al. 2009 Science. [Comprehensive mapping of long-Range interactions reveals folding principles of the human genome.](http://www.sciencemag.org/content/326/5950/289)\n",
    "2. Duan et. al. 2010 Nature. [A three-dimensional model of the yeast genome.](http://www.nature.com/nature/journal/v465/n7296/full/nature08973.html)\n",
    "3. Dixon et. al 2012 Nature. [Topological domains in mammalian genomes identified by analysis of chromatin interactions.](http://www.nature.com/nature/journal/v485/n7398/full/nature11082.html)"
   ]
  }
 ],
 "metadata": {
  "kernelspec": {
   "display_name": "Python 2",
   "language": "python",
   "name": "python2"
  },
  "language_info": {
   "codemirror_mode": {
    "name": "ipython",
    "version": 2
   },
   "file_extension": ".py",
   "mimetype": "text/x-python",
   "name": "python",
   "nbconvert_exporter": "python",
   "pygments_lexer": "ipython2",
   "version": "2.7.10"
  }
 },
 "nbformat": 4,
 "nbformat_minor": 0
}
