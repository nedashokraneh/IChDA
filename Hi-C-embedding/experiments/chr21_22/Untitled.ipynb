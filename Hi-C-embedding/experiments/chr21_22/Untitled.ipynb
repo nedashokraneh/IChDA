{
 "cells": [
  {
   "cell_type": "code",
   "execution_count": 1,
   "metadata": {
    "scrolled": true
   },
   "outputs": [
    {
     "name": "stderr",
     "output_type": "stream",
     "text": [
      "2021-12-01 11:46:05.679948: W tensorflow/stream_executor/platform/default/dso_loader.cc:64] Could not load dynamic library 'libcudart.so.11.0'; dlerror: libcudart.so.11.0: cannot open shared object file: No such file or directory; LD_LIBRARY_PATH: :/home/nshokran/gsl/lib\n",
      "2021-12-01 11:46:05.680006: I tensorflow/stream_executor/cuda/cudart_stub.cc:29] Ignore above cudart dlerror if you do not have a GPU set up on your machine.\n"
     ]
    },
    {
     "data": {
      "text/plain": [
       "<module 'numpy' from '/home/nshokran/miniconda3/envs/embedding/lib/python3.7/site-packages/numpy/__init__.py'>"
      ]
     },
     "execution_count": 1,
     "metadata": {},
     "output_type": "execute_result"
    }
   ],
   "source": [
    "import numpy as np\n",
    "import pandas as pd\n",
    "import seaborn as sns\n",
    "import matplotlib.pyplot as plt\n",
    "import sys\n",
    "sys.path.append(\"/home/nshokran/projects/utilities/\")\n",
    "sys.path.append(\"/home/nshokran/projects/Hi-C-embedding/GraphEmbedding\")\n",
    "import utils\n",
    "from ge.models import deepwalk, line, sdne\n",
    "import networkx as nx"
   ]
  },
  {
   "cell_type": "code",
   "execution_count": 3,
   "metadata": {},
   "outputs": [],
   "source": [
    "contact_matrices = {}\n",
    "for chr1 in np.arange(21,23):\n",
    "    for chr2 in np.arange(chr1,23):\n",
    "        contact_matrices[chr1,chr2] = utils.create_hic_mat('GM12878',chr1,chr2,100000,'oe')"
   ]
  },
  {
   "cell_type": "code",
   "execution_count": 26,
   "metadata": {},
   "outputs": [],
   "source": [
    "contact_lists = pd.DataFrame(columns = ['source', 'target', 'weight'])\n",
    "for chr1 in np.arange(21,23):\n",
    "    for chr2 in np.arange(chr1,23):\n",
    "        contact_lists = pd.concat([contact_lists,utils.create_hic_list('GM12878',chr1,chr2,100000,'oe')[0]])\n",
    "contact_lists['weight'] = np.arcsinh(contact_lists['weight'])\n",
    "contact_lists.sort_values(['source','target'], inplace = True)\n",
    "loops = contact_lists[contact_lists['source']==contact_lists['target']]\n",
    "non_loops = contact_lists[contact_lists['source']!=contact_lists['target']]\n",
    "reverse_non_loops = non_loops[['target','source','weight']]\n",
    "reverse_non_loops.columns = ['source','target','weight']\n",
    "sym_non_loops = pd.concat([non_loops,reverse_non_loops])\n",
    "sym_non_loops.sort_values(['source','target'], inplace = True)\n",
    "full_contact_lists = pd.concat([loops,sym_non_loops])\n",
    "full_contact_lists.sort_values(['source','target'], inplace = True)\n",
    "non_loops.to_csv(\"unidirectional.txt\", sep = \"\\t\", header = None, index = False)\n",
    "sym_non_loops.to_csv(\"bidirectional.txt\", sep = \"\\t\", header = None, index = False)\n",
    "full_contact_lists.to_csv(\"bidirectional_loops.txt\", sep = \"\\t\", header = None, index = False)"
   ]
  },
  {
   "cell_type": "code",
   "execution_count": 2,
   "metadata": {},
   "outputs": [
    {
     "data": {
      "text/plain": [
       "'\\nbi_G = nx.read_edgelist(\\'bidirectional.txt\\',create_using=nx.DiGraph(),delimiter = \"\\t\",\\n                         nodetype = int, data=((\"weight\", float),))#read graph\\nbi_loop_G = nx.read_edgelist(\\'bidirectional_loops.txt\\',create_using=nx.DiGraph(),delimiter = \"\\t\",\\n                         nodetype = int, data=((\"weight\", float),))#read graph\\n'"
      ]
     },
     "execution_count": 2,
     "metadata": {},
     "output_type": "execute_result"
    }
   ],
   "source": [
    "uni_G = nx.read_edgelist('unidirectional.txt',create_using=nx.DiGraph(),delimiter = \"\\t\",\n",
    "                         nodetype = int, data=((\"weight\", float),))#read graph\n",
    "'''\n",
    "bi_G = nx.read_edgelist('bidirectional.txt',create_using=nx.DiGraph(),delimiter = \"\\t\",\n",
    "                         nodetype = int, data=((\"weight\", float),))#read graph\n",
    "bi_loop_G = nx.read_edgelist('bidirectional_loops.txt',create_using=nx.DiGraph(),delimiter = \"\\t\",\n",
    "                         nodetype = int, data=((\"weight\", float),))#read graph\n",
    "'''"
   ]
  },
  {
   "cell_type": "code",
   "execution_count": null,
   "metadata": {},
   "outputs": [],
   "source": [
    "###LINE###\n",
    "model = line.LINE(uni_G,embedding_size=128,order='second') #init model,order can be ['first','second','all']\n",
    "model.train(batch_size=1024,epochs=50,verbose=2)# train model\n",
    "embeddings = model.get_embeddings()# get embedding vectors"
   ]
  },
  {
   "cell_type": "code",
   "execution_count": 7,
   "metadata": {},
   "outputs": [],
   "source": [
    "def make_embedding_df(embeddings_dict, dim):\n",
    "    embeddings_df = []\n",
    "    for key in embeddings_dict.keys():\n",
    "        emb_dict = {'node': key}\n",
    "        for e, emb in enumerate(embeddings_dict[key]):\n",
    "            emb_dict['emb'+str(e+1)] = emb\n",
    "        embeddings_df.append(emb_dict)\n",
    "    embeddings_df = pd.DataFrame(embeddings_df)\n",
    "    return embeddings_df"
   ]
  },
  {
   "cell_type": "code",
   "execution_count": null,
   "metadata": {},
   "outputs": [],
   "source": [
    "###here the batch size is greater than node size however in genome wide...\n",
    "sdne_model = sdne.SDNE(uni_G,hidden_size=[256,128]) #init model\n",
    "#sdne_model.train(batch_size=100,epochs=40,verbose=2)# train model\n",
    "#sdne_embeddings = sdne_model.get_embeddings()# get embedding vectors"
   ]
  },
  {
   "cell_type": "code",
   "execution_count": 26,
   "metadata": {},
   "outputs": [
    {
     "name": "stderr",
     "output_type": "stream",
     "text": [
      "/home/nshokran/miniconda3/envs/embedding/lib/python3.7/site-packages/seaborn/distributions.py:2619: FutureWarning: `distplot` is a deprecated function and will be removed in a future version. Please adapt your code to use either `displot` (a figure-level function with similar flexibility) or `histplot` (an axes-level function for histograms).\n",
      "  warnings.warn(msg, FutureWarning)\n",
      "/home/nshokran/miniconda3/envs/embedding/lib/python3.7/site-packages/seaborn/distributions.py:2619: FutureWarning: `distplot` is a deprecated function and will be removed in a future version. Please adapt your code to use either `displot` (a figure-level function with similar flexibility) or `histplot` (an axes-level function for histograms).\n",
      "  warnings.warn(msg, FutureWarning)\n",
      "/home/nshokran/miniconda3/envs/embedding/lib/python3.7/site-packages/seaborn/distributions.py:2619: FutureWarning: `distplot` is a deprecated function and will be removed in a future version. Please adapt your code to use either `displot` (a figure-level function with similar flexibility) or `histplot` (an axes-level function for histograms).\n",
      "  warnings.warn(msg, FutureWarning)\n"
     ]
    },
    {
     "data": {
      "image/png": "[encoded data removed]",
      "text/plain": [
       "<Figure size 432x288 with 1 Axes>"
      ]
     },
     "metadata": {
      "needs_background": "light"
     },
     "output_type": "display_data"
    }
   ],
   "source": [
    "chr1 = 21\n",
    "chr2 = 22\n",
    "sns.distplot(np.arcsinh(contact_matrices[chr1,chr1][contact_matrices[chr1,chr1]!=0]), label = str(chr1) + \"-\" + str(chr1))\n",
    "sns.distplot(np.arcsinh(contact_matrices[chr1,chr2][contact_matrices[chr1,chr2]!=0]), label = str(chr1) + \"-\" + str(chr2))\n",
    "sns.distplot(np.arcsinh(contact_matrices[chr2,chr2][contact_matrices[chr2,chr2]!=0]), label = str(chr2) + \"-\" + str(chr2))\n",
    "plt.legend()\n",
    "plt.show()"
   ]
  }
 ],
 "metadata": {
  "kernelspec": {
   "display_name": "embedding",
   "language": "python",
   "name": "embedding"
  },
  "language_info": {
   "codemirror_mode": {
    "name": "ipython",
    "version": 3
   },
   "file_extension": ".py",
   "mimetype": "text/x-python",
   "name": "python",
   "nbconvert_exporter": "python",
   "pygments_lexer": "ipython3",
   "version": "3.7.11"
  }
 },
 "nbformat": 4,
 "nbformat_minor": 4
}
